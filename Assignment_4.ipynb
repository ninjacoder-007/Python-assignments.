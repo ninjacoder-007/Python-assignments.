{
 "cells": [
  {
   "cell_type": "code",
   "execution_count": null,
   "id": "6b591874",
   "metadata": {},
   "outputs": [],
   "source": [
    "Q1. Which two operator overloading methods can you use in your classes to support iteration?\n",
    "\n",
    "ANS: __iter__ and __next__ are two operator overloading methods we can use in classes to support the iterations.\n",
    "    \n",
    "    "
   ]
  },
  {
   "cell_type": "code",
   "execution_count": null,
   "id": "cee426f4",
   "metadata": {},
   "outputs": [],
   "source": [
    "Q2. In what contexts do the two operator overloading methods manage printing?\n",
    "ANs: The printing is managed by two operator overloading by the context of  inheritance of the classes."
   ]
  },
  {
   "cell_type": "code",
   "execution_count": null,
   "id": "90f5eeb0",
   "metadata": {},
   "outputs": [],
   "source": [
    "Q3. In a class, how do you intercept slice operations?\n",
    "ANS:\n",
    "    In a class the slice operations intercept by the __getslice__(),__setslice__() and __delslice__()"
   ]
  },
  {
   "cell_type": "code",
   "execution_count": null,
   "id": "a7514623",
   "metadata": {},
   "outputs": [],
   "source": [
    "Q4. In a class, how do you capture in-place addition?\n",
    "\n",
    "ANS:\n",
    "    In a class in-place addition is captured by iadd(),isub() and iconcat()"
   ]
  },
  {
   "cell_type": "code",
   "execution_count": null,
   "id": "237cc67c",
   "metadata": {},
   "outputs": [],
   "source": [
    "Q5. When is it appropriate to use operator overloading?\n",
    "ANS:\n",
    "    The operator overloading is used for an operator for a user-difined data type. When we want to perform diff operations from single operator we use operator overloading."
   ]
  }
 ],
 "metadata": {
  "kernelspec": {
   "display_name": "Python 3",
   "language": "python",
   "name": "python3"
  },
  "language_info": {
   "codemirror_mode": {
    "name": "ipython",
    "version": 3
   },
   "file_extension": ".py",
   "mimetype": "text/x-python",
   "name": "python",
   "nbconvert_exporter": "python",
   "pygments_lexer": "ipython3",
   "version": "3.8.8"
  }
 },
 "nbformat": 4,
 "nbformat_minor": 5
}
