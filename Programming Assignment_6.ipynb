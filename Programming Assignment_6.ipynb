{
 "cells": [
  {
   "cell_type": "code",
   "execution_count": null,
   "id": "f625f827",
   "metadata": {},
   "outputs": [],
   "source": [
    "1. Write a Python Program to Display Fibonacci Sequence Using Recursion?"
   ]
  },
  {
   "cell_type": "code",
   "execution_count": 4,
   "id": "cf864607",
   "metadata": {},
   "outputs": [
    {
     "name": "stdout",
     "output_type": "stream",
     "text": [
      "Enter the number : 4\n",
      "Fibonacci Sequence: \n",
      "0\n",
      "1\n",
      "1\n",
      "2\n",
      "3\n",
      "5\n",
      "8\n",
      "13\n",
      "21\n",
      "34\n"
     ]
    },
    {
     "data": {
      "text/plain": [
       "3"
      ]
     },
     "execution_count": 4,
     "metadata": {},
     "output_type": "execute_result"
    }
   ],
   "source": [
    "n = int(input('Enter the number : '))\n",
    "def Recursion(n):\n",
    "    if n <= 1:\n",
    "        return n\n",
    "    else:\n",
    "        return (Recursion(n-1)+ Recursion(n-2))\n",
    "    \n",
    "terms = 10\n",
    "\n",
    "if terms <= 0:\n",
    "    print('Please enter valid input')\n",
    "else:\n",
    "    print('Fibonacci Sequence: ')\n",
    "    for i in range(terms):\n",
    "        print(Recursion(i))\n",
    "        \n",
    "Recursion(n)"
   ]
  },
  {
   "cell_type": "code",
   "execution_count": null,
   "id": "7574accd",
   "metadata": {},
   "outputs": [],
   "source": [
    "2. Write a Python Program to Find Factorial of Number Using Recursion?"
   ]
  },
  {
   "cell_type": "code",
   "execution_count": 6,
   "id": "08c982f6",
   "metadata": {},
   "outputs": [
    {
     "name": "stdout",
     "output_type": "stream",
     "text": [
      "Enter the number : 4\n",
      "The factorial of  4 is 24\n"
     ]
    },
    {
     "data": {
      "text/plain": [
       "24"
      ]
     },
     "execution_count": 6,
     "metadata": {},
     "output_type": "execute_result"
    }
   ],
   "source": [
    "n = int(input('Enter the number : '))\n",
    "def factorial(n):\n",
    "    if n == 1:\n",
    "        return n\n",
    "    else:\n",
    "        return n*factorial(n-1)\n",
    "if n < 0:\n",
    "    print('Invalid Input')\n",
    "elif n == 0:\n",
    "    print('The factorial of 0 is 1')\n",
    "else:\n",
    "    print('The factorial of ', n, 'is',factorial(n))\n",
    "    \n",
    "factorial(n)"
   ]
  },
  {
   "cell_type": "code",
   "execution_count": null,
   "id": "3cef8006",
   "metadata": {},
   "outputs": [],
   "source": [
    "3. Write a Python Program to calculate your Body Mass Index?"
   ]
  },
  {
   "cell_type": "code",
   "execution_count": 12,
   "id": "496fa44b",
   "metadata": {},
   "outputs": [
    {
     "name": "stdout",
     "output_type": "stream",
     "text": [
      "Enter the height : 6\n",
      "Enter the weight :  70\n"
     ]
    },
    {
     "data": {
      "text/plain": [
       "1.94"
      ]
     },
     "execution_count": 12,
     "metadata": {},
     "output_type": "execute_result"
    }
   ],
   "source": [
    "height = int(input('Enter the height : '))\n",
    "weight = int(input('Enter the weight :  '))\n",
    "\n",
    "def BMI(height, weight):\n",
    "    BMI = round(weight/(height*height),2)\n",
    "    return BMI\n",
    "    \n",
    "\n",
    "\n",
    "BMI(height,weight)"
   ]
  },
  {
   "cell_type": "code",
   "execution_count": null,
   "id": "f0bb2065",
   "metadata": {},
   "outputs": [],
   "source": [
    "4. Write a Python Program to calculate the natural logarithm of any number?"
   ]
  },
  {
   "cell_type": "code",
   "execution_count": 15,
   "id": "e6fb5328",
   "metadata": {},
   "outputs": [
    {
     "name": "stdout",
     "output_type": "stream",
     "text": [
      "Natural logaritm of  14 is\n",
      "2.6390573296152584\n"
     ]
    }
   ],
   "source": [
    "import math\n",
    "\n",
    "def log(n):\n",
    "    print(\"Natural logaritm of \", n, 'is', )\n",
    "    print(math.log(n))\n",
    "    \n",
    "log(14)\n",
    "    \n"
   ]
  },
  {
   "cell_type": "code",
   "execution_count": null,
   "id": "a38d965c",
   "metadata": {},
   "outputs": [],
   "source": [
    "5. Write a Python Program for cube sum of first n natural numbers?"
   ]
  },
  {
   "cell_type": "code",
   "execution_count": 16,
   "id": "a44b8bf9",
   "metadata": {},
   "outputs": [
    {
     "name": "stdout",
     "output_type": "stream",
     "text": [
      "Enter the number :5\n"
     ]
    },
    {
     "data": {
      "text/plain": [
       "225"
      ]
     },
     "execution_count": 16,
     "metadata": {},
     "output_type": "execute_result"
    }
   ],
   "source": [
    "n = int(input('Enter the number :'))\n",
    "def sum0(n):\n",
    "    sum = 0\n",
    "    for i in range(1,n+1):\n",
    "        sum +=i*i*i\n",
    "    return sum\n",
    "sum0(n)"
   ]
  },
  {
   "cell_type": "code",
   "execution_count": null,
   "id": "07f80b34",
   "metadata": {},
   "outputs": [],
   "source": []
  }
 ],
 "metadata": {
  "kernelspec": {
   "display_name": "Python 3",
   "language": "python",
   "name": "python3"
  },
  "language_info": {
   "codemirror_mode": {
    "name": "ipython",
    "version": 3
   },
   "file_extension": ".py",
   "mimetype": "text/x-python",
   "name": "python",
   "nbconvert_exporter": "python",
   "pygments_lexer": "ipython3",
   "version": "3.8.8"
  }
 },
 "nbformat": 4,
 "nbformat_minor": 5
}
