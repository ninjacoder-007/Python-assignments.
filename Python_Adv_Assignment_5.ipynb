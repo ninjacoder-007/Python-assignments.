{
 "cells": [
  {
   "cell_type": "code",
   "execution_count": null,
   "id": "2341d1ed",
   "metadata": {},
   "outputs": [],
   "source": [
    "What is the meaning of multiple inheritance?"
   ]
  },
  {
   "cell_type": "code",
   "execution_count": null,
   "id": "e7c8c899",
   "metadata": {},
   "outputs": [],
   "source": [
    "Multiple inheritance is the concept of oop's programming where class inherite the properties of more than one parent class."
   ]
  },
  {
   "cell_type": "code",
   "execution_count": null,
   "id": "d4e13191",
   "metadata": {},
   "outputs": [],
   "source": [
    "Q2. What is the concept of delegation?"
   ]
  },
  {
   "cell_type": "code",
   "execution_count": null,
   "id": "d3484489",
   "metadata": {},
   "outputs": [],
   "source": [
    "Delegation is the concept of oops programming which is used when we have to change the properties of one method of the class then we can create the new class for than methos and then delegating other methods to that class."
   ]
  },
  {
   "cell_type": "code",
   "execution_count": null,
   "id": "1c4845c5",
   "metadata": {},
   "outputs": [],
   "source": [
    "Q3. What is the concept of composition?"
   ]
  },
  {
   "cell_type": "code",
   "execution_count": null,
   "id": "dc7201cd",
   "metadata": {},
   "outputs": [],
   "source": [
    "Composition is the oops concept in python where it describes the class which refers to one or more objects of other classes in instanc variables."
   ]
  },
  {
   "cell_type": "code",
   "execution_count": null,
   "id": "ed0a7d49",
   "metadata": {},
   "outputs": [],
   "source": [
    "Q4. What are bound methods and how do we use them?"
   ]
  },
  {
   "cell_type": "code",
   "execution_count": null,
   "id": "24943fe8",
   "metadata": {},
   "outputs": [],
   "source": [
    "If a function is an attribute of class and it is accessed via the instances, they are called the bound methods.\n",
    "A bound method contains 'self' as its very first argument. We can use bound methods by help of self argument.\n",
    "When there are more than two instances we can alter the properties of required instance if they have self argument."
   ]
  },
  {
   "cell_type": "code",
   "execution_count": null,
   "id": "ad0bf25a",
   "metadata": {},
   "outputs": [],
   "source": [
    "Q5. What is the purpose of pseudoprivate attributes?"
   ]
  },
  {
   "cell_type": "code",
   "execution_count": null,
   "id": "f639f896",
   "metadata": {},
   "outputs": [],
   "source": [
    "Pseudoprivate attributes are used to avoid the namspaces collisions in instances , not to restrict access to names in general."
   ]
  }
 ],
 "metadata": {
  "kernelspec": {
   "display_name": "Python 3",
   "language": "python",
   "name": "python3"
  },
  "language_info": {
   "codemirror_mode": {
    "name": "ipython",
    "version": 3
   },
   "file_extension": ".py",
   "mimetype": "text/x-python",
   "name": "python",
   "nbconvert_exporter": "python",
   "pygments_lexer": "ipython3",
   "version": "3.8.8"
  }
 },
 "nbformat": 4,
 "nbformat_minor": 5
}
