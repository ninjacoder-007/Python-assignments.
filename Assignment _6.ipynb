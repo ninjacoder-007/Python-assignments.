{
 "cells": [
  {
   "cell_type": "code",
   "execution_count": null,
   "id": "8db7f273",
   "metadata": {},
   "outputs": [],
   "source": [
    "1. What are escape characters, and how do you use them?\n",
    "\n",
    "Ans.Escape characters are the ones by which we can put a character in a string which we cannot put into string normally. It consist of a backslash(\\) followed by the character we want to put into a particular string."
   ]
  },
  {
   "cell_type": "code",
   "execution_count": null,
   "id": "8a44e219",
   "metadata": {},
   "outputs": [],
   "source": [
    "2. What do the escape characters n and t stand for?\n",
    "\n",
    "Ans The n stands for a new line and t stands for a Tab"
   ]
  },
  {
   "cell_type": "code",
   "execution_count": null,
   "id": "ffa277de",
   "metadata": {},
   "outputs": [],
   "source": [
    "3. What is the way to include backslash characters in a string?\n",
    "Ans By double backslash we can include backslash character in string as like this (\\\\)"
   ]
  },
  {
   "cell_type": "code",
   "execution_count": null,
   "id": "279af526",
   "metadata": {},
   "outputs": [],
   "source": [
    "The string &quot;Howl&#39;s Moving Castle&quot; is a correct value. Why isn&#39;t the single quote character in the\n",
    "word Howl&#39;s not escaped a problem?\n",
    "Ans. The string is quoted into double quotes and the \"Howl's\" contain single quote that is inside the double quote its a single quote. Therefore it not a escape problem."
   ]
  },
  {
   "cell_type": "code",
   "execution_count": null,
   "id": "e5cd2f4b",
   "metadata": {},
   "outputs": [],
   "source": [
    "5. How do you write a string of newlines if you don&#39;t want to use the n character?\n",
    "ANS We can write a string of newlines without using n by using the \"end\" parameter in the print function and giving double blank space in the end parameter as a value."
   ]
  },
  {
   "cell_type": "code",
   "execution_count": null,
   "id": "e9842dc2",
   "metadata": {},
   "outputs": [],
   "source": [
    "6. What are the values of the given expressions?\n",
    "'Hello, world!'[1] -> 'e'\n",
    "'Hello, world!'[0:5]-> 'Hello'\n",
    "'Hello, world!'[:5]-> 'Hello'\n",
    "'Hello, world!'[3:]->'lo, world!'\n"
   ]
  },
  {
   "cell_type": "code",
   "execution_count": null,
   "id": "4cc90127",
   "metadata": {},
   "outputs": [],
   "source": [
    "7. What are the values of the following expressions?\n",
    "'Hello.upper()'-> HELLO\n",
    "'Hello'.upper().isupper()->True\n",
    "'Hello'.upper().lower()-> hello\n"
   ]
  },
  {
   "cell_type": "code",
   "execution_count": 11,
   "id": "95751d2c",
   "metadata": {},
   "outputs": [
    {
     "data": {
      "text/plain": [
       "['Remember,', 'remember,', 'the', 'fifth', 'of', 'July.']"
      ]
     },
     "execution_count": 11,
     "metadata": {},
     "output_type": "execute_result"
    }
   ],
   "source": [
    "8. What are the values of the following expressions?\n",
    "'Remember, remember, the fifth of July.'.split()\n",
    "Ans-['Remember,', 'remember,', 'the', 'fifth', 'of', 'July.']\n",
    "\n",
    "'-'.join('There can only one.'.split())\n",
    "ans = 'There-can-only-one.'\n"
   ]
  },
  {
   "cell_type": "code",
   "execution_count": null,
   "id": "65ef2725",
   "metadata": {},
   "outputs": [],
   "source": [
    "9. What are the methods for right-justifying, left-justifying, and centering a string?\n",
    "\n",
    "For right-justifying rjust()\n",
    "left-justifying ljust()\n",
    "center a string center()"
   ]
  },
  {
   "cell_type": "code",
   "execution_count": null,
   "id": "fa31d7d7",
   "metadata": {},
   "outputs": [],
   "source": [
    "10. What is the best way to remove whitespace characters from the start or end?\n",
    "strip() method removes the whitespace characters from the start and end of string."
   ]
  }
 ],
 "metadata": {
  "kernelspec": {
   "display_name": "Python 3",
   "language": "python",
   "name": "python3"
  },
  "language_info": {
   "codemirror_mode": {
    "name": "ipython",
    "version": 3
   },
   "file_extension": ".py",
   "mimetype": "text/x-python",
   "name": "python",
   "nbconvert_exporter": "python",
   "pygments_lexer": "ipython3",
   "version": "3.8.8"
  }
 },
 "nbformat": 4,
 "nbformat_minor": 5
}
