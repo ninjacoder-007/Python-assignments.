{
 "cells": [
  {
   "cell_type": "code",
   "execution_count": null,
   "id": "81f54609",
   "metadata": {},
   "outputs": [],
   "source": [
    "Q1. What is the difference between __getattr__ and __getattribute__?"
   ]
  },
  {
   "cell_type": "code",
   "execution_count": null,
   "id": "d11ed652",
   "metadata": {},
   "outputs": [],
   "source": [
    "The difference between __getattr__ and __getattribute__ is that the __getattr__ is used when attribute is not found by usual way whereas the __getattribute__ is used before looking at the actual attributes on the object."
   ]
  },
  {
   "cell_type": "code",
   "execution_count": null,
   "id": "ea0727ea",
   "metadata": {},
   "outputs": [],
   "source": [
    "Q2. What is the difference between properties and descriptors?"
   ]
  },
  {
   "cell_type": "code",
   "execution_count": null,
   "id": "7acbe479",
   "metadata": {},
   "outputs": [],
   "source": [
    "The difference between properties and descriptors\n",
    "\n",
    "properties\n",
    "Properties can be considered the \"Pythonic\" way of working with attributes because:\n",
    "\n",
    "The syntax used to define properties is very concise and readable. You can access instance attributes exactly as if they were public attributes while using the \"magic\" of intermediaries (getters and setters) to validate new values and to avoid accessing or modifying the data directly. By using @property, you can \"reuse\" the name of a property to avoid creating new names for the getters, setters, and deleters.\n",
    "\n",
    "descriptor\n",
    "Python descriptors are created to manage the attributes of different classes which use the object as reference. In descriptors we used three different methods that are getters(), setters(), and delete(). If any of those methods are defined for an object, it can be termed as a descriptor. Normally, Python uses methods like getters and setters to adjust the values on attributes without any special processing. It’s just a basic storage system. Sometimes, You might need to validate the values that are being assigned to a value. A descriptor is a mechanism behind properties, methods, static methods, class methods, and super().\n",
    "\n",
    " "
   ]
  },
  {
   "cell_type": "code",
   "execution_count": null,
   "id": "61cc9092",
   "metadata": {},
   "outputs": [],
   "source": [
    "Q3. What are the key differences in functionality between __getattr__ and __getattribute__, as well as\n",
    "properties and descriptors?"
   ]
  },
  {
   "cell_type": "code",
   "execution_count": null,
   "id": "93751c17",
   "metadata": {},
   "outputs": [],
   "source": [
    "Going back to the getattribute function; if the default implementation was not overridden; the following checks are done when executing the method:\n",
    "\n",
    "Check if there is a descriptor with the same name (attribute name) defined in any class in the MRO chain (method object resolution) Then looks into the instance’s namespace Then looks into the class namespace Then into each base’s namespace and so on. Finally, if not found, the default implementation calls the fallback getattr() method of the instance and it raises an AttributeError exception as default implementation.\n",
    "\n",
    "You should read the docs on what descriptors actually are. The Cliff's Notes version: descriptors are a low-level mechanism that lets you hook into an object's attributes being accessed. Properties are a high-level application of this; that is, properties are implemented using descriptors. Or, better yet, properties are descriptors that are already provided for you in the standard library.\n",
    "\n",
    "If you need a simple way to return a computed value from an attribute read, or to call a function on an attribute write, use the @property decorator. The descriptor API is more flexible, but less convenient, and arguably \"overkill\" and non-idiomatic in this situation. It's useful for more advanced use cases, like implementing bound methods, or static and class methods; when you need to know, for example, if the attribute was accessed through the type object, or an instance of the type."
   ]
  }
 ],
 "metadata": {
  "kernelspec": {
   "display_name": "Python 3",
   "language": "python",
   "name": "python3"
  },
  "language_info": {
   "codemirror_mode": {
    "name": "ipython",
    "version": 3
   },
   "file_extension": ".py",
   "mimetype": "text/x-python",
   "name": "python",
   "nbconvert_exporter": "python",
   "pygments_lexer": "ipython3",
   "version": "3.8.8"
  }
 },
 "nbformat": 4,
 "nbformat_minor": 5
}
