{
 "cells": [
  {
   "cell_type": "code",
   "execution_count": null,
   "id": "9c2ba3b6",
   "metadata": {},
   "outputs": [],
   "source": [
    "1. Why are functions advantageous to have in your programs?\n",
    "\n",
    "-> The use of functions increases the readability, reuseability and modularity of the code that is the advatage of functions why we use it in code so often."
   ]
  },
  {
   "cell_type": "code",
   "execution_count": null,
   "id": "680740cb",
   "metadata": {},
   "outputs": [],
   "source": [
    "2. When does the code in a function run: when it&#39;s specified or when it&#39;s called?\n",
    "    \n",
    "    -> The code in function run after calling it."
   ]
  },
  {
   "cell_type": "code",
   "execution_count": null,
   "id": "7cf053bd",
   "metadata": {},
   "outputs": [],
   "source": [
    "3. What statement creates a function?\n",
    "\n",
    "-> def functionName():\n",
    "    The above statement creates a function and we can give so many arguments in the parenthesis of it."
   ]
  },
  {
   "cell_type": "code",
   "execution_count": null,
   "id": "1dc950bd",
   "metadata": {},
   "outputs": [],
   "source": [
    "4. What is the difference between a function and a function call?\n",
    "-> Function is the part of programme where we define the function under which we write some code for executing it and receving desired output where as the function call is the statement by which the code in the function runs when we specifies the function call in the code."
   ]
  },
  {
   "cell_type": "code",
   "execution_count": null,
   "id": "48e95dff",
   "metadata": {},
   "outputs": [],
   "source": [
    "5. How many global scopes are there in a Python program? How many local scopes?\n",
    "-> The variable assigned outside the function is the global scope of the variable, when there is no any variable inside the function then global variable will call itself by default, whereas variables created inside the function are the local variable and it will call itself when the function gets the call. We can assign as many local scopes and global scope in code as we want. "
   ]
  },
  {
   "cell_type": "code",
   "execution_count": null,
   "id": "3c88aa9d",
   "metadata": {},
   "outputs": [],
   "source": [
    "6. What happens to variables in a local scope when the function call returns?\n",
    "\n",
    "-> The variables in local scopes get destroyed and got forgotten when the function call returns."
   ]
  },
  {
   "cell_type": "code",
   "execution_count": null,
   "id": "8149d310",
   "metadata": {},
   "outputs": [],
   "source": [
    "7. What is the concept of a return value? Is it possible to have a return value in an expression?\n",
    "\n",
    "-> The return value is the value we get after the function computes itself with the code that we have written in the body.Sometimes it is possible to have expression in return value with some conditions and restrictions."
   ]
  },
  {
   "cell_type": "code",
   "execution_count": null,
   "id": "94094727",
   "metadata": {},
   "outputs": [],
   "source": [
    "8. If a function does not have a return statement, what is the return value of a call to that function?\n",
    "\n",
    "-> If a function dose not have a return statement then it will return None after call to that function but if there are if/else conditions in the code then it will give the output as False."
   ]
  },
  {
   "cell_type": "code",
   "execution_count": null,
   "id": "cf538036",
   "metadata": {},
   "outputs": [],
   "source": [
    "9. How do you make a function variable refer to the global variable?\n",
    "-> By writing global before the local variable we can refer global variable to function variable."
   ]
  },
  {
   "cell_type": "code",
   "execution_count": null,
   "id": "7b35867b",
   "metadata": {},
   "outputs": [],
   "source": [
    "10. What is the data type of None?\n",
    "-> NoneType is only data type of None."
   ]
  },
  {
   "cell_type": "code",
   "execution_count": null,
   "id": "14882c9f",
   "metadata": {},
   "outputs": [],
   "source": [
    "11. What does the sentence import areallyourpetsnamederic do?\n",
    "->It will import/download the package from pip or conda to your local system."
   ]
  },
  {
   "cell_type": "code",
   "execution_count": null,
   "id": "12199815",
   "metadata": {},
   "outputs": [],
   "source": [
    "12. If you had a bacon() feature in a spam module, what would you call it after importing spam?\n",
    "\n",
    "-> We would call it like this   spam.bacon()"
   ]
  },
  {
   "cell_type": "code",
   "execution_count": null,
   "id": "cf130a44",
   "metadata": {},
   "outputs": [],
   "source": [
    "13. What can you do to save a programme from crashing if it encounters an error?\n",
    "-> We can use the try and except blocks in the programme at a suspicious code to save programme from crashing it. "
   ]
  },
  {
   "cell_type": "code",
   "execution_count": null,
   "id": "2c55b37d",
   "metadata": {},
   "outputs": [],
   "source": [
    "14. What is the purpose of the try clause? What is the purpose of the except clause?\n",
    "-> try clause we use to try the certain code to be run and if in between error occures it does not crash the whole programme as it will just pass to except clasue and in except clasue the exception/error handled without crashing the programme and the programme runs its other code without any failuare."
   ]
  }
 ],
 "metadata": {
  "kernelspec": {
   "display_name": "Python 3",
   "language": "python",
   "name": "python3"
  },
  "language_info": {
   "codemirror_mode": {
    "name": "ipython",
    "version": 3
   },
   "file_extension": ".py",
   "mimetype": "text/x-python",
   "name": "python",
   "nbconvert_exporter": "python",
   "pygments_lexer": "ipython3",
   "version": "3.8.8"
  }
 },
 "nbformat": 4,
 "nbformat_minor": 5
}
