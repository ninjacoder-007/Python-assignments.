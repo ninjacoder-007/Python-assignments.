{
 "cells": [
  {
   "cell_type": "code",
   "execution_count": null,
   "id": "7d764596",
   "metadata": {},
   "outputs": [],
   "source": [
    "Q1. Can you create a programme or function that employs both positive and negative indexing? Is there any repercussion if you do so?"
   ]
  },
  {
   "cell_type": "code",
   "execution_count": 1,
   "id": "7df9264a",
   "metadata": {},
   "outputs": [],
   "source": [
    "def negative_indexing():\n",
    "    test_list = [5, 7, 8, 2, 3, 5, 1]\n",
    "     # printing original list\n",
    "    print(\"The original list is : \" + str(test_list))\n",
    "\n",
    "    # initializing Element\n",
    "    K = 3\n",
    "\n",
    "    # -1 operator to reverse list, index() used to get index\n",
    "    res = ~test_list[::-1].index(K)\n",
    "\n",
    "    # printing result\n",
    "    print(\"The required Negative index : \" + str(res))"
   ]
  },
  {
   "cell_type": "code",
   "execution_count": 2,
   "id": "b4126a0c",
   "metadata": {},
   "outputs": [
    {
     "name": "stdout",
     "output_type": "stream",
     "text": [
      "The original list is : [5, 7, 8, 2, 3, 5, 1]\n",
      "The required Negative index : -3\n"
     ]
    }
   ],
   "source": [
    "negative_indexing()\n"
   ]
  },
  {
   "cell_type": "code",
   "execution_count": 3,
   "id": "0e78ac46",
   "metadata": {},
   "outputs": [],
   "source": [
    "def negative_indexing():\n",
    "    # initializing list\n",
    "        test_list = [5, 7, 8, 2, 3, 5, 1,5,9,7,0]\n",
    " \n",
    "        # printing original list\n",
    "        print(\"The original list is : \" + str(test_list))\n",
    "\n",
    "        # initializing Element\n",
    "        K = 3\n",
    "\n",
    "        # getting length using len() and subtracting index from it\n",
    "        res = len(test_list) - test_list.index(K)\n",
    "\n",
    "        # printing result\n",
    "        print(\"The required Negative index : -\" + str(res))"
   ]
  },
  {
   "cell_type": "code",
   "execution_count": 4,
   "id": "74a88f3b",
   "metadata": {},
   "outputs": [
    {
     "name": "stdout",
     "output_type": "stream",
     "text": [
      "The original list is : [5, 7, 8, 2, 3, 5, 1, 5, 9, 7, 0]\n",
      "The required Negative index : -7\n"
     ]
    }
   ],
   "source": [
    "negative_indexing()"
   ]
  },
  {
   "cell_type": "code",
   "execution_count": 5,
   "id": "22da7c5c",
   "metadata": {},
   "outputs": [],
   "source": [
    "def slicing(val):\n",
    "    print(val[0:])\n",
    "    print(val[-6:])"
   ]
  },
  {
   "cell_type": "code",
   "execution_count": 6,
   "id": "51bdcfb4",
   "metadata": {},
   "outputs": [
    {
     "name": "stdout",
     "output_type": "stream",
     "text": [
      "ineuron\n",
      "neuron\n"
     ]
    }
   ],
   "source": [
    "slicing('ineuron')"
   ]
  },
  {
   "cell_type": "code",
   "execution_count": null,
   "id": "bb9923ea",
   "metadata": {},
   "outputs": [],
   "source": [
    "Q2.What is the most effective way of starting with 1,000 elements in a Python list? Assume that all elements should be set to the same value."
   ]
  },
  {
   "cell_type": "code",
   "execution_count": 7,
   "id": "60bd0418",
   "metadata": {},
   "outputs": [
    {
     "name": "stdout",
     "output_type": "stream",
     "text": [
      "range(0, 1000)\n"
     ]
    }
   ],
   "source": [
    "i = range(1000)\n",
    "print(i)\n"
   ]
  },
  {
   "cell_type": "code",
   "execution_count": 8,
   "id": "1f52c5b6",
   "metadata": {},
   "outputs": [
    {
     "name": "stdout",
     "output_type": "stream",
     "text": [
      "range(0, 1000)"
     ]
    }
   ],
   "source": [
    "import pydoc\n",
    "i = range(1000)\n",
    "pydoc.pager(str(i))"
   ]
  },
  {
   "cell_type": "code",
   "execution_count": 9,
   "id": "dc37bbfc",
   "metadata": {},
   "outputs": [
    {
     "data": {
      "text/plain": [
       "range(100, 200)"
      ]
     },
     "execution_count": 9,
     "metadata": {},
     "output_type": "execute_result"
    }
   ],
   "source": [
    "i[100:200]"
   ]
  },
  {
   "cell_type": "code",
   "execution_count": null,
   "id": "6ae7c8d0",
   "metadata": {},
   "outputs": [],
   "source": [
    "Q3. How do you slice a list to get any other part while missing the rest? (For example, suppose you want to make a new list with the elements first, third, fifth, seventh, and so on.)"
   ]
  },
  {
   "cell_type": "code",
   "execution_count": 10,
   "id": "bcd752ea",
   "metadata": {},
   "outputs": [
    {
     "data": {
      "text/plain": [
       "['first', 'third', 'fifth']"
      ]
     },
     "execution_count": 10,
     "metadata": {},
     "output_type": "execute_result"
    }
   ],
   "source": [
    "ls=['first', 'third', 'fifth', 'seventh']\n",
    "ls[0:3]"
   ]
  },
  {
   "cell_type": "code",
   "execution_count": null,
   "id": "8377bcc3",
   "metadata": {},
   "outputs": [],
   "source": [
    "Q4. Explain the distinctions between indexing and slicing."
   ]
  },
  {
   "cell_type": "code",
   "execution_count": null,
   "id": "8d1a3d9a",
   "metadata": {},
   "outputs": [],
   "source": [
    "Indexing” means referring to an element of an iterable by its position within the iterable.\n",
    "\n",
    "“Slicing” means getting a subset of elements from an iterable based on their indices.\n",
    "\n",
    "Indexing: Indexing is used to obtain individual elements. Slicing: Slicing is used to obtain a sequence of element"
   ]
  },
  {
   "cell_type": "code",
   "execution_count": null,
   "id": "f296d3a9",
   "metadata": {},
   "outputs": [],
   "source": [
    "Q5. What happens if one of the slicing expression's indexes is out of range?"
   ]
  },
  {
   "cell_type": "code",
   "execution_count": null,
   "id": "4caf3398",
   "metadata": {},
   "outputs": [],
   "source": [
    "The slicing operation doesn't raise an error if both your start and stop indices are larger than the sequence length. This is in contrast to simple indexing—if you index an element that is out of bounds, Python will throw an index out of bounds error. However, with slicing it simply returns an empty sequence.\n",
    "\n",
    "Indexing returns a single item, but slicing returns a subsequence of items. So when you try to index a nonexistent value, there's nothing to return. But when you slice a sequence outside of bounds, you can still return an empty sequence.09"
   ]
  },
  {
   "cell_type": "code",
   "execution_count": null,
   "id": "d468c5a3",
   "metadata": {},
   "outputs": [],
   "source": [
    "Q6. If you pass a list to a function, and if you want the function to be able to change the values of the list—so that the list is different after the function returns—what action should you avoid?"
   ]
  },
  {
   "cell_type": "code",
   "execution_count": 11,
   "id": "7030ee43",
   "metadata": {},
   "outputs": [
    {
     "name": "stdout",
     "output_type": "stream",
     "text": [
      "1554046529408\n",
      "1554046529408\n"
     ]
    },
    {
     "data": {
      "text/plain": [
       "[22, 2, 3, 4]"
      ]
     },
     "execution_count": 11,
     "metadata": {},
     "output_type": "execute_result"
    }
   ],
   "source": [
    "ls=[1,2,3,4]\n",
    "print(id(ls))\n",
    "ls[0]=22\n",
    "print(id(ls))\n",
    "ls"
   ]
  },
  {
   "cell_type": "code",
   "execution_count": null,
   "id": "798cca39",
   "metadata": {},
   "outputs": [],
   "source": [
    "Q7. What is the concept of an unbalanced matrix?"
   ]
  },
  {
   "cell_type": "code",
   "execution_count": null,
   "id": "6d9d2694",
   "metadata": {},
   "outputs": [],
   "source": [
    "Given a matrix mat[][] of dimensions NxM, the task is to check whether the given matrix is balanced or not. Print “Balanced” if it is a balanced matrix else print “Unbalanced”.\n",
    "\n",
    "Input: N = 3, M = 3 mat[][] = {{1, 2, 3}, {4, 5, 6}, {7, 8, 9}} Output: Unbalanced Explanation: Each cell of the given grid is not stable, so the overall grid is unbalanced. Input: N = 3, M = 3 mat[][] = {{1, 2, 1}, {2, 3, 2}, {1, 2, 1}} Output: Balanced Explanation: Each cell of the given grid is stable, so the overall grid is Balanced.\n",
    "\n",
    "Approach:\n",
    "\n",
    "1.Traverse the given matrix mat[][].\n",
    "\n",
    "2.For each cell of the matrix check if all the adjacent cells i.e., mat[i+1][j], mat[i][j+1], mat[i-1][j], mat[i][j-1] are strictly smaller than the current cell.\n",
    "\n",
    "3.For the corner cells of the matrix, there are only two adjacent cells i.e., mat[i+1][j] and mat[i][j+1] check if all these adjacent cells are strictly smaller than the corner cell.\n",
    "\n",
    "4.For border cell of the matrix, there are 3 adjacent cells i.e., mat[i-1][j], mat[i+1][j], and mat[i][j+1] check if all these adjacent cells are strictly smaller than the border cell.\n",
    "\n",
    "5.If all the above conditions are true for all the cells of the matrix then print “Balanced” else print “Unbalanced”."
   ]
  },
  {
   "cell_type": "code",
   "execution_count": null,
   "id": "a0c695a8",
   "metadata": {},
   "outputs": [],
   "source": [
    "Q8. Why is it necessary to use either list comprehension or a loop to create arbitrarily large matrices?"
   ]
  },
  {
   "cell_type": "code",
   "execution_count": null,
   "id": "081ab16b",
   "metadata": {},
   "outputs": [],
   "source": [
    "bcoz with the help of list comphrensions or loop we can createa any shape r size of matrix.Lot many iterations we can used there to create any matrix."
   ]
  }
 ],
 "metadata": {
  "kernelspec": {
   "display_name": "Python 3",
   "language": "python",
   "name": "python3"
  },
  "language_info": {
   "codemirror_mode": {
    "name": "ipython",
    "version": 3
   },
   "file_extension": ".py",
   "mimetype": "text/x-python",
   "name": "python",
   "nbconvert_exporter": "python",
   "pygments_lexer": "ipython3",
   "version": "3.8.8"
  }
 },
 "nbformat": 4,
 "nbformat_minor": 5
}
