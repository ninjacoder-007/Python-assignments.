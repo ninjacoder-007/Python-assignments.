{
 "cells": [
  {
   "cell_type": "code",
   "execution_count": null,
   "id": "06df7a96",
   "metadata": {},
   "outputs": [],
   "source": [
    "1. Create a function that takes a list and returns a new list containing only prime numbers.\n",
    "Examples\n",
    "\n",
    "filter_primes([7, 9, 3, 9, 10, 11, 27]) ➞ [7, 3, 11]\n",
    "\n",
    "filter_primes([10007, 1009, 1007, 27, 147, 77, 1001, 70]) ➞ [10007, 1009]\n",
    "\n",
    "filter_primes([1009, 10, 10, 10, 3, 33, 9, 4, 1, 61, 63, 69, 1087, 1091, 1093, 1097]) ➞ [1009, 3, 61, 1087, 1091, 1093, 1097]"
   ]
  },
  {
   "cell_type": "code",
   "execution_count": 1,
   "id": "20420c6b",
   "metadata": {},
   "outputs": [
    {
     "name": "stdout",
     "output_type": "stream",
     "text": [
      "[7, 3, 11]\n",
      "[10007, 1009]\n",
      "[1009, 3, 61, 1087, 1091, 1093, 1097]\n"
     ]
    }
   ],
   "source": [
    "def filter_primes(l):\n",
    "    l1 = []\n",
    "    for i in l:\n",
    "        if i > 1:\n",
    "            for j in range(2,i):\n",
    "                if i % j == 0:\n",
    "                    break\n",
    "            else:\n",
    "                l1.append(i)        \n",
    "    return l1            \n",
    "\n",
    "print(filter_primes([7,9,3,9,10,11,27]))\n",
    "print(filter_primes([10007, 1009, 1007, 27, 147, 77, 1001, 70]))\n",
    "print(filter_primes([1009, 10, 10, 10, 3, 33, 9, 4, 1, 61, 63, 69, 1087, 1091, 1093, 1097]))"
   ]
  },
  {
   "cell_type": "code",
   "execution_count": null,
   "id": "af35045c",
   "metadata": {},
   "outputs": [],
   "source": [
    "2. Once a water balloon pops, is soaks the area around it. The ground gets drier the further away you travel from the balloon.\n",
    "The effect of a water balloon popping can be modeled using a list. Create a function that takes a list which takes the pre-pop state and returns the state after the balloon is popped. The pre-pop state will contain at most a single balloon, whose size is represented by the only non-zero element.\n",
    "\n",
    "Examples\n",
    "\n",
    "pop([0, 0, 0, 0, 4, 0, 0, 0, 0]) ➞ [0, 1, 2, 3, 4, 3, 2, 1, 0]\n",
    "\n",
    "pop([0, 0, 0, 3, 0, 0, 0]) ➞ [0, 1, 2, 3, 2, 1, 0]\n",
    "\n",
    "pop([0, 0, 2, 0, 0]) ➞ [0, 1, 2, 1, 0]\n",
    "\n",
    "pop([0]) ➞ [0]"
   ]
  },
  {
   "cell_type": "code",
   "execution_count": 2,
   "id": "8eb3050a",
   "metadata": {},
   "outputs": [
    {
     "name": "stdout",
     "output_type": "stream",
     "text": [
      "[0, 1, 2, 3, 4, 3, 2, 1, 0]\n",
      "[0, 1, 2, 3, 2, 1, 0]\n",
      "[0, 1, 2, 1, 0]\n",
      "[0]\n"
     ]
    }
   ],
   "source": [
    "def pop(l):\n",
    "    mid = int((len(l) - 1) / 2)\n",
    "    for i in range(mid):\n",
    "        l[i] = i\n",
    "        l[i-mid] = mid-i-1\n",
    "    return l\n",
    "    \n",
    "print(pop([0,0,0,0,4,0,0,0,0]))\n",
    "print(pop([0,0,0,3,0,0,0]))\n",
    "print(pop([0,0,2,0,0]))\n",
    "print(pop([0]))"
   ]
  },
  {
   "cell_type": "code",
   "execution_count": null,
   "id": "b300c196",
   "metadata": {},
   "outputs": [],
   "source": [
    "3. \"Loves me, loves me not\" is a traditional game in which a person plucks off all the petals of a flower one by one, saying the phrase \"Loves me\" and \"Loves me not\" when determining whether the one that they love, loves them back.\n",
    "Given a number of petals, return a string which repeats the phrases \"Loves me\" and \"Loves me not\" for every alternating petal, and return the last phrase in all caps. Remember to put a comma and space between phrases.\n",
    "\n",
    "Examples\n",
    "\n",
    "loves_me(3) ➞ \"Loves me, Loves me not, LOVES ME\"\n",
    "\n",
    "loves_me(6) ➞ \"Loves me, Loves me not, Loves me, Loves me not, Loves me, LOVES ME NOT\"\n",
    "\n",
    "loves_me(1) ➞ \"LOVES ME\""
   ]
  },
  {
   "cell_type": "code",
   "execution_count": 3,
   "id": "7f75f81c",
   "metadata": {},
   "outputs": [
    {
     "name": "stdout",
     "output_type": "stream",
     "text": [
      "Loves me, Loves me not, LOVES ME\n",
      "Loves me, Loves me not, Loves me, Loves me not, Loves me, LOVES ME NOT\n",
      "LOVES ME\n"
     ]
    }
   ],
   "source": [
    "def loves_me(n):\n",
    "    l = []\n",
    "    s = ''\n",
    "    for i in range(n):\n",
    "        if i % 2 == 0:\n",
    "            l.append('Loves me')\n",
    "        else:\n",
    "            l.append('Loves me not')\n",
    "            \n",
    "    l[i] = l[i].upper()\n",
    "    \n",
    "    for i in l:\n",
    "        s += i +', '\n",
    "    s = s.rstrip(', ')\n",
    "    return s\n",
    "\n",
    "print(loves_me(3))\n",
    "print(loves_me(6))\n",
    "print(loves_me(1))"
   ]
  },
  {
   "cell_type": "code",
   "execution_count": null,
   "id": "f3358b05",
   "metadata": {},
   "outputs": [],
   "source": [
    "4. Write a function that sorts each string in a list by the letter in alphabetic ascending order (a-z).\n",
    "Examples\n",
    "\n",
    "sort_by_letter([\"932c\", \"832u32\", \"2344b\"]) ➞ [\"2344b\", \"932c\", \"832u32\"]\n",
    "\n",
    "sort_by_letter([\"99a\", \"78b\", \"c2345\", \"11d\"]) ➞ [\"99a\", \"78b\", \"c2345\", \"11d\"]\n",
    "\n",
    "sort_by_letter([\"572z\", \"5y5\", \"304q2\"]) ➞ [\"304q2\", \"5y5\", \"572z\"]\n",
    "\n",
    "sort_by_letter([]) ➞ []"
   ]
  },
  {
   "cell_type": "code",
   "execution_count": 4,
   "id": "dd1901e4",
   "metadata": {},
   "outputs": [
    {
     "name": "stdout",
     "output_type": "stream",
     "text": [
      "['2344b', '932c', '832u32']\n",
      "['99a', '78b', 'c2345', '11d']\n",
      "['304q2', '5y5', '572z']\n",
      "[]\n"
     ]
    }
   ],
   "source": [
    "def sort_by_letter(l):\n",
    "\n",
    "    for i in range(len(l)):\n",
    "        for j in l[i]:\n",
    "            if j.isalpha():\n",
    "                l[i] = j + l[i]\n",
    "    l.sort()\n",
    "    for i in range(len(l)):\n",
    "        l[i] = l[i][1:]\n",
    "\n",
    "    return l\n",
    "\n",
    "print(sort_by_letter([\"932c\", \"832u32\", \"2344b\"]))\n",
    "\n",
    "print(sort_by_letter([\"99a\", \"78b\", \"c2345\", \"11d\"]))\n",
    "\n",
    "print(sort_by_letter([\"572z\", \"5y5\", \"304q2\"]))\n",
    "\n",
    "print(sort_by_letter([]))"
   ]
  },
  {
   "cell_type": "code",
   "execution_count": null,
   "id": "2d890b18",
   "metadata": {},
   "outputs": [],
   "source": [
    "5. There are three cups on a table, at positions A, B, and C. At the start, there is a ball hidden under the cup at position B.\n",
    "image.png\n",
    "\n",
    "However, I perform several swaps on the cups, which is notated as two letters. For example, if I swap the cups at positions A and B, I could notate this as AB or BA.\n",
    "\n",
    "Create a function that returns the letter position that the ball is at, once I finish swapping the cups. The swaps will be given to you as a list.\n",
    "\n",
    "Example\n",
    "\n",
    "cup_swapping([\"AB\", \"CA\", \"AB\"]) ➞ \"C\"\n",
    "\n",
    "Ball begins at position B.\n",
    "Cups A and B swap, so the ball is at position A.\n",
    "Cups C and A swap, so the ball is at position C.\n",
    "Cups A and B swap, but the ball is at position C, so it doesn't move."
   ]
  },
  {
   "cell_type": "code",
   "execution_count": 5,
   "id": "1966e3a0",
   "metadata": {},
   "outputs": [
    {
     "name": "stdout",
     "output_type": "stream",
     "text": [
      "C\n",
      "C\n",
      "B\n",
      "A\n"
     ]
    }
   ],
   "source": [
    "def cup_swapping(l):\n",
    "    position = 'B'\n",
    "    l1 =[]\n",
    "    for i in range(len(l)):\n",
    "        if position in l[i]:\n",
    "            position =  l[i].replace(position,'')\n",
    "            \n",
    "    return position       \n",
    "            \n",
    "print(cup_swapping([\"AB\", \"CA\", \"AB\"]))\n",
    "print(cup_swapping([\"BA\", \"AB\", \"BC\"]))\n",
    "print(cup_swapping([\"AB\", \"CA\", \"CB\"]))        \n",
    "print(cup_swapping([\"CB\", \"BC\", \"BA\"]))  "
   ]
  },
  {
   "cell_type": "code",
   "execution_count": null,
   "id": "7f6b799b",
   "metadata": {},
   "outputs": [],
   "source": []
  },
  {
   "cell_type": "code",
   "execution_count": null,
   "id": "0846ec38",
   "metadata": {},
   "outputs": [],
   "source": []
  },
  {
   "cell_type": "code",
   "execution_count": null,
   "id": "82b33096",
   "metadata": {},
   "outputs": [],
   "source": []
  }
 ],
 "metadata": {
  "kernelspec": {
   "display_name": "Python 3",
   "language": "python",
   "name": "python3"
  },
  "language_info": {
   "codemirror_mode": {
    "name": "ipython",
    "version": 3
   },
   "file_extension": ".py",
   "mimetype": "text/x-python",
   "name": "python",
   "nbconvert_exporter": "python",
   "pygments_lexer": "ipython3",
   "version": "3.8.8"
  }
 },
 "nbformat": 4,
 "nbformat_minor": 5
}
