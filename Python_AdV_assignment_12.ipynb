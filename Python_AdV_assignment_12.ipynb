{
 "cells": [
  {
   "cell_type": "code",
   "execution_count": null,
   "id": "e9accedb",
   "metadata": {},
   "outputs": [],
   "source": [
    "Q1. Does assigning a value to a strings indexed character violate Pythons string immutability?"
   ]
  },
  {
   "cell_type": "code",
   "execution_count": null,
   "id": "cb41b7c7",
   "metadata": {},
   "outputs": [],
   "source": [
    "No, the assigning of a value to a strings indexed character does not violate pythons string immutability."
   ]
  },
  {
   "cell_type": "code",
   "execution_count": 1,
   "id": "0a2ad594",
   "metadata": {},
   "outputs": [
    {
     "name": "stdout",
     "output_type": "stream",
     "text": [
      "Jello, world!\n",
      "Hello, world!\n"
     ]
    }
   ],
   "source": [
    "greeting = \"Hello, world!\"\n",
    "newGreeting = 'J' + greeting[1:]\n",
    "print(newGreeting)\n",
    "print(greeting)"
   ]
  },
  {
   "cell_type": "code",
   "execution_count": null,
   "id": "d7bb830c",
   "metadata": {},
   "outputs": [],
   "source": [
    "Q2. Does using the += operator to concatenate strings violate Python&#39;s string immutability? Why or\n",
    "why not?"
   ]
  },
  {
   "cell_type": "code",
   "execution_count": null,
   "id": "8bfa074f",
   "metadata": {},
   "outputs": [],
   "source": [
    "The easiest way of concatenating strings is to use the + or the += operator. The + operator is used both for adding numbers and strings; in programming we say that the operator is overloaded.\n",
    "\n",
    "a = 'old'\n",
    "b = ' tree'\n",
    "\n",
    "c = a + b\n",
    "print(c)\n",
    "old tree\n",
    "Two strings are added using the + operator.\n",
    "\n",
    "In the second example, we use the compound addition operator.\n",
    "\n",
    "msg = 'There are'\n",
    "\n",
    "msg += ' three falcons'\n",
    "msg += ' in the sky'\n",
    "\n",
    "print(msg)\n",
    "There are three falcons in the sky\n",
    "The example builds a message with the += operator.\n",
    "\n",
    "Hence it does not violate the pythons string immutability."
   ]
  },
  {
   "cell_type": "code",
   "execution_count": null,
   "id": "21cb6c2a",
   "metadata": {},
   "outputs": [],
   "source": [
    "Q3. In Python, how many different ways are there to index a character?"
   ]
  },
  {
   "cell_type": "code",
   "execution_count": null,
   "id": "ccc13563",
   "metadata": {},
   "outputs": [],
   "source": [
    "Indexing means referring to an element of an iterable by its position within the iterable. Each of a string’s characters corresponds to an index number and each character can be accessed using their index number.\n",
    "\n",
    "There are mainly 3,4 types of indexing in python\n",
    "1) by positive index number\n",
    "2) by negative index number\n",
    "3) string slicing"
   ]
  },
  {
   "cell_type": "code",
   "execution_count": null,
   "id": "9f7d1f2d",
   "metadata": {},
   "outputs": [],
   "source": [
    "Q4. What is the relationship between indexing and slicing?"
   ]
  },
  {
   "cell_type": "code",
   "execution_count": null,
   "id": "04cc3101",
   "metadata": {},
   "outputs": [],
   "source": [
    "“Indexing” means referring to an element of an iterable by its position within the iterable.\n",
    "\n",
    "Indexing To retrieve an element of the list, we use the index operator ([]):\n",
    "    \n",
    "Where slicing is\n",
    "            “Slicing” means getting a subset of elements from an iterable based on their indices.\n",
    "\n",
    "A slice is a subset of list elements. In the case of lists, a single slice will always be of contiguous elements"
   ]
  },
  {
   "cell_type": "code",
   "execution_count": null,
   "id": "9d63fcb1",
   "metadata": {},
   "outputs": [],
   "source": [
    "Q5. What is an indexed character's exact data type? What is the data form of a slicing-generated substring?"
   ]
  },
  {
   "cell_type": "code",
   "execution_count": null,
   "id": "f3e4b783",
   "metadata": {},
   "outputs": [],
   "source": [
    "Indexed character's exact data type is str\n",
    "The data form of a slicing-generated substring is list"
   ]
  },
  {
   "cell_type": "code",
   "execution_count": null,
   "id": "fc45b663",
   "metadata": {},
   "outputs": [],
   "source": [
    "Q6. What is the relationship between string and character \"types\" in Python?"
   ]
  },
  {
   "cell_type": "code",
   "execution_count": null,
   "id": "8236cfdd",
   "metadata": {},
   "outputs": [],
   "source": [
    "Strings are defined as an array of characters. The difference between a character array and a string is the string is terminated with a special character '\\0'. Declaring a string is as simple as declaring a one dimensional array. Below is the basic syntax for declaring a string in python programming language\n",
    "\n",
    "\"python str\" should lead you to the official python.org string methods which lists all the str methods. Python does not have a separate character type. Instead an expression like s[8] returns a string-length-1 containing the character.\n",
    "\n",
    "Individual characters in a string can be accessed by specifying the string name followed by a number in square brackets ( [] ). String indexing in Python is zero-based: the first character in the string has index 0 , the next has index 1 , and so on."
   ]
  },
  {
   "cell_type": "code",
   "execution_count": null,
   "id": "83fb1197",
   "metadata": {},
   "outputs": [],
   "source": [
    "Q7. Identify at least two operators and one method that allow you to combine one or more smaller strings to create a larger string."
   ]
  },
  {
   "cell_type": "code",
   "execution_count": null,
   "id": "8f485787",
   "metadata": {},
   "outputs": [],
   "source": [
    "Using the % operator\n",
    "The modulus operator (“%”) can be used for both string formatting and string concatenation. It is useful for cases in which you need to combine strings and also perform basic formatting.\n",
    "\n",
    "Using the f-string\n",
    "Formatted string literals or f-strings, in short, are string literals in Python. They contain an f at the beginning and curly braces that contain the expressions. It calls the str() method when an object argument is used as field replacement."
   ]
  },
  {
   "cell_type": "code",
   "execution_count": null,
   "id": "10b13652",
   "metadata": {},
   "outputs": [],
   "source": [
    "Q8. What is the benefit of first checking the target string with in or not in before using the index method to find a substring?"
   ]
  },
  {
   "cell_type": "code",
   "execution_count": null,
   "id": "6d09cc90",
   "metadata": {},
   "outputs": [],
   "source": [
    "The idea is to run a loop from start to end and for every index in the given string check whether the sub-string can be formed from that index. This can be done by running a nested loop traversing the given string and in that loop run another loop checking for sub-string from every index. For example, consider there to be a string of length N and a substring of length M. Then run a nested loop, where the outer loop runs from 0 to (N-M) and the inner loop from 0 to M. For very index check if the sub-string traversed by the inner loop is the given sub-string or not.\n",
    "\n",
    "def isSubstring(s1, s2):\n",
    "    M = len(s1)\n",
    "    N = len(s2)\n",
    " \n",
    "    # A loop to slide pat[] one by one\n",
    "    for i in range(N - M + 1):\n",
    " \n",
    "        # For current index i,\n",
    "        # check for pattern match\n",
    "        for j in range(M):\n",
    "            if (s2[i + j] != s1[j]):\n",
    "                break\n",
    "             \n",
    "        if j + 1 == M :\n",
    "            return i\n",
    " \n",
    "    return -1\n",
    " \n",
    "# Driver Code\n",
    "if __name__ == \"__main__\":\n",
    "    s1 = \"for\"\n",
    "    s2 = \"geeksforgeeks\"\n",
    "    res = isSubstring(s1, s2)\n",
    "    if res == -1 :\n",
    "        print(\"Not present\")\n",
    "    else:\n",
    "        print(\"Present at index \" + str(res))"
   ]
  },
  {
   "cell_type": "code",
   "execution_count": null,
   "id": "48cce9a4",
   "metadata": {},
   "outputs": [],
   "source": [
    "Q9. Which operators and built-in string methods produce simple Boolean (true/false) results?"
   ]
  },
  {
   "cell_type": "code",
   "execution_count": null,
   "id": "eb707bd8",
   "metadata": {},
   "outputs": [],
   "source": [
    "In programming, comparison operators are used to compare values and evaluate down to a single Boolean value of either True or False.\n",
    "\n",
    "== equal to\n",
    "!= not equal to\n",
    "<  less than\n",
    "> greater than\n",
    "<= less than equal to\n",
    ">= greater than equal to"
   ]
  }
 ],
 "metadata": {
  "kernelspec": {
   "display_name": "Python 3",
   "language": "python",
   "name": "python3"
  },
  "language_info": {
   "codemirror_mode": {
    "name": "ipython",
    "version": 3
   },
   "file_extension": ".py",
   "mimetype": "text/x-python",
   "name": "python",
   "nbconvert_exporter": "python",
   "pygments_lexer": "ipython3",
   "version": "3.8.8"
  }
 },
 "nbformat": 4,
 "nbformat_minor": 5
}
