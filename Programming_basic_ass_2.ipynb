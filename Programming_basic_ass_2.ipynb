{
 "cells": [
  {
   "cell_type": "code",
   "execution_count": null,
   "id": "d66eab6b",
   "metadata": {},
   "outputs": [],
   "source": [
    "Wrie a python programme to convert kilometers to miles."
   ]
  },
  {
   "cell_type": "code",
   "execution_count": 4,
   "id": "c4703804",
   "metadata": {},
   "outputs": [
    {
     "name": "stdout",
     "output_type": "stream",
     "text": [
      "Enter the KM's to convert into Miles.10\n",
      "The Kilometers converted into miles are as  6.2137119223733395\n"
     ]
    }
   ],
   "source": [
    "a = input(\"Enter the KM's to convert into Miles.\")\n",
    "b = int(a)/1.609344\n",
    "\n",
    "print('The Kilometers converted into miles are as ', b)"
   ]
  },
  {
   "cell_type": "code",
   "execution_count": null,
   "id": "4a869d24",
   "metadata": {},
   "outputs": [],
   "source": [
    "Wrie a python programme to convert Celsius to Fahrenheit"
   ]
  },
  {
   "cell_type": "code",
   "execution_count": 5,
   "id": "314803f2",
   "metadata": {},
   "outputs": [
    {
     "name": "stdout",
     "output_type": "stream",
     "text": [
      "Enter the Celsius to convert into Fahrenheit.1\n",
      "The Celsius converted into Fahrenheit are as  33.8\n"
     ]
    }
   ],
   "source": [
    "a = input(\"Enter the Celsius to convert into Fahrenheit.\")\n",
    "b = int(a)*1.8+32\n",
    "\n",
    "print('The Celsius converted into Fahrenheit are as ', b)"
   ]
  },
  {
   "cell_type": "code",
   "execution_count": null,
   "id": "20381a59",
   "metadata": {},
   "outputs": [],
   "source": [
    "3. Write a Python program to display calendar?"
   ]
  },
  {
   "cell_type": "code",
   "execution_count": 11,
   "id": "69168486",
   "metadata": {},
   "outputs": [
    {
     "name": "stdout",
     "output_type": "stream",
     "text": [
      "Enter the year :2021\n",
      "Enter the month: 11\n",
      "   November 2021\n",
      "Mo Tu We Th Fr Sa Su\n",
      " 1  2  3  4  5  6  7\n",
      " 8  9 10 11 12 13 14\n",
      "15 16 17 18 19 20 21\n",
      "22 23 24 25 26 27 28\n",
      "29 30\n",
      "\n"
     ]
    }
   ],
   "source": [
    "import calendar\n",
    "year = 2021\n",
    "month=11\n",
    "yy = int(input('Enter the year :'))\n",
    "mm = int(input('Enter the month: '))\n",
    "\n",
    "print(calendar.month(yy,mm))"
   ]
  },
  {
   "cell_type": "code",
   "execution_count": null,
   "id": "ec964cb9",
   "metadata": {},
   "outputs": [],
   "source": [
    "Write a Python Program to solve a quadratic equation."
   ]
  },
  {
   "cell_type": "code",
   "execution_count": 16,
   "id": "022e043c",
   "metadata": {},
   "outputs": [],
   "source": [
    "import math\n",
    "\n",
    "def quadraticeqn(a,b,c):\n",
    "    discrimants = b*b-4*a*c\n",
    "    sqrt = math.sqrt(abs(discrimants))\n",
    "    \n",
    "    if discrimants>0:\n",
    "        print('The roots are real and different roots')\n",
    "        print((-b + sqrt)/(2*a))\n",
    "        print((-b - sqrt)/(2*a))\n",
    "    elif discrimants == 0:\n",
    "        print('Real and same roots')\n",
    "        print(-b/(2*a))\n",
    "        \n",
    "    else:\n",
    "        print('complex roots')\n",
    "        print(-b/(2*a),\" + i\", sqrt)\n",
    "        print(-b/(2*a),\" - i\", sqrt)\n",
    "        \n",
    "    \n",
    "    \n",
    "        \n",
    "        "
   ]
  },
  {
   "cell_type": "code",
   "execution_count": 17,
   "id": "f31cd778",
   "metadata": {},
   "outputs": [
    {
     "name": "stdout",
     "output_type": "stream",
     "text": [
      "The roots are real and different roots\n",
      "2.0\n",
      "-12.0\n"
     ]
    }
   ],
   "source": [
    "quadraticeqn(1,10,-24)"
   ]
  },
  {
   "cell_type": "code",
   "execution_count": null,
   "id": "98d95904",
   "metadata": {},
   "outputs": [],
   "source": [
    "Write a Python program to swap two variables without temp variable?"
   ]
  },
  {
   "cell_type": "code",
   "execution_count": 18,
   "id": "b1ff3697",
   "metadata": {},
   "outputs": [
    {
     "name": "stdout",
     "output_type": "stream",
     "text": [
      "x =  10\n",
      "y = 5\n"
     ]
    }
   ],
   "source": [
    "x=5\n",
    "y=10\n",
    "x,y=y,x\n",
    "print(\"x = \", x)\n",
    "print(\"y =\", y)"
   ]
  },
  {
   "cell_type": "code",
   "execution_count": null,
   "id": "d87c2cc2",
   "metadata": {},
   "outputs": [],
   "source": []
  }
 ],
 "metadata": {
  "kernelspec": {
   "display_name": "Python 3",
   "language": "python",
   "name": "python3"
  },
  "language_info": {
   "codemirror_mode": {
    "name": "ipython",
    "version": 3
   },
   "file_extension": ".py",
   "mimetype": "text/x-python",
   "name": "python",
   "nbconvert_exporter": "python",
   "pygments_lexer": "ipython3",
   "version": "3.8.8"
  }
 },
 "nbformat": 4,
 "nbformat_minor": 5
}
