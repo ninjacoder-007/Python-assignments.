{
 "cells": [
  {
   "cell_type": "code",
   "execution_count": null,
   "id": "9a4c3221",
   "metadata": {},
   "outputs": [],
   "source": [
    "1. To what does a relative path refer?\n",
    "ANS:\n",
    "    Relative path refers to location that is relative to current directory."
   ]
  },
  {
   "cell_type": "code",
   "execution_count": null,
   "id": "b838c51c",
   "metadata": {},
   "outputs": [],
   "source": [
    "2. What does an absolute path start with your operating system?\n",
    "ANS:C:\\. \n",
    "    "
   ]
  },
  {
   "cell_type": "code",
   "execution_count": null,
   "id": "b2c9dfa7",
   "metadata": {},
   "outputs": [],
   "source": [
    "3. What do the functions os.getcwd() and os.chdir() do?\n",
    "ANS:\n",
    "    os.getcwd() gives the current location where you are located now.\n",
    "    \n",
    "    os.chdir() changes the dir to desired dir."
   ]
  },
  {
   "cell_type": "code",
   "execution_count": null,
   "id": "4538329f",
   "metadata": {},
   "outputs": [],
   "source": [
    "What are the . and .. folders?\n",
    "ANS:\n",
    "    The single dot represents the current directory and double dot represents the parent directory."
   ]
  },
  {
   "cell_type": "code",
   "execution_count": null,
   "id": "1988c9d6",
   "metadata": {},
   "outputs": [],
   "source": [
    "5. In C:\\bacon\\eggs\\spam.txt, which part is the dir name, and which part is the base name?\n",
    "    ANS:\n",
    "        C:\\bacon\\eggs\\ is the dir name and spam.txt is base name\n",
    "            "
   ]
  },
  {
   "cell_type": "code",
   "execution_count": null,
   "id": "60d00116",
   "metadata": {},
   "outputs": [],
   "source": [
    "6. What are the three “mode” arguments that can be passed to the open() function?\n",
    "ANS:\n",
    "    The string 'r' for read mode, 'w' for write mode, 'a' for append mode."
   ]
  },
  {
   "cell_type": "code",
   "execution_count": null,
   "id": "d43c7e05",
   "metadata": {},
   "outputs": [],
   "source": [
    "7. What happens if an existing file is opened in write mode?\n",
    "\n",
    "ANS:\n",
    "    The existing file will erased and completely overwritten."
   ]
  },
  {
   "cell_type": "code",
   "execution_count": null,
   "id": "dde67271",
   "metadata": {},
   "outputs": [],
   "source": [
    "8. How do you tell the difference between read() and readlines()?\n",
    "\n",
    "ANS:\n",
    "    The read() method return the entire file in single string value whereas readlines() return list of sting where each string is line from the file's contents."
   ]
  },
  {
   "cell_type": "code",
   "execution_count": null,
   "id": "c8e6fa3f",
   "metadata": {},
   "outputs": [],
   "source": [
    "9. What data structure does a shelf value resemble?\n",
    "ANS:\n",
    "    A shelf value resembles a dictionary value"
   ]
  }
 ],
 "metadata": {
  "kernelspec": {
   "display_name": "Python 3",
   "language": "python",
   "name": "python3"
  },
  "language_info": {
   "codemirror_mode": {
    "name": "ipython",
    "version": 3
   },
   "file_extension": ".py",
   "mimetype": "text/x-python",
   "name": "python",
   "nbconvert_exporter": "python",
   "pygments_lexer": "ipython3",
   "version": "3.8.8"
  }
 },
 "nbformat": 4,
 "nbformat_minor": 5
}
