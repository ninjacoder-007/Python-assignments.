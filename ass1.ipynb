{
 "cells": [
  {
   "cell_type": "code",
   "execution_count": null,
   "id": "dc8e1cbf",
   "metadata": {},
   "outputs": [],
   "source": [
    "Q1. What is the purpose of Python's OOP?"
   ]
  },
  {
   "cell_type": "code",
   "execution_count": null,
   "id": "89c3a32c",
   "metadata": {},
   "outputs": [],
   "source": [
    "OOP(object oriented Programming) in python is used for reduction of code and increase the code functinability.It restricts access to methods and variables.It prevents the data from direct modifications which is called as encapsulation."
   ]
  },
  {
   "cell_type": "code",
   "execution_count": null,
   "id": "7d85b78e",
   "metadata": {},
   "outputs": [],
   "source": [
    "Q2. Where does an inheritance search look for an attribute?"
   ]
  },
  {
   "cell_type": "code",
   "execution_count": null,
   "id": "d8d45a07",
   "metadata": {},
   "outputs": [],
   "source": [
    "Inheritance search look for an attribute in namespaces tree at and above the object."
   ]
  },
  {
   "cell_type": "code",
   "execution_count": null,
   "id": "aababe2f",
   "metadata": {},
   "outputs": [],
   "source": [
    "Q3. How do you distinguish between a class object and an instance object?"
   ]
  },
  {
   "cell_type": "code",
   "execution_count": null,
   "id": "95da73df",
   "metadata": {},
   "outputs": [],
   "source": [
    "A class object is the blueprint of the code whereas instance object is just a copy of the class with actual values.\n",
    "The class object is  mostly defined once in the code and there instances are called whenever required. "
   ]
  },
  {
   "cell_type": "code",
   "execution_count": null,
   "id": "9bd5f791",
   "metadata": {},
   "outputs": [],
   "source": [
    "Q4. What makes the first argument in a class’s method function special?"
   ]
  },
  {
   "cell_type": "code",
   "execution_count": null,
   "id": "249aace0",
   "metadata": {},
   "outputs": [],
   "source": [
    "The first argument in a class's method function is special because it is the method where that class method is defined."
   ]
  },
  {
   "cell_type": "code",
   "execution_count": null,
   "id": "684431ce",
   "metadata": {},
   "outputs": [],
   "source": [
    "Q5. What is the purpose of the __init__ method?"
   ]
  },
  {
   "cell_type": "code",
   "execution_count": null,
   "id": "5f0ff33f",
   "metadata": {},
   "outputs": [],
   "source": [
    "The __init__ method allows to accept arguments to the class. It allows to assign intial values and instantiates the class."
   ]
  },
  {
   "cell_type": "code",
   "execution_count": null,
   "id": "d9b7f4c5",
   "metadata": {},
   "outputs": [],
   "source": [
    "Q6. What is the process for creating a class instance?"
   ]
  },
  {
   "cell_type": "code",
   "execution_count": null,
   "id": "28b5c281",
   "metadata": {},
   "outputs": [],
   "source": [
    "We can create the instance of class student as follows\n",
    "\n",
    "class student:\n",
    "    pass\n",
    "student1= student()\n",
    "\n",
    "\n",
    "here student is the class and student1 is the instance."
   ]
  },
  {
   "cell_type": "code",
   "execution_count": null,
   "id": "6f970db9",
   "metadata": {},
   "outputs": [],
   "source": [
    "Q7. What is the process for creating a class?"
   ]
  },
  {
   "cell_type": "code",
   "execution_count": null,
   "id": "38b7ac9f",
   "metadata": {},
   "outputs": [],
   "source": [
    "class car:\n",
    "    def __init__(self, car_name, brand_name)\n",
    "    self.car_name = car_name\n",
    "    self.brand_name = brand_name\n",
    "    \n",
    "    \n",
    "here we created the class called car with its instances like car name and brand name\n",
    "here __init__ is the method to instantiate the class car."
   ]
  },
  {
   "cell_type": "code",
   "execution_count": null,
   "id": "915c9828",
   "metadata": {},
   "outputs": [],
   "source": [
    "Q8. How would you define the superclasses of a class?"
   ]
  },
  {
   "cell_type": "code",
   "execution_count": null,
   "id": "25ae467c",
   "metadata": {},
   "outputs": [],
   "source": [
    "To define the superclass of class :\n",
    "    class class():\n",
    "        def __init__(self,x):\n",
    "            print(x)\n",
    "            \n",
    "    class subclass(class):\n",
    "        def __init__(self,x):\n",
    "            \n",
    "            \n",
    "            super().__init__(x)\n",
    "            \n",
    "            \n",
    "Thus we can define the superclass."
   ]
  }
 ],
 "metadata": {
  "kernelspec": {
   "display_name": "Python 3",
   "language": "python",
   "name": "python3"
  },
  "language_info": {
   "codemirror_mode": {
    "name": "ipython",
    "version": 3
   },
   "file_extension": ".py",
   "mimetype": "text/x-python",
   "name": "python",
   "nbconvert_exporter": "python",
   "pygments_lexer": "ipython3",
   "version": "3.8.8"
  }
 },
 "nbformat": 4,
 "nbformat_minor": 5
}
