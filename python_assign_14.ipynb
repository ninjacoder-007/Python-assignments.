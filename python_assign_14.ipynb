{
 "cells": [
  {
   "cell_type": "code",
   "execution_count": null,
   "id": "b6483ce2",
   "metadata": {},
   "outputs": [],
   "source": [
    "1. What does RGBA stand for?"
   ]
  },
  {
   "cell_type": "code",
   "execution_count": null,
   "id": "e21b75c1",
   "metadata": {},
   "outputs": [],
   "source": [
    "The RGB color model is extended in this specification to include “alpha” to allow specification of the opacity of a color.\n",
    "\n",
    "RGB is standard rgb colors, you already understand this.\n",
    "\n",
    "RGBa is standard rgb colors, but with the alpha/opacity also.\n",
    "\n",
    "Other than that there isn't any difference, colors still code the same.\n",
    "\n",
    "Problem with using this and other CSS3 color styles is that it isn't always supported. Here is a link I found that tells you which versions of browsers support it.\n",
    "\n",
    "Declaring alpha in CSS would look like this rgba(0, 0, 0, .3) with the alpha being a decimal or integer from 1 to 0. 1 being opaque and 0 being completely transparent.\n",
    "\n",
    "RGBa Images - These images are RGB images with a fourth number added for each pixel that specifies the transparency of that pixel in the range 0 to 255. When seen in an image window, grayscale, palette and RGB images will be shown on a background of solid color (white by default)."
   ]
  },
  {
   "cell_type": "code",
   "execution_count": null,
   "id": "72617128",
   "metadata": {},
   "outputs": [],
   "source": [
    "2. From the Pillow module, how do you get the RGBA value of any images?"
   ]
  },
  {
   "cell_type": "code",
   "execution_count": null,
   "id": "d9864a91",
   "metadata": {},
   "outputs": [],
   "source": [
    "To create a transparent png using Python3, the Pillow library is used. The Pillow library comes with python itself. If python is unable to find Pillow library then open the command prompt and run this command:-pip install Pillow\n",
    "\n",
    "import the Image module from the Pillow library\n",
    "from PIL import Image\n",
    "\n",
    "Open any image and get the RAGBAG values.\n",
    "img = Image.open(‘image.png’)\n",
    "\n",
    "rgba = img.convert(“RGBA”)\n",
    "\n",
    "datas = rgba.getdata()\n",
    "\n",
    "Change the color\n",
    "Data will be an Imaging Core object containing thousands of tuples of RGBA values. To make transparent the background firstly we have to find the RGBA values of the background or any color we want to make transparent. Here in this image, the background color is black.\n",
    "\n",
    "The RGB value of black is (0, 0, 0). Now we will loop through the data (RGBA values) and whenever we find a black pixel we will replace it with a transparent RGBA value which is ((255, 255, 255, 0), and the other colors will be unchanged. And we will store the values in a new list called newData.\n",
    "\n",
    "newData = []\n",
    "\n",
    "for item in datas:\n",
    "\n",
    "if item[0] == 0 and item[1] == 0 and item[2] == 0:\n",
    "\n",
    "   newData.append((255, 255, 255, 0))\n",
    "\n",
    "else:\n",
    "\n",
    "  newData.append(item)\n",
    "Store the changed image\n",
    "Store the newData into RGBA value and save the image as a png format(transparent image can’t be stored into jpg or jpeg format).\n",
    "\n",
    "rgba.putdata(newData)\n",
    "\n",
    "rgba.save(“transparent_image.png”, “PNG”)rgba.putdata(newData)\n",
    "\n",
    "rgba.save(“transparent_image.png”, “PNG”)\n",
    "\n"
   ]
  },
  {
   "cell_type": "code",
   "execution_count": null,
   "id": "652a22b4",
   "metadata": {},
   "outputs": [],
   "source": [
    "3. What is a box tuple, and how does it work?"
   ]
  },
  {
   "cell_type": "code",
   "execution_count": null,
   "id": "23333ada",
   "metadata": {},
   "outputs": [],
   "source": [
    "The box. tuple submodule provides read-only access for the tuple userdata type. It allows, for a single tuple: selective retrieval of the field contents, retrieval of information about size, iteration over all the fields, and conversion to a Lua table. Name. Use.\n",
    "\n",
    "The tuple() function is a built-in function in Python that can be used to create a tuple. A tuple is an immutable sequence type. Parameters: This function accepts a single parameter iterable (optional). It is an iterable(list, range etc..) or an iterator object.\n",
    "\n",
    "Sr. No. Function with Description 1 cmp(tuple1, tuple2) Compares elements of both tuples.\n",
    "\n",
    "2 len(tuple) Gives the total length of the tuple.\n",
    "\n",
    "3 max(tuple) Returns item from the tuple with max value.\n",
    "\n",
    "4 min(tuple) Returns item from the tuple with min value.\n",
    "\n",
    "5 tuple(seq) Converts a list into tuple."
   ]
  },
  {
   "cell_type": "code",
   "execution_count": null,
   "id": "0f73a815",
   "metadata": {},
   "outputs": [],
   "source": [
    "4. Use your image and load in notebook then, How can you find out the width and height of an Image object?"
   ]
  },
  {
   "cell_type": "code",
   "execution_count": null,
   "id": "76c05d35",
   "metadata": {},
   "outputs": [],
   "source": [
    "I would like to use an IPython notebook as a way to interactively analyze some genome charts I am making with Biopython's GenomeDiagram module. While there is extensive documentation on how to use matplotlib to get graphs inline in IPython notebook, GenomeDiagram uses the ReportLab toolkit which I don't think is supported for inline graphing in IPython.\n",
    "\n",
    "I was thinking, however, that a way around this would be to write out the plot/genome diagram to a file and then open the image inline which would have the same result with something like this:\n",
    "\n",
    "gd_diagram.write(\"test.png\", \"PNG\")\n",
    "\n",
    "display(file=\"test.png\")\n",
    "\n",
    "Getting the size of an image with the Python Image Library (PIL) returns its width and height in pixels.\n",
    "\n",
    "Call PIL.Image.open(fp) to open an image with the filename fp. Use PIL.Image.Image.size with this opened image to return a tuple containing the width and height in pixels.\n",
    "\n",
    "image = PIL.Image.open(\"sample.png\") image to open\n",
    "\n",
    "width, height = image.size extract width and height from output tuple\n",
    "\n",
    "print(width, height) OUTPUT"
   ]
  },
  {
   "cell_type": "code",
   "execution_count": null,
   "id": "030b67f0",
   "metadata": {},
   "outputs": [],
   "source": [
    "5.. What method would you call to get Image object for a 100×100 image, excluding the lower-left quarter of it?"
   ]
  },
  {
   "cell_type": "code",
   "execution_count": null,
   "id": "70223de4",
   "metadata": {},
   "outputs": [],
   "source": [
    "Step 1: Import the required library Skimage package enables us to do image processing using Python. The language is extremely simple to understand but does some of the most complicated tasks. Here are a few library you need to import to get started, image-4.png Step 2 : Import the image Once we have all the libraries in place, we need to import our image file to python. Following is the code you can use to import the image file. Note that the image is imported in grey scale, which basically means that each pixel is a shade of grey. And each pixel essentially becomes one cell in a matrix. In this case the image is matrix of 100100 cells (or image of 100100 pixels). image-3.png"
   ]
  },
  {
   "cell_type": "code",
   "execution_count": null,
   "id": "ec67973e",
   "metadata": {},
   "outputs": [],
   "source": [
    "6. After making changes to an Image object, how could you save it as an image file?"
   ]
  },
  {
   "cell_type": "code",
   "execution_count": null,
   "id": "77c0df31",
   "metadata": {},
   "outputs": [],
   "source": [
    "Here, we can see how to save an image in python.\n",
    "\n",
    "In this example, I have imported a module called Image from PIL and declared a variable picture, and assigned Image.open(r’Downloads\\3.jpg’) the path and the name of the image along with extension.\n",
    "And declared another variable and assigned picture.save(“dolls.jpg”) . Here, doll.jpg is the new name of the image.\n",
    "from PIL import Image\n",
    "import PIL\n",
    "picture = Image.open(r'Downloads\\3.jpg')\n",
    "picture = picture.save(\"dolls.jpg\")"
   ]
  },
  {
   "cell_type": "code",
   "execution_count": null,
   "id": "8b81aede",
   "metadata": {},
   "outputs": [],
   "source": [
    "7. How do you obtain a list of Paragraph objects for a Document object that’s stored in a variable named doc?"
   ]
  },
  {
   "cell_type": "code",
   "execution_count": null,
   "id": "851578d1",
   "metadata": {},
   "outputs": [],
   "source": [
    "Drawing Shapes using ‘ImageDraw’ module ImageDraw module allows us to create different shapes by first creating a drawing object with the image you want to work with and then apply it. Some of the common shapes we can draw using ‘ImageDraw’ module are as follows −\n",
    "\n",
    "Line Following is, the syntax to draw a line using python pillow − draw.line(xy, fill=None, width=0)\n",
    "\n",
    "The line() method draws a line from the upper left to lower right corners of bounding box xy and canvas. The line is filled using color fill. Default values of None and 0 respectively are for the parameters fill and width which are optional.\n",
    "\n",
    "from PIL import Image, ImageDraw\n",
    "\n",
    "img = Image.new('RGB', (500, 300), (125, 125, 125)) draw = ImageDraw.Draw(img) draw.line((200, 100, 300, 200), fill=(0, 0, 0), width=10)\n",
    "\n",
    "img.show()"
   ]
  },
  {
   "cell_type": "code",
   "execution_count": null,
   "id": "279f88bf",
   "metadata": {},
   "outputs": [],
   "source": [
    "8. Image objects do not have drawing methods. What kind of object does? How do you get this kind of object?"
   ]
  },
  {
   "cell_type": "code",
   "execution_count": null,
   "id": "e21e92d4",
   "metadata": {},
   "outputs": [],
   "source": [
    "What is an image object? -Image result for Image objects do not have drawing method. What kind of object does? How do you get this kind of object? Image Objects are simple graphical elements which are assembled together to create more complex artworks like icons, cursors, buttons, sprites and more. Image Objects permit you to be creative without drawing a single pixel.\n",
    "\n",
    "What is an object and what does it do? -An object is an abstract data type with the addition of polymorphism and inheritance. Rather than structure programs as code and data, an object-oriented system integrates the two using the concept of an \"object\". An object has state (data) and behavior (code). Objects can correspond to things found in the real world.\n",
    "\n",
    "What are drawing object properties? -The drawing object properties dialog Box specifies the properties of all the drawing object that you have been selected in an image. you can immediately check out their changed characteristics in the image:to do this, click the apply button."
   ]
  }
 ],
 "metadata": {
  "kernelspec": {
   "display_name": "Python 3",
   "language": "python",
   "name": "python3"
  },
  "language_info": {
   "codemirror_mode": {
    "name": "ipython",
    "version": 3
   },
   "file_extension": ".py",
   "mimetype": "text/x-python",
   "name": "python",
   "nbconvert_exporter": "python",
   "pygments_lexer": "ipython3",
   "version": "3.8.8"
  }
 },
 "nbformat": 4,
 "nbformat_minor": 5
}
