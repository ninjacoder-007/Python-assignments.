{
 "cells": [
  {
   "cell_type": "code",
   "execution_count": null,
   "id": "729b71e0",
   "metadata": {},
   "outputs": [],
   "source": [
    "Q1. What is the benefit of regular expressions?"
   ]
  },
  {
   "cell_type": "code",
   "execution_count": null,
   "id": "4c013b19",
   "metadata": {},
   "outputs": [],
   "source": [
    "Supported by almost any language, there are only a few programming languages which do not understand regular expressions; Do more with less, keep your code cleaner; Faster validations, instead of having many IF and ELSE operators you may validate only once with a regular expression.\n",
    "\n",
    "A Regular Expression is used for identifying a search pattern in a text string. It also helps in finding out the correctness of the data and even operations such as finding, replacing and formatting the data is possible using Regular Expressions.\n",
    "\n",
    "Regular Expressions, also known as “regex” or “regexp”, are used to match strings of text such as particular characters, words, or patterns of characters. It means that we can match and extract any string pattern from the text with the help of regular expressions."
   ]
  },
  {
   "cell_type": "code",
   "execution_count": null,
   "id": "d0a664c2",
   "metadata": {},
   "outputs": [],
   "source": [
    ". How much do you need to use the following sentence while using regular expressions?\n",
    "\n"
   ]
  },
  {
   "cell_type": "code",
   "execution_count": null,
   "id": "42419f12",
   "metadata": {},
   "outputs": [],
   "source": [
    "import re\n",
    "\n",
    "A regular expression (sometimes called a rational expression) is a sequence of characters that define a search pattern, mainly for use in pattern matching with strings, or string matching, i.e. “find and replace”-like operations"
   ]
  },
  {
   "cell_type": "code",
   "execution_count": null,
   "id": "ed9546e7",
   "metadata": {},
   "outputs": [],
   "source": [
    "Q4. Which characters have special significance in square brackets when expressing a range, and under what circumstances?"
   ]
  },
  {
   "cell_type": "code",
   "execution_count": null,
   "id": "e85ee4a4",
   "metadata": {},
   "outputs": [],
   "source": [
    "Inside a character class, only the character class metacharacters (backslash, circumflex anchor and hyphen) have special meaning.\n",
    "\n",
    "Square brackets match something that you kind of don't know about a string you're looking for. If you are searching for a name in a string but you're not sure of the exact name you could use instead of that letter a square bracket. Everything you put inside these brackets are alternatives in place of one character."
   ]
  },
  {
   "cell_type": "code",
   "execution_count": null,
   "id": "e0870d1d",
   "metadata": {},
   "outputs": [],
   "source": [
    "Q5. How does compiling a regular-expression object benefit you?"
   ]
  },
  {
   "cell_type": "code",
   "execution_count": null,
   "id": "9cd43383",
   "metadata": {},
   "outputs": [],
   "source": [
    "The re. compile() method We can combine a regular expression pattern into pattern objects, which can be used for pattern matching. It also helps to search a pattern again without rewriting it.\n",
    "\n",
    "In simple terms, We can compile a regular expression into a regex object to look for occurrences of the same pattern inside various target strings without rewriting it."
   ]
  },
  {
   "cell_type": "code",
   "execution_count": null,
   "id": "6acdcb82",
   "metadata": {},
   "outputs": [],
   "source": [
    "Q6. What are some examples of how to use the match object returned by re.match and re.search?"
   ]
  },
  {
   "cell_type": "code",
   "execution_count": null,
   "id": "9e1df706",
   "metadata": {},
   "outputs": [],
   "source": [
    "The re.search() and re.match() both are functions of re module in python. These functions are very efficient and fast for searching in strings. The function searches for some substring in a string and returns a match object if found, else it returns none.\n",
    "\n",
    "There is a difference between the use of both functions. Both return the first match of a substring found in the string, but re.match() searches only from the beginning of the string and return match object if found. But if a match of substring is found somewhere in the middle of the string, it returns none. While re.search() searches for the whole string even if the string contains multi-lines and tries to find a match of the substring in all the lines of string."
   ]
  },
  {
   "cell_type": "code",
   "execution_count": null,
   "id": "7a1c1241",
   "metadata": {},
   "outputs": [],
   "source": [
    "#Example : \n",
    "# import re module\n",
    "import re\n",
    "Substring ='string'\n",
    "\n",
    "String1 ='''We are learning regex with geeksforgeeks\n",
    "         regex is very useful for string matching.\n",
    "          It is fast too.'''\n",
    "String2 ='''string We are learning regex with geeksforgeeks\n",
    "         regex is very useful for string matching.\n",
    "          It is fast too.'''\n",
    " \n",
    "# Use of re.search() Method\n",
    "print(re.search(Substring, String1, re.IGNORECASE))\n",
    "# Use of re.match() Method\n",
    "print(re.match(Substring, String1, re.IGNORECASE))\n",
    " \n",
    "# Use of re.search() Method\n",
    "print(re.search(Substring, String2, re.IGNORECASE))\n",
    "# Use of re.match() Method\n",
    "print(re.match(Substring, String2, re.IGNORECASE))"
   ]
  },
  {
   "cell_type": "code",
   "execution_count": null,
   "id": "d9312969",
   "metadata": {},
   "outputs": [],
   "source": [
    "Conclusion :\n",
    "\n",
    "1.re.search() is returning match object and implies that first match found at index 69.\n",
    "\n",
    "2.re.match() is returning none because match exists in the second line of the string and re.match() only works if the match is found at the beginning of the string.\n",
    "\n",
    "3.re.IGNORECASE is used to ignore the case sensitivity in the strings.\n",
    "\n",
    "4.Both re.search() and re.match() returns only the first occurrence of a\n",
    "\n",
    " "
   ]
  }
 ],
 "metadata": {
  "kernelspec": {
   "display_name": "Python 3",
   "language": "python",
   "name": "python3"
  },
  "language_info": {
   "codemirror_mode": {
    "name": "ipython",
    "version": 3
   },
   "file_extension": ".py",
   "mimetype": "text/x-python",
   "name": "python",
   "nbconvert_exporter": "python",
   "pygments_lexer": "ipython3",
   "version": "3.8.8"
  }
 },
 "nbformat": 4,
 "nbformat_minor": 5
}
