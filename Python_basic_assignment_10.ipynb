{
 "cells": [
  {
   "cell_type": "code",
   "execution_count": null,
   "id": "3d09be51",
   "metadata": {},
   "outputs": [],
   "source": [
    "1. How do you distinguish between shutil.copy() and shutil.copytree()?"
   ]
  },
  {
   "cell_type": "code",
   "execution_count": null,
   "id": "d0aca14f",
   "metadata": {},
   "outputs": [],
   "source": [
    "shutil.copy() will just copy the single file where as shutil.copytree() will copy entire folder and file in it."
   ]
  },
  {
   "cell_type": "code",
   "execution_count": null,
   "id": "50999c0d",
   "metadata": {},
   "outputs": [],
   "source": [
    "2. What function is used to rename files??"
   ]
  },
  {
   "cell_type": "code",
   "execution_count": null,
   "id": "dd2dcb23",
   "metadata": {},
   "outputs": [],
   "source": [
    "rename() function is used to rename the files in python\n",
    "os.rename('orignalname','renamedfile')"
   ]
  },
  {
   "cell_type": "code",
   "execution_count": null,
   "id": "26c7a7fb",
   "metadata": {},
   "outputs": [],
   "source": [
    "3. What is the difference between the delete functions in the send2trash and shutil modules?\n"
   ]
  },
  {
   "cell_type": "code",
   "execution_count": null,
   "id": "60300883",
   "metadata": {},
   "outputs": [],
   "source": [
    "unlink(),rmdir(),remove() are the delete functions in send2trash which deletes a file or folder permanantly.\n",
    "In shutil module the files or folders are deleted by shutil.rmtree(path) where path refers to the directory or folder address which want to be deleted."
   ]
  },
  {
   "cell_type": "code",
   "execution_count": null,
   "id": "92d1f313",
   "metadata": {},
   "outputs": [],
   "source": [
    "from zipfile import Zipfile\n",
    "with ZipFile(file_name, 'r') as zip: -> this code will open specified zipfile for us. we can use zip objext to preform oother operation the ziplife. like zip.read()\n",
    "    \n",
    "    from zipfile import Zipfile\n",
    "with ZipFile(file_name, 'r') as zip"
   ]
  },
  {
   "cell_type": "code",
   "execution_count": null,
   "id": "f4fb25d1",
   "metadata": {},
   "outputs": [],
   "source": [
    "5. Create a programme that searches a folder tree for files with a certain file extension (such as .pdf\n",
    "or .jpg). Copy these files from whatever location they are in to a new folder."
   ]
  },
  {
   "cell_type": "code",
   "execution_count": null,
   "id": "547b6219",
   "metadata": {},
   "outputs": [],
   "source": [
    "import os, shutil\n",
    "\n",
    "def selectiveCopy(source, extensions, destFolder):\n",
    "    folder = os.path.abspath(source)\n",
    "    destFolder = os.path.abspath(destFolder)\n",
    "    print('Looking in', source, 'for files with extensions of', ', '.join(extensions))\n",
    "    for foldername, subfolders, filenames in os.walk(source):\n",
    "        for filename in filenames:\n",
    "            name, extension = os.path.splitext(filename)\n",
    "            if extension in extensions:\n",
    "                fileAbsPath = foldername + os.path.sep + filename\n",
    "                print('Coping', fileAbsPath, 'to', destFolder)\n",
    "                shutil.copy(fileAbsPath, destFolder)\n",
    "\n",
    "extensions = ['.mp4', '.pdf','.jpg']\n",
    "source = \"C:\\\\Users\\\\asus\\\\Desktop\\\\source\"\n",
    "destFolder = \"C:\\\\Users\\\\asus\\\\Desktop\\\\dest\"\n",
    "selectiveCopy(source, extensions, destFolder)"
   ]
  }
 ],
 "metadata": {
  "kernelspec": {
   "display_name": "Python 3",
   "language": "python",
   "name": "python3"
  },
  "language_info": {
   "codemirror_mode": {
    "name": "ipython",
    "version": 3
   },
   "file_extension": ".py",
   "mimetype": "text/x-python",
   "name": "python",
   "nbconvert_exporter": "python",
   "pygments_lexer": "ipython3",
   "version": "3.8.8"
  }
 },
 "nbformat": 4,
 "nbformat_minor": 5
}
