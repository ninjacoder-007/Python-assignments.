{
 "cells": [
  {
   "cell_type": "code",
   "execution_count": null,
   "id": "bc3e364f",
   "metadata": {},
   "outputs": [],
   "source": [
    "1. Write a function that takes a positive integer num and calculates how many\n",
    "dots exist in a pentagonal shape around the center dot on the Nth iteration."
   ]
  },
  {
   "cell_type": "code",
   "execution_count": 1,
   "id": "d8c6db15",
   "metadata": {},
   "outputs": [
    {
     "name": "stdout",
     "output_type": "stream",
     "text": [
      "Enter integer::4\n",
      "Number of dots around the center on 4th iteration are:: 31\n"
     ]
    }
   ],
   "source": [
    "def pentagonal(n):\n",
    "    return int((5 * n**2 - 5 * n + 2) /2)\n",
    "\n",
    "n = int(input(\"Enter integer::\"))\n",
    "print(f\"Number of dots around the center on {n}th iteration are::\",pentagonal(n))"
   ]
  },
  {
   "cell_type": "code",
   "execution_count": null,
   "id": "42dcdc18",
   "metadata": {},
   "outputs": [],
   "source": [
    "2. Make a function that encrypts a given input with these steps:"
   ]
  },
  {
   "cell_type": "code",
   "execution_count": 2,
   "id": "ecd372c4",
   "metadata": {},
   "outputs": [
    {
     "name": "stdout",
     "output_type": "stream",
     "text": [
      "0n0n0baca\n",
      "0c0r0kaca\n",
      "karubaca\n",
      "0c0pl0aca\n"
     ]
    }
   ],
   "source": [
    "def encrypt(s):\n",
    "    d = {\"a\": 0 ,\"e\": 1,\"i\" : 2,\"o\" : 2, \"u\" : 3}\n",
    "    \n",
    "    s = s[::-1]\n",
    "    \n",
    "    for letter in s:\n",
    "        if letter in d.keys():\n",
    "            s = s.replace(letter,str(d[letter]))\n",
    "        return s + 'aca'\n",
    "    \n",
    "print(encrypt(\"banana\"))\n",
    "print(encrypt(\"karaca\"))\n",
    "print(encrypt(\"burak\"))\n",
    "print(encrypt(\"alpaca\"))"
   ]
  },
  {
   "cell_type": "code",
   "execution_count": null,
   "id": "78e745f9",
   "metadata": {},
   "outputs": [],
   "source": [
    "3. Given the month and year as numbers, return whether that month contains a Friday 13th.(i.e You can check Python's datetime module)\n",
    "Examples\n",
    "\n",
    "has_friday_13(3, 2020) ➞ True\n",
    "\n",
    "has_friday_13(10, 2017) ➞ True\n",
    "\n",
    "has_friday_13(1, 1985) ➞ False"
   ]
  },
  {
   "cell_type": "code",
   "execution_count": 3,
   "id": "4d66e5d5",
   "metadata": {},
   "outputs": [
    {
     "name": "stdout",
     "output_type": "stream",
     "text": [
      "True\n",
      "True\n",
      "False\n"
     ]
    }
   ],
   "source": [
    "import calendar\n",
    "\n",
    "def has_friday_13(month,year):\n",
    "    c = calendar.Calendar(firstweekday=calendar.SUNDAY)\n",
    "\n",
    "    monthcal = c.monthdatescalendar(year,month)\n",
    "\n",
    "    for week in monthcal:\n",
    "        for day in week:\n",
    "            if day.weekday() == calendar.FRIDAY and day.month == month and day.day == 13:\n",
    "                return True\n",
    "    return False\n",
    "\n",
    "print(has_friday_13(3, 2020))\n",
    "\n",
    "print(has_friday_13(10, 2017))\n",
    "\n",
    "print(has_friday_13(1, 1985))"
   ]
  },
  {
   "cell_type": "code",
   "execution_count": null,
   "id": "edc97d8b",
   "metadata": {},
   "outputs": [],
   "source": [
    "4. Write a regular expression that will help us count how many bad cookies are produced every day. You must use RegEx negative lookbehind.\n",
    "Example\n",
    "\n",
    "lst = [\"bad cookie\", \"good cookie\", \"bad cookie\", \"good cookie\", \"good cookie\"] pattern = \"yourregularexpressionhere\"\n",
    "\n",
    "len(re.findall(pattern, \", \".join(lst))) ➞ 2"
   ]
  },
  {
   "cell_type": "code",
   "execution_count": 4,
   "id": "5058dce5",
   "metadata": {},
   "outputs": [
    {
     "data": {
      "text/plain": [
       "2"
      ]
     },
     "execution_count": 4,
     "metadata": {},
     "output_type": "execute_result"
    }
   ],
   "source": [
    "import re\n",
    "\n",
    "lst = [\"bad cookie\", \"good cookie\", \"bad cookie\", \"good cookie\", \"good cookie\"]\n",
    "\n",
    "pattern = r\"(?<!good )cookie\"\n",
    "\n",
    "len(re.findall(pattern, \", \".join(lst)))"
   ]
  },
  {
   "cell_type": "code",
   "execution_count": null,
   "id": "8e83f205",
   "metadata": {},
   "outputs": [],
   "source": [
    "5. Given a list of words in the singular form, return a set of those words in the plural form if they appear more than once in the list.\n",
    "Examples\n",
    "\n",
    "pluralize([\"cow\", \"pig\", \"cow\", \"cow\"]) ➞ { \"cows\", \"pig\" }\n",
    "\n",
    "pluralize([\"table\", \"table\", \"table\"]) ➞ { \"tables\" }\n",
    "\n",
    "pluralize([\"chair\", \"pencil\", \"arm\"]) ➞ { \"chair\", \"pencil\", \"arm\" }"
   ]
  },
  {
   "cell_type": "code",
   "execution_count": 5,
   "id": "24f4c3e3",
   "metadata": {},
   "outputs": [
    {
     "name": "stdout",
     "output_type": "stream",
     "text": [
      "{'cows', 'pig'}\n",
      "{'tables'}\n",
      "{'chair', 'pencil', 'arm'}\n"
     ]
    }
   ],
   "source": [
    "def pluralize(l):\n",
    "    s = set()\n",
    "    \n",
    "    for item in l:\n",
    "        if l.count(item) > 1:\n",
    "            s.add(item + 's')\n",
    "        else:\n",
    "            s.add(item)        \n",
    "    return s    \n",
    "        \n",
    "print(pluralize([\"cow\", \"pig\", \"cow\", \"cow\"]))    \n",
    "\n",
    "print(pluralize([\"table\", \"table\", \"table\"]))\n",
    "\n",
    "print(pluralize([\"chair\", \"pencil\", \"arm\"]))"
   ]
  },
  {
   "cell_type": "code",
   "execution_count": null,
   "id": "8e9e97a6",
   "metadata": {},
   "outputs": [],
   "source": []
  }
 ],
 "metadata": {
  "kernelspec": {
   "display_name": "Python 3",
   "language": "python",
   "name": "python3"
  },
  "language_info": {
   "codemirror_mode": {
    "name": "ipython",
    "version": 3
   },
   "file_extension": ".py",
   "mimetype": "text/x-python",
   "name": "python",
   "nbconvert_exporter": "python",
   "pygments_lexer": "ipython3",
   "version": "3.8.8"
  }
 },
 "nbformat": 4,
 "nbformat_minor": 5
}
