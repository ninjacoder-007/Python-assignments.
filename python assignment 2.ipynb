{
 "cells": [
  {
   "cell_type": "markdown",
   "id": "a5e59ecd",
   "metadata": {},
   "source": [
    "1.What are the two values of the Boolean data type? How do you write them?\n",
    "\n",
    "There are two boolean data types. One is True and other is False. In python the boolean data type is written as True and False."
   ]
  },
  {
   "cell_type": "code",
   "execution_count": null,
   "id": "7c308a9c",
   "metadata": {},
   "outputs": [],
   "source": [
    "2. What are the three different types of Boolean operators?\n",
    "\n",
    "There are 3 Boolean opreators that are\n",
    "and,or,not "
   ]
  },
  {
   "cell_type": "code",
   "execution_count": null,
   "id": "8f253a8e",
   "metadata": {},
   "outputs": [],
   "source": [
    "3. Make a list of each Boolean operator&#39;s truth tables (i.e. every possible combination of Boolean\n",
    "values for the operator and what it evaluate)\n",
    "\n",
    "\n",
    "list of and operator\n",
    "A B  A and B\n",
    "1 0   0\n",
    "0 1   0\n",
    "0 0   0\n",
    "1 1   1\n",
    "\n",
    "list of or oprator\n",
    "A  B  A or B\n",
    "1  0   1\n",
    "0  1   1 \n",
    "0  0   0\n",
    "1  1    1\n",
    "\n",
    "list of not operator\n",
    "A not A    B not B\n",
    "1   0      0    1\n",
    "0   1       1    0"
   ]
  },
  {
   "cell_type": "code",
   "execution_count": null,
   "id": "54704337",
   "metadata": {},
   "outputs": [],
   "source": [
    "4. What are the values of the following expressions?\n",
    "\n",
    "\n",
    "(5 &gt; 4) and (3 == 5) ==False\n",
    "not (5 &gt; 4)          ==False\n",
    "(5 &gt; 4) or (3 == 5)  ==True\n",
    "not ((5 &gt; 4) or (3 == 5)) == False\n",
    "(True and True) and (True == False) == False\n",
    "(not False) or (not True)  == True"
   ]
  },
  {
   "cell_type": "code",
   "execution_count": null,
   "id": "44129ecc",
   "metadata": {},
   "outputs": [],
   "source": [
    "5. What are the six comparison operators?\n",
    "These are the 6 comparison opreators.\n",
    "1 == (equal to)\n",
    "2 <= (less than or equal to)\n",
    "3 >=  (greater than or equal to)\n",
    "4 <   (less than)\n",
    "5 >   (greater than)\n",
    "6 !=   (not equal to)"
   ]
  },
  {
   "cell_type": "code",
   "execution_count": null,
   "id": "bede0eb3",
   "metadata": {},
   "outputs": [],
   "source": [
    "6. How do you tell the difference between the equal to and assignment operators?Describe a\n",
    "condition and when you would use one.\n",
    "\n",
    "\n",
    "Equal to opreator is used when we want to show two values are equal or it is used when there is any kind of condition which uses two values considaring both values are equal.\n",
    "eg.  A = int(input(\"Enter the value of A \"))\n",
    "     B = int(input(\"Enter the value of B \"))\n",
    "    \n",
    "    if A == B:\n",
    "        print(\"Equal\")\n",
    "        \n",
    "In above example if user enters same value for A and B it will return \"Equal\"\n",
    "\n",
    "Assignment operator is used to assign a value to the variable in the code or define the conditon in the code.\n",
    "eg. x += 56+j\n",
    "a%=b\n",
    "a = 2\n",
    "b = 3\n",
    "a +=b this is the example of assign opreator.\n",
    " \n",
    "\n",
    "\n",
    "Equal to operator is used to difine the equality in the condition whereas assignment operator is used for various conditioins like less than, greater than,add and asign  etc.\n",
    "We could use equal to opreator to indicate equaility in two conditions.\n",
    "Assignment opreators used to add asign value."
   ]
  },
  {
   "cell_type": "code",
   "execution_count": null,
   "id": "ac0a8179",
   "metadata": {},
   "outputs": [],
   "source": [
    "7. Identify the three blocks in this code:\n",
    "spam = 0\n",
    "if spam == 10:\n",
    "print(&#39;eggs&#39;)\n",
    "if spam &gt; 5:\n",
    "print(&#39;bacon&#39;)\n",
    "else:\n",
    "print(&#39;ham&#39;)\n",
    "print(&#39;spam&#39;)\n",
    "print(&#39;spam&#39;)\n",
    "\n",
    "      \n",
    "block 1 \n",
    "      if spam == 10:\n",
    "print(&#39;eggs&#39;)\n",
    "\n",
    "      \n",
    "Block 2\n",
    "if spam &gt; 5:\n",
    "print(&#39;bacon&#39;)\n",
    "\n",
    "Block 3\n",
    "else:\n",
    "print(&#39;ham&#39;)\n",
    "print(&#39;spam&#39;)\n",
    "print(&#39;spam&#39;)\n",
    "      \n",
    "      \n",
    "      "
   ]
  },
  {
   "cell_type": "code",
   "execution_count": null,
   "id": "e2c5012c",
   "metadata": {},
   "outputs": [],
   "source": [
    "8. Write code that prints Hello if 1 is stored in spam, prints Howdy if 2 is stored in spam, and prints\n",
    "Greetings! if anything else is stored in spam.\n",
    "\n",
    "\n",
    "spam = int(input(\"Enter the number : \"))\n",
    "\n",
    "if spam == 1:\n",
    "    print(\"Hello\")\n",
    "elif spam == 2:\n",
    "    print(\"Howdy\")\n",
    "else:\n",
    "    print(\"Greetings!\")"
   ]
  },
  {
   "cell_type": "code",
   "execution_count": null,
   "id": "7ff13970",
   "metadata": {},
   "outputs": [],
   "source": [
    "9.If your programme is stuck in an endless loop, what keys you’ll press?\n",
    "\n",
    "ctrl + c is used to get out of endless loop."
   ]
  },
  {
   "cell_type": "code",
   "execution_count": null,
   "id": "13198df8",
   "metadata": {},
   "outputs": [],
   "source": [
    "10. How can you tell the difference between break and continue?\n",
    "\n",
    "When break is used in the code, when condition gets true then the loop stop itself from executing.\n",
    "When continue is used in the code, when condition gets true then the loop again continues form its starting or go forward."
   ]
  },
  {
   "cell_type": "code",
   "execution_count": null,
   "id": "6459f969",
   "metadata": {},
   "outputs": [],
   "source": [
    "11. In a for loop, what is the difference between range(10), range(0, 10), and range(0, 10, 1)?\n",
    "\n",
    "\n",
    "range(10) = It means that it gives the range of 10\n",
    "range(0,10)= It means that is gives the range from (0,10)\n",
    "range(0,10,1)= It means that is gives the range form (0,10) but with step size of 1."
   ]
  },
  {
   "cell_type": "code",
   "execution_count": null,
   "id": "8c5557fa",
   "metadata": {},
   "outputs": [],
   "source": [
    "12. Write a short program that prints the numbers 1 to 10 using a for loop. Then write an equivalent\n",
    "program that prints the numbers 1 to 10 using a while loop.\n",
    "\n",
    "\n",
    "#for loop\n",
    "for i in range(1,11):\n",
    "    print(i)\n",
    "    \n",
    "# while loop\n",
    "i = 1 \n",
    "while i < 11:\n",
    "    print(i)\n",
    "    i = i+1"
   ]
  },
  {
   "cell_type": "code",
   "execution_count": null,
   "id": "3896c2b0",
   "metadata": {},
   "outputs": [],
   "source": [
    "13. If you had a function named bacon() inside a module named spam, how would you call it after\n",
    "importing spam?\n",
    "\n",
    "\n",
    "The function can be called by spam.bacon()"
   ]
  }
 ],
 "metadata": {
  "kernelspec": {
   "display_name": "Python 3",
   "language": "python",
   "name": "python3"
  },
  "language_info": {
   "codemirror_mode": {
    "name": "ipython",
    "version": 3
   },
   "file_extension": ".py",
   "mimetype": "text/x-python",
   "name": "python",
   "nbconvert_exporter": "python",
   "pygments_lexer": "ipython3",
   "version": "3.8.8"
  }
 },
 "nbformat": 4,
 "nbformat_minor": 5
}
