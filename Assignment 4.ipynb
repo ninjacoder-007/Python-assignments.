{
 "cells": [
  {
   "cell_type": "code",
   "execution_count": null,
   "id": "d46da1cb",
   "metadata": {},
   "outputs": [],
   "source": [
    "What exactly is []?\n",
    "-> Its a symbol or parenthesis used to denote the list.\n",
    "eg. a=[] for this a the type will be list and we can add data of all type in the list"
   ]
  },
  {
   "cell_type": "code",
   "execution_count": null,
   "id": "edfbc435",
   "metadata": {},
   "outputs": [],
   "source": [
    "2. In a list of values stored in a variable called spam, how would you assign the value &#39;hello&#39; as the\n",
    "third value? (Assume [2, 4, 6, 8, 10] are in spam.)\n",
    "-> \n",
    "\n",
    "\n",
    "\n",
    "spam = [2,4,6,8,10]\n",
    "spam[2]='hello'\n",
    "                                     \n",
    "                                     \n",
    "                                     "
   ]
  },
  {
   "cell_type": "code",
   "execution_count": 4,
   "id": "1e8b5269",
   "metadata": {},
   "outputs": [],
   "source": [
    "Let&#39;s pretend the spam includes the list [&#39;a&#39;, &#39;b&#39;, &#39;c&#39;, &#39;d&#39;] for the next three queries.\n",
    "3. What is the value of spam[int(int(&#39;3&#39; * 2) / 11)]?\n",
    "4. What is the value of spam[-1]?\n",
    "5. What is the value of spam[:2]?\n",
    "                                     \n",
    "                                     \n",
    "> The value of    spam[int(int(&#39;3&#39; * 2) / 11)]   is d\n",
    "\n",
    "  The value of spam[-1] is 'd'\n",
    "\n",
    "  The value of spam[:2] is ['a', 'b']\n",
    "                               \n",
    "                               "
   ]
  },
  {
   "cell_type": "code",
   "execution_count": null,
   "id": "77d63898",
   "metadata": {},
   "outputs": [],
   "source": [
    "Let&#39;s pretend bacon has the list [3.14, &#39;cat,&#39; 11, &#39;cat,&#39; True] for the next three questions.\n",
    "6. What is the value of bacon.index(&#39;cat&#39;)?\n",
    "7. How does bacon.append(99) change the look of the list value in bacon?\n",
    "8. How does bacon.remove(&#39;cat&#39;) change the look of the list in bacon?\n",
    "                         \n",
    "                         \n",
    "-> The value of bacon.index('cat') is 1                       \n",
    "   The changed look of bacon will be like this  [3.14, 'cat', 11, 'cat', True, 99]\n",
    "   The list after removing cat will be like this [3.14, 11, 'cat', True, 99]\n",
    "                         "
   ]
  },
  {
   "cell_type": "code",
   "execution_count": null,
   "id": "7fe13aa6",
   "metadata": {},
   "outputs": [],
   "source": [
    "9. What are the list concatenation and list replication operators?\n",
    "\n",
    "-> The list concatenation opreator is + which take two list and give only one list containing the data from both the list a complete new list.\n",
    "   eg. a = [1,2]\n",
    "        b = [3,4]\n",
    "        c = a + b\n",
    "        \n",
    "    The list replication opretors is * which replicate the data from the same list for the number of times as we want.\n",
    "        eg.a=[4,6]\n",
    "            b= a*2"
   ]
  },
  {
   "cell_type": "code",
   "execution_count": null,
   "id": "41c123a0",
   "metadata": {},
   "outputs": [],
   "source": [
    "10. What is difference between the list methods append() and insert()?\n",
    "\n",
    "\n",
    "-> The append() method add the data at the last index of the list whereas for insert() method we provide index number where we want to add the data in the list."
   ]
  },
  {
   "cell_type": "code",
   "execution_count": null,
   "id": "674476e1",
   "metadata": {},
   "outputs": [],
   "source": [
    "11. What are the two methods for removing items from a list?\n",
    "\n",
    "->The two methods for removing items from a list is .remove() and .pop()."
   ]
  },
  {
   "cell_type": "code",
   "execution_count": null,
   "id": "e625aca4",
   "metadata": {},
   "outputs": [],
   "source": [
    "12. Describe how list values and string values are identical.\n",
    "\n",
    "->The values inside the list and string are indexed from 0 to the number of sub-strings inside it. \n",
    "For eg. a = 'shubham' in a the index starts from 0 to the last element's index\n",
    "        a = [5,6,3,'abc'] in this list here index also starts from o to the last element.\n",
    "    \n",
    "    They can be accessed by index values which are same in every case."
   ]
  },
  {
   "cell_type": "code",
   "execution_count": null,
   "id": "4807427e",
   "metadata": {},
   "outputs": [],
   "source": [
    "13. What&#39;s the difference between tuples and lists?\n",
    "\n",
    "Lists are fully mutable where as tuples are immutable. The list is defined with the square brackets where as tuples are enclosed in parenthesis.\n",
    "We can create list with tuples in the list. \n",
    "A = [3,4,5] This is the list.\n",
    "B =(5,6,4) This is the tuple."
   ]
  },
  {
   "cell_type": "code",
   "execution_count": null,
   "id": "e46be7ef",
   "metadata": {},
   "outputs": [],
   "source": [
    "14. How do you type a tuple value that only contains the integer 42?\n",
    "-> We can type a tuple value that only contains integer as follows.\n",
    "\n",
    "a = (42,)\n",
    "we can check the type of a by following code\n",
    "print(type(a))"
   ]
  },
  {
   "cell_type": "code",
   "execution_count": 2,
   "id": "75f8c16f",
   "metadata": {},
   "outputs": [
    {
     "name": "stdout",
     "output_type": "stream",
     "text": [
      "<class 'int'>\n"
     ]
    }
   ],
   "source": [
    "15. How do you get a list value&#39;s tuple form? How do you get a tuple value&#39;s list form?\n",
    "-> we can get list's values in tuple from by typecasting it into tuple by following code.\n",
    "   eg. a = [45,'abc'] \n",
    "        b = (tuple(a))\n",
    "        print(b)\n",
    "    In similar way we can typecast tuple value into list form.\n",
    "    \n",
    "    a = (56,34,23)\n",
    "    b = (list(a))\n",
    "    print(b)"
   ]
  },
  {
   "cell_type": "code",
   "execution_count": null,
   "id": "b06c4d5e",
   "metadata": {},
   "outputs": [],
   "source": [
    "16. Variables that &quot;contain&quot; list values are not necessarily lists themselves. Instead, what do they\n",
    "contain?\n",
    "-> As we know list and tuple can contain string,tuples,dictonaries,list,int and other datatypes.\n",
    "  string datatype variable only contain string value and  integer datatype only contain integer values where as boolean contains only bool values while float contain float values.\n",
    "\n",
    "    We can contain different types of data into the variable having datatype like list,tuple, dict and set."
   ]
  },
  {
   "cell_type": "code",
   "execution_count": null,
   "id": "a0d23474",
   "metadata": {},
   "outputs": [],
   "source": [
    "17. How do you distinguish between copy.copy() and copy.deepcopy()?\n",
    "-> copy.copy() is shallow copy where as copy.deepcopy() is deep copy.\n",
    "\n",
    "In shallow copy that is copy.copy() the orignal list is changed if we change the elements from orignal list and then run shallow copy function. Where as in deepcopy the orignal list is as it as it was but a new list genreated can have difference from orignal list if we try to change the elements from orignal list. In deepcopy one new list generated with orignal list and in shallow copy the change is done into original list."
   ]
  }
 ],
 "metadata": {
  "kernelspec": {
   "display_name": "Python 3",
   "language": "python",
   "name": "python3"
  },
  "language_info": {
   "codemirror_mode": {
    "name": "ipython",
    "version": 3
   },
   "file_extension": ".py",
   "mimetype": "text/x-python",
   "name": "python",
   "nbconvert_exporter": "python",
   "pygments_lexer": "ipython3",
   "version": "3.8.8"
  }
 },
 "nbformat": 4,
 "nbformat_minor": 5
}
