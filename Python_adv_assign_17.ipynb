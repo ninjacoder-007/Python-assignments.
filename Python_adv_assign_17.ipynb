{
 "cells": [
  {
   "cell_type": "code",
   "execution_count": null,
   "id": "f2e456d1",
   "metadata": {},
   "outputs": [],
   "source": [
    "Question1. Create a function that takes three arguments a, b, c and returns the sum of the numbers that are evenly divided by c from the range a, b inclusive.\n",
    "Examples evenly_divisible(1, 10, 20) ➞ 0\n",
    "\n",
    "No number between 1 and 10 can be evenly divided by 20.\n",
    "evenly_divisible(1, 10, 2) ➞ 30\n",
    "\n",
    "2 + 4 + 6 + 8 + 10 = 30\n",
    "evenly_divisible(1, 10, 3) ➞ 18\n",
    "\n",
    "3 + 6 + 9 = 18"
   ]
  },
  {
   "cell_type": "code",
   "execution_count": 1,
   "id": "833c706b",
   "metadata": {},
   "outputs": [
    {
     "name": "stdout",
     "output_type": "stream",
     "text": [
      "Enter a : 4\n",
      "Enter b : 5\n",
      "Enter c : 6\n",
      "0\n"
     ]
    }
   ],
   "source": [
    "def sumDivisibles(a, b, c):     \n",
    "    sum = 0\n",
    "    for i in range(a, b + 1): \n",
    "        if (i % c == 0):\n",
    "            sum += i \n",
    "    return sum\n",
    "a = int(input('Enter a : '))\n",
    "b = int(input('Enter b : '))\n",
    "c = int(input('Enter c : '))\n",
    "print(sumDivisibles(a, b, c))"
   ]
  },
  {
   "cell_type": "code",
   "execution_count": null,
   "id": "21ed1e3d",
   "metadata": {},
   "outputs": [],
   "source": [
    "Question2. Create a function that returns True if a given inequality expression is correct and False otherwise.\n",
    "Examples correct_signs(\"3 < 7 < 11\") ➞ True\n",
    "\n",
    "correct_signs(\"13 > 44 > 33 > 1\") ➞ False\n",
    "\n",
    "correct_signs(\"1 < 2 < 6 < 9 > 3\") ➞ True"
   ]
  },
  {
   "cell_type": "code",
   "execution_count": 2,
   "id": "e1375270",
   "metadata": {},
   "outputs": [
    {
     "name": "stdout",
     "output_type": "stream",
     "text": [
      "False\n",
      "False\n",
      "True\n"
     ]
    }
   ],
   "source": [
    "def correct_signs ( txt ) : \n",
    "    return eval ( txt )\n",
    "print(correct_signs(\"3 > 7 < 11\"))\n",
    "print(correct_signs(\"13 > 44 > 33 > 1\"))\n",
    "print(correct_signs(\"1 < 2 < 6 < 9 > 3\"))"
   ]
  },
  {
   "cell_type": "code",
   "execution_count": null,
   "id": "14725c32",
   "metadata": {},
   "outputs": [],
   "source": [
    "Question3. Create a function that replaces all the vowels in a string with a specified character.\n",
    "Examples replace_vowels(\"the aardvark\", \"#\") ➞ \"th# ##rdv#rk\"\n",
    "\n",
    "replace_vowels(\"minnie mouse\", \"?\") ➞ \"m?nn?? m??s?\"\n",
    "\n",
    "replace_vowels(\"shakespeare\", \"\") ➞ \"shksp**r\""
   ]
  },
  {
   "cell_type": "code",
   "execution_count": 3,
   "id": "add4159f",
   "metadata": {},
   "outputs": [
    {
     "name": "stdout",
     "output_type": "stream",
     "text": [
      "enter a string : hello\n",
      "enter a vowel replacing string : o\n",
      "\n",
      "Given Sting: hello\n",
      "Given Specified Character: o\n",
      "Afer replacing vowels with the specified character: hollo\n"
     ]
    }
   ],
   "source": [
    "def replace_vowels(str, s):\n",
    "    vowels = 'AEIOUaeiou'\n",
    "    for ele in vowels:  \n",
    "        str = str.replace(ele, s)  \n",
    "    return str\n",
    "  \n",
    "input_str = input(\"enter a string : \")\n",
    "s = input(\"enter a vowel replacing string : \")\n",
    "print(\"\\nGiven Sting:\", input_str)\n",
    "print(\"Given Specified Character:\", s)\n",
    "print(\"Afer replacing vowels with the specified character:\",replace_vowels(input_str, s))"
   ]
  },
  {
   "cell_type": "code",
   "execution_count": null,
   "id": "284b5843",
   "metadata": {},
   "outputs": [],
   "source": [
    "Question4. Write a function that calculates the factorial of a number recursively.\n",
    "Examples factorial(5) ➞ 120\n",
    "\n",
    "factorial(3) ➞ 6\n",
    "\n",
    "factorial(1) ➞ 1\n",
    "\n",
    "factorial(0) ➞ 1"
   ]
  },
  {
   "cell_type": "code",
   "execution_count": 4,
   "id": "51317347",
   "metadata": {},
   "outputs": [
    {
     "name": "stdout",
     "output_type": "stream",
     "text": [
      "enter a number :17\n",
      "Factorial of 17 is 355687428096000\n"
     ]
    }
   ],
   "source": [
    "def factorial(n):     \n",
    "    if n == 0:\n",
    "        return 1    \n",
    "    return n * factorial(n-1)\n",
    "\n",
    "num = int(input('enter a number :'))\n",
    "print(\"Factorial of\", num, \"is\", factorial(num))"
   ]
  },
  {
   "cell_type": "code",
   "execution_count": null,
   "id": "adb4daf9",
   "metadata": {},
   "outputs": [],
   "source": [
    "Hamming distance is the number of characters that differ between two strings. To illustrate:\n",
    "\n",
    "String1: \"abcbba\" String2: \"abcbda\"\n",
    "\n",
    "Hamming Distance: 1 - \"b\" vs. \"d\" is the only difference. Create a function that computes the hamming distance between two strings.\n",
    "\n",
    "Examples hamming_distance(\"abcde\", \"bcdef\") ➞ 5\n",
    "\n",
    "hamming_distance(\"abcde\", \"abcde\") ➞ 0\n",
    "\n",
    "hamming_distance(\"strong\", \"strung\") ➞ 1"
   ]
  },
  {
   "cell_type": "code",
   "execution_count": 5,
   "id": "75a5c9e4",
   "metadata": {},
   "outputs": [
    {
     "name": "stdout",
     "output_type": "stream",
     "text": [
      "5\n"
     ]
    }
   ],
   "source": [
    "def hamming_distance(str1, str2):\n",
    "    i = 0\n",
    "    count = 0\n",
    " \n",
    "    while(i < len(str1)):\n",
    "        if(str1[i] != str2[i]):\n",
    "            count += 1\n",
    "        i += 1\n",
    "    return count\n",
    " \n",
    "# Driver code \n",
    "str1 = \"abcde\"\n",
    "str2 = \"bcdef\"\n",
    " \n",
    "# function call\n",
    "print(hamming_distance(str1, str2))"
   ]
  },
  {
   "cell_type": "code",
   "execution_count": 6,
   "id": "d6a931ed",
   "metadata": {},
   "outputs": [
    {
     "name": "stdout",
     "output_type": "stream",
     "text": [
      "1\n"
     ]
    }
   ],
   "source": [
    "print(hamming_distance('strong', 'strung'))"
   ]
  },
  {
   "cell_type": "code",
   "execution_count": 7,
   "id": "7b8ce87a",
   "metadata": {},
   "outputs": [
    {
     "data": {
      "text/plain": [
       "1"
      ]
     },
     "execution_count": 7,
     "metadata": {},
     "output_type": "execute_result"
    }
   ],
   "source": [
    "hamming_distance('abcdef', 'abcdeg')"
   ]
  },
  {
   "cell_type": "code",
   "execution_count": null,
   "id": "190d4104",
   "metadata": {},
   "outputs": [],
   "source": []
  }
 ],
 "metadata": {
  "kernelspec": {
   "display_name": "Python 3",
   "language": "python",
   "name": "python3"
  },
  "language_info": {
   "codemirror_mode": {
    "name": "ipython",
    "version": 3
   },
   "file_extension": ".py",
   "mimetype": "text/x-python",
   "name": "python",
   "nbconvert_exporter": "python",
   "pygments_lexer": "ipython3",
   "version": "3.8.8"
  }
 },
 "nbformat": 4,
 "nbformat_minor": 5
}
