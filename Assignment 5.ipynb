{
 "cells": [
  {
   "cell_type": "code",
   "execution_count": null,
   "id": "c0209278",
   "metadata": {},
   "outputs": [],
   "source": [
    "1. What does an empty dictionary&#39;s code look like?\n",
    "\n",
    "-> The empty dictionary look like as follows.\n",
    "a = {}"
   ]
  },
  {
   "cell_type": "code",
   "execution_count": null,
   "id": "4dbfbc51",
   "metadata": {},
   "outputs": [],
   "source": [
    "2. What is the value of a dictionary value with the key &#39;foo&#39; and the value 42?\n",
    "\n",
    "-> The value of dictionay value is {'foo':42}"
   ]
  },
  {
   "cell_type": "code",
   "execution_count": null,
   "id": "4e771e3c",
   "metadata": {},
   "outputs": [],
   "source": [
    "3. What is the most significant distinction between a dictionary and a list?\n",
    "-> In the dictionary the values are stored in key value pair whereas in the string the data is stored in string format only.\n",
    "In the dictionary the values are stored in unordered format whereas in string its ordered."
   ]
  },
  {
   "cell_type": "code",
   "execution_count": null,
   "id": "7d6c03e3",
   "metadata": {},
   "outputs": [],
   "source": [
    "4. What happens if you try to access spam[&#39;foo&#39;] if spam is {&#39;bar&#39;: 100}?\n",
    "                                          \n",
    "            -> It will give KeyError: 'foo'\n",
    "                                          \n",
    "                                          "
   ]
  },
  {
   "cell_type": "code",
   "execution_count": null,
   "id": "95cef0db",
   "metadata": {},
   "outputs": [],
   "source": [
    "5. If a dictionary is stored in spam, what is the difference between the expressions &#39;cat&#39; in spam and\n",
    "&#39;cat&#39; in spam.keys()?\n",
    "-> There will be no difference as it will try to access the cat as key in the dictionary."
   ]
  },
  {
   "cell_type": "code",
   "execution_count": null,
   "id": "692ca2fd",
   "metadata": {},
   "outputs": [],
   "source": [
    "6. If a dictionary is stored in spam, what is the difference between the expressions &#39;cat&#39; in spam and\n",
    "&#39;cat&#39; in spam.values()?\n",
    "\n",
    "->The 'cat' in spam check whether there is cat in dictionary and the 'cat' in spam.values() will check whether there is 'cat' as values."
   ]
  },
  {
   "cell_type": "code",
   "execution_count": null,
   "id": "d2055969",
   "metadata": {},
   "outputs": [],
   "source": [
    "7. What is a shortcut for the following code?\n",
    "if &#39;color&#39; not in spam:\n",
    "spam[&#39;color&#39;] = &#39;black&#39;\n",
    "     \n",
    "-> spam.setdefault('color','black')"
   ]
  },
  {
   "cell_type": "code",
   "execution_count": null,
   "id": "2e4e22fc",
   "metadata": {},
   "outputs": [],
   "source": [
    "8. How do you &quot;pretty print&quot; dictionary values using which module and function?\n",
    "\n",
    "-> The code will look like\n",
    "pprint.pprint()"
   ]
  }
 ],
 "metadata": {
  "kernelspec": {
   "display_name": "Python 3",
   "language": "python",
   "name": "python3"
  },
  "language_info": {
   "codemirror_mode": {
    "name": "ipython",
    "version": 3
   },
   "file_extension": ".py",
   "mimetype": "text/x-python",
   "name": "python",
   "nbconvert_exporter": "python",
   "pygments_lexer": "ipython3",
   "version": "3.8.8"
  }
 },
 "nbformat": 4,
 "nbformat_minor": 5
}
