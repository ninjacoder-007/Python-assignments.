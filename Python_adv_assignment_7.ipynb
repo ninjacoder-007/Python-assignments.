{
 "cells": [
  {
   "cell_type": "code",
   "execution_count": null,
   "id": "bcfb7ba9",
   "metadata": {},
   "outputs": [],
   "source": [
    "Q1. What is the purpose of the try statement?"
   ]
  },
  {
   "cell_type": "code",
   "execution_count": null,
   "id": "aa43a5f4",
   "metadata": {},
   "outputs": [],
   "source": [
    "The purpose of try statement is to deal with the exception occured in the code."
   ]
  },
  {
   "cell_type": "code",
   "execution_count": null,
   "id": "94dd20fe",
   "metadata": {},
   "outputs": [],
   "source": [
    "Q2. What are the two most popular try statement variations?"
   ]
  },
  {
   "cell_type": "code",
   "execution_count": null,
   "id": "74d6494f",
   "metadata": {},
   "outputs": [],
   "source": [
    "The try/except/else and try/except/finally are the two different statements of try statements."
   ]
  },
  {
   "cell_type": "code",
   "execution_count": null,
   "id": "e6775a83",
   "metadata": {},
   "outputs": [],
   "source": [
    "Q3. What is the purpose of the raise statement?"
   ]
  },
  {
   "cell_type": "code",
   "execution_count": null,
   "id": "dca52d5f",
   "metadata": {},
   "outputs": [],
   "source": [
    "The purpose of raise statement is to raise an exception. "
   ]
  },
  {
   "cell_type": "code",
   "execution_count": null,
   "id": "7486c0f7",
   "metadata": {},
   "outputs": [],
   "source": [
    "Q4. What does the assert statement do, and what other statement is it like?"
   ]
  },
  {
   "cell_type": "code",
   "execution_count": null,
   "id": "228915ad",
   "metadata": {},
   "outputs": [],
   "source": [
    "Assert statement insert the condition which is always true if the condition is false then it raises the error of assertionerror. The various statments like it are assertequl,assertright,assertfalse etc."
   ]
  },
  {
   "cell_type": "code",
   "execution_count": null,
   "id": "553f0a9e",
   "metadata": {},
   "outputs": [],
   "source": [
    "Q5. What is the purpose of the with/as argument, and what other statement is it like?"
   ]
  },
  {
   "cell_type": "code",
   "execution_count": null,
   "id": "6cd4e15a",
   "metadata": {},
   "outputs": [],
   "source": [
    "The with/as function is used to handle the exceptions in the code. The other statements like this are the file.open, file.close etc."
   ]
  }
 ],
 "metadata": {
  "kernelspec": {
   "display_name": "Python 3",
   "language": "python",
   "name": "python3"
  },
  "language_info": {
   "codemirror_mode": {
    "name": "ipython",
    "version": 3
   },
   "file_extension": ".py",
   "mimetype": "text/x-python",
   "name": "python",
   "nbconvert_exporter": "python",
   "pygments_lexer": "ipython3",
   "version": "3.8.8"
  }
 },
 "nbformat": 4,
 "nbformat_minor": 5
}
