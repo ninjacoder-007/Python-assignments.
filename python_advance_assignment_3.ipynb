{
 "cells": [
  {
   "cell_type": "code",
   "execution_count": null,
   "id": "226de934",
   "metadata": {},
   "outputs": [],
   "source": [
    "What is the concept of an abstract superclass?\n",
    "\n",
    "Ans In python the parent class is referred with use of super function. When we have to initalize a parent class into a subclass we use \"super\" class ."
   ]
  },
  {
   "cell_type": "code",
   "execution_count": null,
   "id": "48e5a74a",
   "metadata": {},
   "outputs": [],
   "source": [
    "2. What happens when a class statement&#39;s top level contains a basic assignment statement?\n",
    "\n",
    "Ans By doing this the imports from the module will be failed and the the code may not work properly due to dependancies."
   ]
  },
  {
   "cell_type": "code",
   "execution_count": null,
   "id": "ebef01a6",
   "metadata": {},
   "outputs": [],
   "source": [
    "3. Why does a class need to manually call a superclass&#39;s __init__ method?\n",
    "\n",
    "Because some subclass normally need the same initialization as the superclass and when we use some different languages boilerplate in code it is for the recognization of the class by its baseclasses."
   ]
  },
  {
   "cell_type": "code",
   "execution_count": null,
   "id": "4a3d85b6",
   "metadata": {},
   "outputs": [],
   "source": [
    "4. How can you augment, instead of completely replacing, an inherited method?\n",
    "\n",
    "By Thread class , it provides class with empty implimentation and we can provide run funtion to it which will be empty implimentation.\n"
   ]
  },
  {
   "cell_type": "code",
   "execution_count": null,
   "id": "65f3825e",
   "metadata": {},
   "outputs": [],
   "source": [
    "5. How is the local scope of a class different from that of a function?\n",
    "Ans The local scope of a class has access to the variables for that class only but a function can have access to variables outside the class too."
   ]
  }
 ],
 "metadata": {
  "kernelspec": {
   "display_name": "Python 3",
   "language": "python",
   "name": "python3"
  },
  "language_info": {
   "codemirror_mode": {
    "name": "ipython",
    "version": 3
   },
   "file_extension": ".py",
   "mimetype": "text/x-python",
   "name": "python",
   "nbconvert_exporter": "python",
   "pygments_lexer": "ipython3",
   "version": "3.8.8"
  }
 },
 "nbformat": 4,
 "nbformat_minor": 5
}
