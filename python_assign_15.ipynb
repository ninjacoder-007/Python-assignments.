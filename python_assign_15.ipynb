{
 "cells": [
  {
   "cell_type": "code",
   "execution_count": null,
   "id": "ad9c9e4a",
   "metadata": {},
   "outputs": [],
   "source": [
    "1.How many seconds are in an hour? Use the interactive interpreter as a calculator and multiply the number of seconds in a minute (60) by the number of minutes in an hour (also 60)."
   ]
  },
  {
   "cell_type": "code",
   "execution_count": 1,
   "id": "6b6d3a04",
   "metadata": {},
   "outputs": [
    {
     "data": {
      "text/plain": [
       "3600"
      ]
     },
     "execution_count": 1,
     "metadata": {},
     "output_type": "execute_result"
    }
   ],
   "source": [
    "60 * 60"
   ]
  },
  {
   "cell_type": "code",
   "execution_count": null,
   "id": "0828355f",
   "metadata": {},
   "outputs": [],
   "source": [
    "2. Assign the result from the previous task (seconds in an hour) to a variable called seconds_per_hour."
   ]
  },
  {
   "cell_type": "code",
   "execution_count": 2,
   "id": "5bdf5bf0",
   "metadata": {},
   "outputs": [
    {
     "data": {
      "text/plain": [
       "3600"
      ]
     },
     "execution_count": 2,
     "metadata": {},
     "output_type": "execute_result"
    }
   ],
   "source": [
    "seconds_per_hour = 60 * 60\n",
    "seconds_per_hour"
   ]
  },
  {
   "cell_type": "code",
   "execution_count": null,
   "id": "38b795e8",
   "metadata": {},
   "outputs": [],
   "source": [
    "3. How many seconds do you think there are in a day? Make use of the variables seconds per hour and minutes per hour."
   ]
  },
  {
   "cell_type": "code",
   "execution_count": 3,
   "id": "0557c98b",
   "metadata": {},
   "outputs": [
    {
     "data": {
      "text/plain": [
       "86400"
      ]
     },
     "execution_count": 3,
     "metadata": {},
     "output_type": "execute_result"
    }
   ],
   "source": [
    "seconds_per_hour * 24"
   ]
  },
  {
   "cell_type": "code",
   "execution_count": null,
   "id": "2a008b66",
   "metadata": {},
   "outputs": [],
   "source": [
    "\n",
    "4. Calculate seconds per day again, but this time save the result in a variable called seconds_per_day"
   ]
  },
  {
   "cell_type": "code",
   "execution_count": 4,
   "id": "4417d8ec",
   "metadata": {},
   "outputs": [
    {
     "data": {
      "text/plain": [
       "86400"
      ]
     },
     "execution_count": 4,
     "metadata": {},
     "output_type": "execute_result"
    }
   ],
   "source": [
    "seconds_per_day = seconds_per_hour * 24\n",
    "seconds_per_day"
   ]
  },
  {
   "cell_type": "code",
   "execution_count": null,
   "id": "2ef39c68",
   "metadata": {},
   "outputs": [],
   "source": [
    "5. Divide seconds_per_day by seconds_per_hour. Use floating-point (/) division"
   ]
  },
  {
   "cell_type": "code",
   "execution_count": 5,
   "id": "0ae5f297",
   "metadata": {},
   "outputs": [
    {
     "data": {
      "text/plain": [
       "24.0"
      ]
     },
     "execution_count": 5,
     "metadata": {},
     "output_type": "execute_result"
    }
   ],
   "source": [
    "seconds_per_day / seconds_per_hour"
   ]
  },
  {
   "cell_type": "code",
   "execution_count": null,
   "id": "6fc98264",
   "metadata": {},
   "outputs": [],
   "source": [
    "6. Divide seconds_per_day by seconds_per_hour, using integer (//) division. Did this number agree with the floating-point value from the previous question, aside from the final .0?"
   ]
  },
  {
   "cell_type": "code",
   "execution_count": 6,
   "id": "c2b9fece",
   "metadata": {},
   "outputs": [
    {
     "data": {
      "text/plain": [
       "24"
      ]
     },
     "execution_count": 6,
     "metadata": {},
     "output_type": "execute_result"
    }
   ],
   "source": [
    "seconds_per_day // seconds_per_hour\n"
   ]
  },
  {
   "cell_type": "code",
   "execution_count": null,
   "id": "4be0ce80",
   "metadata": {},
   "outputs": [],
   "source": [
    "7. Write a generator, genPrimes, that returns the sequence of prime numbers on successive calls to its next() method: 2, 3, 5, 7, 11, ..."
   ]
  },
  {
   "cell_type": "code",
   "execution_count": 8,
   "id": "14253e94",
   "metadata": {},
   "outputs": [],
   "source": [
    "def genPrimes():\n",
    "    primes = []   # primes generated so far\n",
    "    last = 1      # last number tried\n",
    "    while True:\n",
    "        last += 1\n",
    "        for p in primes:\n",
    "            if last % p == 0:\n",
    "                break\n",
    "        else:\n",
    "            primes.append(last)\n",
    "            yield last\n",
    "\n",
    "p = genPrimes()"
   ]
  },
  {
   "cell_type": "code",
   "execution_count": null,
   "id": "450e33d3",
   "metadata": {},
   "outputs": [],
   "source": []
  }
 ],
 "metadata": {
  "kernelspec": {
   "display_name": "Python 3",
   "language": "python",
   "name": "python3"
  },
  "language_info": {
   "codemirror_mode": {
    "name": "ipython",
    "version": 3
   },
   "file_extension": ".py",
   "mimetype": "text/x-python",
   "name": "python",
   "nbconvert_exporter": "python",
   "pygments_lexer": "ipython3",
   "version": "3.8.8"
  }
 },
 "nbformat": 4,
 "nbformat_minor": 5
}
