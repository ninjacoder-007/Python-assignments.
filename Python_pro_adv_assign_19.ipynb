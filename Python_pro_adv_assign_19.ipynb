{
 "cells": [
  {
   "cell_type": "code",
   "execution_count": null,
   "id": "e3564ef3",
   "metadata": {},
   "outputs": [],
   "source": [
    "1. Create a checker board generator, which takes as inputs n and 2 elements to generate an n x n checkerboard with those two elements as alternating squares.\n",
    "Examples\n",
    "\n",
    "checker_board(2, 7, 6) ➞ [ [7, 6], [6, 7] ]\n",
    "\n",
    "checker_board(3, \"A\", \"B\") ➞ [ [\"A\", \"B\", \"A\"], [\"B\", \"A\", \"B\"], [\"A\", \"B\", \"A\"] ]\n",
    "\n",
    "checker_board(4, \"c\", \"d\") ➞ [ [\"c\", \"d\", \"c\", \"d\"], [\"d\", \"c\", \"d\", \"c\"], [\"c\", \"d\", \"c\", \"d\"], [\"d\", \"c\", \"d\", \"c\"] ]\n",
    "\n",
    "checker_board(4, \"c\", \"c\") ➞ \"invalid\""
   ]
  },
  {
   "cell_type": "code",
   "execution_count": 1,
   "id": "54f1ac37",
   "metadata": {},
   "outputs": [
    {
     "name": "stdout",
     "output_type": "stream",
     "text": [
      "[[7, 6], [6, 7]]\n",
      "[['A', 'B', 'A'], ['B', 'A', 'B'], ['A', 'B', 'A']]\n",
      "[['c', 'd', 'c', 'd'], ['d', 'c', 'd', 'c'], ['c', 'd', 'c', 'd'], ['d', 'c', 'd', 'c']]\n",
      "invalid\n"
     ]
    }
   ],
   "source": [
    "import numpy as np\n",
    "\n",
    "def checker_board(n,e1,e2):\n",
    "    if e1 != e2:\n",
    "        l = []\n",
    "        for i in range(n):\n",
    "            l1 = []\n",
    "\n",
    "            for j in range(n):\n",
    "                if i % 2 == 0:\n",
    "                    if j % 2 == 0:\n",
    "                        l1.append(e1) \n",
    "                    else:\n",
    "                        l1.append(e2)\n",
    "                else:\n",
    "                    if j % 2 == 0:\n",
    "                        l1.append(e2) \n",
    "                    else:\n",
    "                        l1.append(e1) \n",
    "\n",
    "            l.append(l1)\n",
    "        return l\n",
    "    else:\n",
    "        return \"invalid\"\n",
    "\n",
    "print(checker_board(2,7,6))\n",
    "print(checker_board(3, \"A\", \"B\"))\n",
    "print(checker_board(4, \"c\", \"d\"))\n",
    "print(checker_board(4, \"c\", \"c\"))"
   ]
  },
  {
   "cell_type": "code",
   "execution_count": null,
   "id": "9cde7f46",
   "metadata": {},
   "outputs": [],
   "source": [
    "2. A string is an almost-palindrome if, by changing only one character, you can make it a palindrome. Create a function that returns True if a string is an almost-palindrome and False otherwise.\n",
    "Examples\n",
    "\n",
    "almost_palindrome(\"abcdcbg\") ➞ True\n",
    "\n",
    "Transformed to \"abcdcba\" by changing \"g\" to \"a\".\n",
    "almost_palindrome(\"abccia\") ➞ True\n",
    "\n",
    "Transformed to \"abccba\" by changing \"i\" to \"b\".\n",
    "almost_palindrome(\"abcdaaa\") ➞ False\n",
    "\n",
    "Can't be transformed to a palindrome in exactly 1 turn.\n",
    "almost_palindrome(\"1234312\") ➞ False\n",
    "\n",
    "Create a function that finds how many prime numbers there are, up to the given integer."
   ]
  },
  {
   "cell_type": "code",
   "execution_count": 2,
   "id": "6c6eeccb",
   "metadata": {},
   "outputs": [
    {
     "name": "stdout",
     "output_type": "stream",
     "text": [
      "True\n",
      "True\n",
      "False\n"
     ]
    }
   ],
   "source": [
    "def almost_palindrome(s):\n",
    "    count = 0 \n",
    "    s1 = s[0:int(len(s)/2)+1]\n",
    "    s2 = s[-1:int(len(s)/2)-1:-1]\n",
    "    for i in range(len(s1)):\n",
    "        if s1[i] != s2[i]:\n",
    "            count += 1                \n",
    "    if count == 1:\n",
    "        return True\n",
    "    else:\n",
    "        return False\n",
    "    \n",
    "print(almost_palindrome(\"abcdcbg\"))\n",
    "print(almost_palindrome(\"abcacia\"))\n",
    "print(almost_palindrome(\"abcdaaa\"))"
   ]
  },
  {
   "cell_type": "code",
   "execution_count": null,
   "id": "f43755bc",
   "metadata": {},
   "outputs": [],
   "source": [
    "3. Create a function to check if a candidate is qualified in an imaginary coding interview of an imaginary tech startup.\n",
    "The criteria for a candidate to be qualified in the coding interview is:\n",
    "\n",
    "The candidate should have complete all the questions.\n",
    "The maximum time given to complete the interview is 120 minutes.\n",
    "The maximum time given for very easy questions is 5 minutes each.\n",
    "The maximum time given for easy questions is 10 minutes each.\n",
    "The maximum time given for medium questions is 15 minutes each.\n",
    "The maximum time given for hard questions is 20 minutes each.\n",
    "If all the above conditions are satisfied, return \"qualified\", else return \"disqualified\".\n",
    "\n",
    "You will be given a list of time taken by a candidate to solve a particular question and the total time taken by the candidate to complete the interview.\n",
    "\n",
    "Given a list , in a true condition will always be in the format [very easy, very easy, easy, easy, medium, medium, hard, hard].\n",
    "\n",
    "The maximum time to complete the interview includes a buffer time of 20 minutes.\n",
    "\n",
    "Examples\n",
    "\n",
    "interview([5, 5, 10, 10, 15, 15, 20, 20], 120) ➞ \"qualified\"\n",
    "\n",
    "interview([2, 3, 8, 6, 5, 12, 10, 18], 64) ➞ \"qualified\"\n",
    "\n",
    "interview([5, 5, 10, 10, 25, 15, 20, 20], 120) ➞ \"disqualified\"\n",
    "\n",
    "Exceeded the time limit for a medium question.\n",
    "interview([5, 5, 10, 10, 15, 15, 20], 120) ➞ \"disqualified\"\n",
    "\n",
    "Did not complete all the questions.\n",
    "interview([5, 5, 10, 10, 15, 15, 20, 20], 130) ➞ \"disqualified\"\n",
    "\n",
    "Solved all the questions in their respected time limits but exceeded the total time limit of the interview."
   ]
  },
  {
   "cell_type": "code",
   "execution_count": 3,
   "id": "792097e9",
   "metadata": {},
   "outputs": [
    {
     "data": {
      "text/plain": [
       "(10, [2, 3, 5, 7, 11, 13, 17, 19, 23, 29])"
      ]
     },
     "execution_count": 3,
     "metadata": {},
     "output_type": "execute_result"
    }
   ],
   "source": [
    "def prime_numbers(n):\n",
    "    l = [2]\n",
    "    for i in range(3,n,2):\n",
    "        for j in range(2,i):\n",
    "            if i % j == 0:                \n",
    "                break\n",
    "        else:\n",
    "            l.append(i)\n",
    "    return len(l),l\n",
    "\n",
    "prime_numbers(30)"
   ]
  },
  {
   "cell_type": "code",
   "execution_count": null,
   "id": "eb54ec73",
   "metadata": {},
   "outputs": [],
   "source": [
    "4. If today was Monday, in two days, it would be Wednesday.\n",
    "Create a function that takes in a list of days as input and the number of days to increment by. Return a list of days after n number of days has passed.\n",
    "\n",
    "Examples\n",
    "\n",
    "after_n_days([\"Thursday\", \"Monday\"], 4) ➞ [\"Monday\", \"Friday\"]\n",
    "\n",
    "after_n_days([\"Sunday\", \"Sunday\", \"Sunday\"], 1) ➞ [\"Monday\", \"Monday\", \"Monday\"]\n",
    "\n",
    "after_n_days([\"Monday\", \"Tuesday\", \"Friday\"], 1) ➞ [\"Tuesday\", \"Wednesday\", \"Saturday\"]"
   ]
  },
  {
   "cell_type": "code",
   "execution_count": 4,
   "id": "94ba6ed6",
   "metadata": {},
   "outputs": [
    {
     "name": "stdout",
     "output_type": "stream",
     "text": [
      "['Monday', 'Friday']\n",
      "['Monday', 'Monday', 'Monday']\n",
      "['Tuesday', 'Wednesday', 'Saturday']\n"
     ]
    }
   ],
   "source": [
    "def after_n_days(l,n):\n",
    "    days_of_the_week = [\"Monday\", \"Tuesday\",\"Wednesday\",\"Thursday\", \"Friday\", \"Saturday\",\"Sunday\"]\n",
    "    \n",
    "    for i in range(len(l)):\n",
    "        if days_of_the_week.index(l[i]) + n < len(days_of_the_week):\n",
    "            l[i] = days_of_the_week[days_of_the_week.index(l[i])+n]\n",
    "        else:\n",
    "            l[i] = days_of_the_week[days_of_the_week.index(l[i])+n-len(days_of_the_week)]\n",
    "            \n",
    "    return l\n",
    "\n",
    "print(after_n_days([\"Thursday\", \"Monday\"], 4))\n",
    "print(after_n_days([\"Sunday\", \"Sunday\", \"Sunday\"], 1))\n",
    "print(after_n_days([\"Monday\", \"Tuesday\", \"Friday\"], 1) )"
   ]
  },
  {
   "cell_type": "code",
   "execution_count": null,
   "id": "41d7621e",
   "metadata": {},
   "outputs": [],
   "source": [
    "5. You are in the process of creating a chat application and want to add an anonymous name feature. This anonymous name feature will create an alias that consists of two capitalized words beginning with the same letter as the users first name.\n",
    "Create a function that determines if the list of users is mapped to a list of anonymous names correctly.\n",
    "\n",
    "Examples\n",
    "\n",
    "is_correct_aliases([\"Adrian M.\", \"Harriet S.\", \"Mandy T.\"], [\"Amazing Artichoke\", \"Hopeful Hedgehog\", \"Marvelous Mouse\"]) ➞ True\n",
    "\n",
    "is_correct_aliases([\"Rachel F.\", \"Pam G.\", \"Fred Z.\", \"Nancy K.\"], [\"Reassuring Rat\", \"Peaceful Panda\", \"Fantastic Frog\", \"Notable Nickel\"]) ➞ True\n",
    "\n",
    "is_correct_aliases([\"Beth T.\"], [\"Brandishing Mimosa\"]) ➞ False\n",
    "\n",
    "Both words in \"Brandishing Mimosa\" should begin with a \"B\" - \"Brandishing Beaver\" would do the trick."
   ]
  },
  {
   "cell_type": "code",
   "execution_count": 5,
   "id": "7debf876",
   "metadata": {},
   "outputs": [
    {
     "name": "stdout",
     "output_type": "stream",
     "text": [
      "True\n",
      "True\n",
      "False\n"
     ]
    }
   ],
   "source": [
    "def is_correct_aliases(l1,l2):\n",
    "    for i in range(len(l1)):\n",
    "        if l1[i][0] == l2[i][0] and l1[i][0] == l2[i].split()[1][0]:\n",
    "            return True\n",
    "        else:\n",
    "            return False\n",
    "        \n",
    "        \n",
    "print(is_correct_aliases([\"Adrian M.\", \"Harriet S.\", \"Mandy T.\"], [\"Amazing Artichoke\", \"Hopeful Hedgehog\", \"Marvelous Mouse\"]))\n",
    "print(is_correct_aliases([\"Rachel F.\", \"Pam G.\", \"Fred Z.\", \"Nancy K.\"], [\"Reassuring Rat\", \"Peaceful Panda\", \"Fantastic Frog\", \"Notable Nickel\"]))\n",
    "print(is_correct_aliases([\"Beth T.\"], [\"Brandishing Mimosa\"]) )"
   ]
  },
  {
   "cell_type": "code",
   "execution_count": null,
   "id": "78ddbcd0",
   "metadata": {},
   "outputs": [],
   "source": []
  }
 ],
 "metadata": {
  "kernelspec": {
   "display_name": "Python 3",
   "language": "python",
   "name": "python3"
  },
  "language_info": {
   "codemirror_mode": {
    "name": "ipython",
    "version": 3
   },
   "file_extension": ".py",
   "mimetype": "text/x-python",
   "name": "python",
   "nbconvert_exporter": "python",
   "pygments_lexer": "ipython3",
   "version": "3.8.8"
  }
 },
 "nbformat": 4,
 "nbformat_minor": 5
}
