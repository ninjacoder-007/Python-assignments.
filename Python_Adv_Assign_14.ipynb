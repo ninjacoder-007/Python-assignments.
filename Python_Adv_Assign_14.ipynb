{
 "cells": [
  {
   "cell_type": "code",
   "execution_count": null,
   "id": "8ceece91",
   "metadata": {},
   "outputs": [],
   "source": [
    "Q1. Is an assignment operator like += only for show? Is it possible that it would lead to faster results\n",
    "at the runtime?"
   ]
  },
  {
   "cell_type": "code",
   "execution_count": 1,
   "id": "eb8f0656",
   "metadata": {},
   "outputs": [
    {
     "name": "stdout",
     "output_type": "stream",
     "text": [
      "--- 1.7280550003051758 seconds as a execution for above code---\n"
     ]
    }
   ],
   "source": [
    "import time\n",
    "start_time = time.time()\n",
    "sum=0\n",
    "for i in range(10000000):\n",
    "    sum+=i\n",
    "print(\"--- %s seconds as a execution for above code---\" % (time.time() - start_time))"
   ]
  },
  {
   "cell_type": "code",
   "execution_count": 2,
   "id": "5f4fe8c8",
   "metadata": {},
   "outputs": [
    {
     "name": "stdout",
     "output_type": "stream",
     "text": [
      "--- 1.737422227859497 seconds as a execution for above code ---\n"
     ]
    }
   ],
   "source": [
    "start_time = time.time()\n",
    "sum=0\n",
    "for i in range(10000000):\n",
    "    sum=sum+i\n",
    "print(\"--- %s seconds as a execution for above code ---\" % (time.time() - start_time))"
   ]
  },
  {
   "cell_type": "code",
   "execution_count": null,
   "id": "e8fbf9f9",
   "metadata": {},
   "outputs": [],
   "source": [
    "Q2. What is the smallest number of statements you'd have to write in most programming languages to replace the Python expression a, b = a + b, a?"
   ]
  },
  {
   "cell_type": "code",
   "execution_count": 3,
   "id": "ef67bfc1",
   "metadata": {},
   "outputs": [
    {
     "name": "stdout",
     "output_type": "stream",
     "text": [
      "22 10\n"
     ]
    }
   ],
   "source": [
    "a=10\n",
    "b=12\n",
    "temp=a\n",
    "a=a+b\n",
    "b=temp\n",
    "print(a,b)"
   ]
  },
  {
   "cell_type": "code",
   "execution_count": null,
   "id": "c80e95d8",
   "metadata": {},
   "outputs": [],
   "source": [
    "Q3. In Python, what is the most effective way to set a list of 100 integers to 0?"
   ]
  },
  {
   "cell_type": "code",
   "execution_count": 4,
   "id": "e0f765f1",
   "metadata": {},
   "outputs": [
    {
     "data": {
      "text/plain": [
       "[0,\n",
       " 0,\n",
       " 0,\n",
       " 0,\n",
       " 0,\n",
       " 0,\n",
       " 0,\n",
       " 0,\n",
       " 0,\n",
       " 0,\n",
       " 0,\n",
       " 0,\n",
       " 0,\n",
       " 0,\n",
       " 0,\n",
       " 0,\n",
       " 0,\n",
       " 0,\n",
       " 0,\n",
       " 0,\n",
       " 0,\n",
       " 0,\n",
       " 0,\n",
       " 0,\n",
       " 0,\n",
       " 0,\n",
       " 0,\n",
       " 0,\n",
       " 0,\n",
       " 0,\n",
       " 0,\n",
       " 0,\n",
       " 0,\n",
       " 0,\n",
       " 0,\n",
       " 0,\n",
       " 0,\n",
       " 0,\n",
       " 0,\n",
       " 0,\n",
       " 0,\n",
       " 0,\n",
       " 0,\n",
       " 0,\n",
       " 0,\n",
       " 0,\n",
       " 0,\n",
       " 0,\n",
       " 0,\n",
       " 0,\n",
       " 0,\n",
       " 0,\n",
       " 0,\n",
       " 0,\n",
       " 0,\n",
       " 0,\n",
       " 0,\n",
       " 0,\n",
       " 0,\n",
       " 0,\n",
       " 0,\n",
       " 0,\n",
       " 0,\n",
       " 0,\n",
       " 0,\n",
       " 0,\n",
       " 0,\n",
       " 0,\n",
       " 0,\n",
       " 0,\n",
       " 0,\n",
       " 0,\n",
       " 0,\n",
       " 0,\n",
       " 0,\n",
       " 0,\n",
       " 0,\n",
       " 0,\n",
       " 0,\n",
       " 0,\n",
       " 0,\n",
       " 0,\n",
       " 0,\n",
       " 0,\n",
       " 0,\n",
       " 0,\n",
       " 0,\n",
       " 0,\n",
       " 0,\n",
       " 0,\n",
       " 0,\n",
       " 0,\n",
       " 0,\n",
       " 0,\n",
       " 0,\n",
       " 0,\n",
       " 0,\n",
       " 0,\n",
       " 0,\n",
       " 0,\n",
       " 0]"
      ]
     },
     "execution_count": 4,
     "metadata": {},
     "output_type": "execute_result"
    }
   ],
   "source": [
    "ls=[0 for i in range(101)]\n",
    "ls"
   ]
  },
  {
   "cell_type": "code",
   "execution_count": null,
   "id": "d20c44c7",
   "metadata": {},
   "outputs": [],
   "source": [
    "Q4. What is the most effective way to initialise a list of 99 integers that repeats the sequence 1, 2, 3? S If necessary, show step-by-step instructions on how to accomplish this."
   ]
  },
  {
   "cell_type": "code",
   "execution_count": 5,
   "id": "aaeff451",
   "metadata": {},
   "outputs": [
    {
     "data": {
      "text/plain": [
       "[1,\n",
       " 2,\n",
       " 3,\n",
       " 1,\n",
       " 2,\n",
       " 3,\n",
       " 1,\n",
       " 2,\n",
       " 3,\n",
       " 1,\n",
       " 2,\n",
       " 3,\n",
       " 1,\n",
       " 2,\n",
       " 3,\n",
       " 1,\n",
       " 2,\n",
       " 3,\n",
       " 1,\n",
       " 2,\n",
       " 3,\n",
       " 1,\n",
       " 2,\n",
       " 3,\n",
       " 1,\n",
       " 2,\n",
       " 3,\n",
       " 1,\n",
       " 2,\n",
       " 3,\n",
       " 1,\n",
       " 2,\n",
       " 3,\n",
       " 1,\n",
       " 2,\n",
       " 3,\n",
       " 1,\n",
       " 2,\n",
       " 3,\n",
       " 1,\n",
       " 2,\n",
       " 3,\n",
       " 1,\n",
       " 2,\n",
       " 3,\n",
       " 1,\n",
       " 2,\n",
       " 3,\n",
       " 1,\n",
       " 2,\n",
       " 3,\n",
       " 1,\n",
       " 2,\n",
       " 3,\n",
       " 1,\n",
       " 2,\n",
       " 3,\n",
       " 1,\n",
       " 2,\n",
       " 3,\n",
       " 1,\n",
       " 2,\n",
       " 3,\n",
       " 1,\n",
       " 2,\n",
       " 3,\n",
       " 1,\n",
       " 2,\n",
       " 3,\n",
       " 1,\n",
       " 2,\n",
       " 3,\n",
       " 1,\n",
       " 2,\n",
       " 3,\n",
       " 1,\n",
       " 2,\n",
       " 3,\n",
       " 1,\n",
       " 2,\n",
       " 3,\n",
       " 1,\n",
       " 2,\n",
       " 3,\n",
       " 1,\n",
       " 2,\n",
       " 3,\n",
       " 1,\n",
       " 2,\n",
       " 3,\n",
       " 1,\n",
       " 2,\n",
       " 3,\n",
       " 1,\n",
       " 2,\n",
       " 3]"
      ]
     },
     "execution_count": 5,
     "metadata": {},
     "output_type": "execute_result"
    }
   ],
   "source": [
    "ls2=[]\n",
    "for i in range(1,int(100/3)):\n",
    "    for j in range(1,4):\n",
    "        ls2.append(j)\n",
    "ls2"
   ]
  },
  {
   "cell_type": "code",
   "execution_count": 6,
   "id": "7099fdff",
   "metadata": {},
   "outputs": [
    {
     "data": {
      "text/plain": [
       "[[1, 2, 3],\n",
       " [1, 2, 3],\n",
       " [1, 2, 3],\n",
       " [1, 2, 3],\n",
       " [1, 2, 3],\n",
       " [1, 2, 3],\n",
       " [1, 2, 3],\n",
       " [1, 2, 3],\n",
       " [1, 2, 3],\n",
       " [1, 2, 3],\n",
       " [1, 2, 3],\n",
       " [1, 2, 3],\n",
       " [1, 2, 3],\n",
       " [1, 2, 3],\n",
       " [1, 2, 3],\n",
       " [1, 2, 3],\n",
       " [1, 2, 3],\n",
       " [1, 2, 3],\n",
       " [1, 2, 3],\n",
       " [1, 2, 3],\n",
       " [1, 2, 3],\n",
       " [1, 2, 3],\n",
       " [1, 2, 3],\n",
       " [1, 2, 3],\n",
       " [1, 2, 3],\n",
       " [1, 2, 3],\n",
       " [1, 2, 3],\n",
       " [1, 2, 3],\n",
       " [1, 2, 3],\n",
       " [1, 2, 3],\n",
       " [1, 2, 3],\n",
       " [1, 2, 3],\n",
       " [1, 2, 3],\n",
       " [1, 2, 3],\n",
       " [1, 2, 3],\n",
       " [1, 2, 3],\n",
       " [1, 2, 3],\n",
       " [1, 2, 3],\n",
       " [1, 2, 3],\n",
       " [1, 2, 3],\n",
       " [1, 2, 3],\n",
       " [1, 2, 3],\n",
       " [1, 2, 3],\n",
       " [1, 2, 3],\n",
       " [1, 2, 3],\n",
       " [1, 2, 3],\n",
       " [1, 2, 3],\n",
       " [1, 2, 3],\n",
       " [1, 2, 3],\n",
       " [1, 2, 3],\n",
       " [1, 2, 3],\n",
       " [1, 2, 3],\n",
       " [1, 2, 3],\n",
       " [1, 2, 3],\n",
       " [1, 2, 3],\n",
       " [1, 2, 3],\n",
       " [1, 2, 3],\n",
       " [1, 2, 3],\n",
       " [1, 2, 3],\n",
       " [1, 2, 3],\n",
       " [1, 2, 3],\n",
       " [1, 2, 3],\n",
       " [1, 2, 3],\n",
       " [1, 2, 3],\n",
       " [1, 2, 3],\n",
       " [1, 2, 3],\n",
       " [1, 2, 3],\n",
       " [1, 2, 3],\n",
       " [1, 2, 3],\n",
       " [1, 2, 3],\n",
       " [1, 2, 3],\n",
       " [1, 2, 3],\n",
       " [1, 2, 3],\n",
       " [1, 2, 3],\n",
       " [1, 2, 3],\n",
       " [1, 2, 3],\n",
       " [1, 2, 3],\n",
       " [1, 2, 3],\n",
       " [1, 2, 3],\n",
       " [1, 2, 3],\n",
       " [1, 2, 3],\n",
       " [1, 2, 3],\n",
       " [1, 2, 3],\n",
       " [1, 2, 3],\n",
       " [1, 2, 3],\n",
       " [1, 2, 3],\n",
       " [1, 2, 3],\n",
       " [1, 2, 3],\n",
       " [1, 2, 3],\n",
       " [1, 2, 3],\n",
       " [1, 2, 3],\n",
       " [1, 2, 3],\n",
       " [1, 2, 3],\n",
       " [1, 2, 3],\n",
       " [1, 2, 3],\n",
       " [1, 2, 3],\n",
       " [1, 2, 3],\n",
       " [1, 2, 3],\n",
       " [1, 2, 3],\n",
       " [1, 2, 3]]"
      ]
     },
     "execution_count": 6,
     "metadata": {},
     "output_type": "execute_result"
    }
   ],
   "source": [
    "ls=[[i for i in range(1,4)] for i in range(100)]\n",
    "ls"
   ]
  },
  {
   "cell_type": "code",
   "execution_count": null,
   "id": "3e5a0b11",
   "metadata": {},
   "outputs": [],
   "source": [
    "Q5. If you're using IDLE to run a Python application, explain how to print a multidimensional list as efficiently"
   ]
  },
  {
   "cell_type": "code",
   "execution_count": null,
   "id": "13718d73",
   "metadata": {},
   "outputs": [],
   "source": [
    "As same as we done it in a pycharm or vs code or jupyter ntebook but their we have to run code by command prompt or ower shell."
   ]
  },
  {
   "cell_type": "code",
   "execution_count": null,
   "id": "d6ea0713",
   "metadata": {},
   "outputs": [],
   "source": [
    "Q6. Is it possible to use list comprehension with a string? If so, how can you go about doing it?"
   ]
  },
  {
   "cell_type": "code",
   "execution_count": 7,
   "id": "5d0d44d8",
   "metadata": {},
   "outputs": [
    {
     "data": {
      "text/plain": [
       "['string',\n",
       " 'string',\n",
       " 'string',\n",
       " 'string',\n",
       " 'string',\n",
       " 'string',\n",
       " 'string',\n",
       " 'string',\n",
       " 'string',\n",
       " 'string',\n",
       " 'string']"
      ]
     },
     "execution_count": 7,
     "metadata": {},
     "output_type": "execute_result"
    }
   ],
   "source": [
    "ls3=['string' for i in range(11)]\n",
    "ls3"
   ]
  },
  {
   "cell_type": "code",
   "execution_count": null,
   "id": "60898ef5",
   "metadata": {},
   "outputs": [],
   "source": [
    "Q7. From the command line, how do you get support with a user-written Python programme? Is this possible from inside IDLE?"
   ]
  },
  {
   "cell_type": "code",
   "execution_count": null,
   "id": "d25c779c",
   "metadata": {},
   "outputs": [],
   "source": [
    "simply we have to write the program in the idle and after wards we have to go where our program is saved in the directory through command line and we have to write command \"python .py\" and enter to run the code."
   ]
  },
  {
   "cell_type": "code",
   "execution_count": null,
   "id": "f4b58ad8",
   "metadata": {},
   "outputs": [],
   "source": [
    "Q8. Functions are said to be “first-class objects” in Python but not in most other languages, such as C++ or Java. What can you do in Python with a function (callable object) that you can't do in C or C++?"
   ]
  },
  {
   "cell_type": "code",
   "execution_count": 8,
   "id": "81c6f85e",
   "metadata": {},
   "outputs": [
    {
     "name": "stdout",
     "output_type": "stream",
     "text": [
      "python\n",
      "\r",
      " functions are also object demonstration\n"
     ]
    }
   ],
   "source": [
    "def run(s):\n",
    "    print('python\\n\\r functions are also object demonstration')\n",
    "a=run\n",
    "a('str')"
   ]
  },
  {
   "cell_type": "code",
   "execution_count": null,
   "id": "2df0687a",
   "metadata": {},
   "outputs": [],
   "source": [
    "Q9. How do you distinguish between a wrapper, a wrapped feature, and a decorator?"
   ]
  },
  {
   "cell_type": "code",
   "execution_count": 9,
   "id": "4a3fc4ca",
   "metadata": {},
   "outputs": [
    {
     "name": "stdout",
     "output_type": "stream",
     "text": [
      "my name is rohan\n",
      "MY NAME IS ROHAN\n"
     ]
    }
   ],
   "source": [
    "def islower(s):\n",
    "    s=s.lower()\n",
    "    return s\n",
    "def isupper(s):\n",
    "    return s.upper()\n",
    "def str_values(func,Str):\n",
    "    a=func(Str)\n",
    "    print(a)\n",
    "str_values(islower,'my name IS ROHAN')\n",
    "str_values(isupper,'MY NAME IS rohan')"
   ]
  },
  {
   "cell_type": "code",
   "execution_count": 10,
   "id": "86dd8660",
   "metadata": {},
   "outputs": [
    {
     "data": {
      "text/plain": [
       "'RAM'"
      ]
     },
     "execution_count": 10,
     "metadata": {},
     "output_type": "execute_result"
    }
   ],
   "source": [
    "a='ram'\n",
    "s=a.upper()\n",
    "s"
   ]
  },
  {
   "cell_type": "code",
   "execution_count": 11,
   "id": "e47f7761",
   "metadata": {},
   "outputs": [
    {
     "name": "stdout",
     "output_type": "stream",
     "text": [
      "Hello, this is before function execution\n",
      "This is inside the function !!\n",
      "This is after function execution\n"
     ]
    }
   ],
   "source": [
    "def hello_decorator(func): \n",
    "    \n",
    "    \n",
    "    def inner1(): \n",
    "        print(\"Hello, this is before function execution\") \n",
    "    \n",
    "        \n",
    "        func() \n",
    "    \n",
    "        print(\"This is after function execution\") \n",
    "            \n",
    "    return inner1 \n",
    "    \n",
    "    \n",
    "# defining a function, to be called inside wrapper \n",
    "def function_to_be_used(): \n",
    "    print(\"This is inside the function !!\") \n",
    "    \n",
    "    \n",
    "\n",
    "function_to_be_used = hello_decorator(function_to_be_used) \n",
    "    \n",
    "    \n",
    "# calling the function \n",
    "function_to_be_used() "
   ]
  },
  {
   "cell_type": "code",
   "execution_count": 12,
   "id": "c7af79ce",
   "metadata": {},
   "outputs": [],
   "source": [
    "def outer(f):\n",
    "    print('outer execution')\n",
    "    def inner():\n",
    "        aaa='rohan'\n",
    "        f()\n",
    "#         print(sww)\n",
    "        \n",
    "    return inner\n",
    "\n",
    "def fun():\n",
    "    print('fun function')"
   ]
  },
  {
   "cell_type": "code",
   "execution_count": 13,
   "id": "04b37ea5",
   "metadata": {},
   "outputs": [
    {
     "name": "stdout",
     "output_type": "stream",
     "text": [
      "outer execution\n",
      "fun function\n"
     ]
    }
   ],
   "source": [
    "s=outer(fun)\n",
    "s()"
   ]
  },
  {
   "cell_type": "code",
   "execution_count": null,
   "id": "0f071d08",
   "metadata": {},
   "outputs": [],
   "source": [
    "Q10. If a function is a generator function, what does it return?"
   ]
  },
  {
   "cell_type": "code",
   "execution_count": 14,
   "id": "b41ad749",
   "metadata": {},
   "outputs": [
    {
     "data": {
      "text/plain": [
       "<generator object gen at 0x0000021454E42660>"
      ]
     },
     "execution_count": 14,
     "metadata": {},
     "output_type": "execute_result"
    }
   ],
   "source": [
    "def gen(a):\n",
    "    a+=2\n",
    "    yield a\n",
    "s=gen(1)\n",
    "s"
   ]
  },
  {
   "cell_type": "code",
   "execution_count": 15,
   "id": "746bf0f7",
   "metadata": {},
   "outputs": [
    {
     "data": {
      "text/plain": [
       "3"
      ]
     },
     "execution_count": 15,
     "metadata": {},
     "output_type": "execute_result"
    }
   ],
   "source": [
    "next(s)"
   ]
  },
  {
   "cell_type": "code",
   "execution_count": null,
   "id": "9ddd815f",
   "metadata": {},
   "outputs": [],
   "source": [
    "Q11. What is the one improvement that must be made to a function in order for it to become a generator function in the Python language?"
   ]
  },
  {
   "cell_type": "code",
   "execution_count": null,
   "id": "5fb4558f",
   "metadata": {},
   "outputs": [],
   "source": [
    "we have to use or write a function in like that fashion that so it can be have infinite pipelines returns so it is more usefu than normal function on that case"
   ]
  },
  {
   "cell_type": "code",
   "execution_count": null,
   "id": "8e8b5b40",
   "metadata": {},
   "outputs": [],
   "source": [
    "Q12. Identify at least one benefit of generators."
   ]
  },
  {
   "cell_type": "code",
   "execution_count": null,
   "id": "62c05ea3",
   "metadata": {},
   "outputs": [],
   "source": [
    "it is a don't stop to upto last of execution returns it gives return value as it genrates from genrator function continuosly.so memory gets free as return goes to recieving genrator function also it is annonymous function like a lambda.we don't have to wait here until full of executions.Generators are excellent mediums to represent an infinite stream of data.Infinite streams cannot be stored in memory, and since generators produce only one item at a time, they can represent an infinite stream of data."
   ]
  }
 ],
 "metadata": {
  "kernelspec": {
   "display_name": "Python 3",
   "language": "python",
   "name": "python3"
  },
  "language_info": {
   "codemirror_mode": {
    "name": "ipython",
    "version": 3
   },
   "file_extension": ".py",
   "mimetype": "text/x-python",
   "name": "python",
   "nbconvert_exporter": "python",
   "pygments_lexer": "ipython3",
   "version": "3.8.8"
  }
 },
 "nbformat": 4,
 "nbformat_minor": 5
}
