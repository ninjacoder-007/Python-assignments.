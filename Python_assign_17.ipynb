{
 "cells": [
  {
   "cell_type": "code",
   "execution_count": null,
   "id": "c5b9d3d9",
   "metadata": {},
   "outputs": [],
   "source": [
    "Q1. Explain the difference between greedy and non-greedy syntax with visual terms in as few words as possible. What is the bare minimum effort required to transform a greedy pattern into a non-greedy one? What characters or characters can you introduce or change?"
   ]
  },
  {
   "cell_type": "code",
   "execution_count": 1,
   "id": "21bad45a",
   "metadata": {},
   "outputs": [
    {
     "name": "stdout",
     "output_type": "stream",
     "text": [
      "32\n",
      "(0, 32)\n",
      "<html><head><title>Title</title>\n"
     ]
    }
   ],
   "source": [
    "import re\n",
    "s = '<html><head><title>Title</title>'\n",
    "print(len(s))\n",
    "print(re.match('<.*>', s).span())\n",
    "\n",
    "print(re.match('<.*>', s).group())"
   ]
  },
  {
   "cell_type": "code",
   "execution_count": 2,
   "id": "ac496cfa",
   "metadata": {},
   "outputs": [
    {
     "name": "stdout",
     "output_type": "stream",
     "text": [
      "<html>\n"
     ]
    }
   ],
   "source": [
    "print(re.match('<.*?>', s).group())"
   ]
  },
  {
   "cell_type": "code",
   "execution_count": null,
   "id": "a3eb7b26",
   "metadata": {},
   "outputs": [],
   "source": [
    "html>\n",
    "Here it is non -geedy re expression because of theses question mark it is here only fetching the first tag that is it is difference between the greedy and non greedy statement it is only first syntax where thesee '>' brace is closing here."
   ]
  },
  {
   "cell_type": "code",
   "execution_count": null,
   "id": "e5206cd0",
   "metadata": {},
   "outputs": [],
   "source": [
    "Q2. When exactly does greedy versus non-greedy make a difference? What if you're looking for a non-greedy match but the only one available is greedy?"
   ]
  },
  {
   "cell_type": "code",
   "execution_count": 3,
   "id": "d2e8e628",
   "metadata": {},
   "outputs": [
    {
     "name": "stdout",
     "output_type": "stream",
     "text": [
      "(0, 32)\n",
      "Greddy statement\n",
      "<html><head><title>Title</title>\n",
      "Non greedy statement\n",
      "<html>\n"
     ]
    }
   ],
   "source": [
    "import re\n",
    "s = '<html><head><title>Title</title>'\n",
    "\n",
    "print(re.match('<.*>', s).span())\n",
    "print('Greddy statement')\n",
    "print(re.match('<.*>', s).group())\n",
    "print('Non greedy statement')\n",
    "print(re.match('<.*?>', s).group())"
   ]
  },
  {
   "cell_type": "code",
   "execution_count": null,
   "id": "75cbce74",
   "metadata": {},
   "outputs": [],
   "source": [
    " Describe a scenario in which using a nontagged category would have a significant impact on the program's outcomes."
   ]
  },
  {
   "cell_type": "code",
   "execution_count": 4,
   "id": "890cc77a",
   "metadata": {},
   "outputs": [
    {
     "name": "stdout",
     "output_type": "stream",
     "text": [
      "ab\n",
      "b\n"
     ]
    }
   ],
   "source": [
    "print(re.search('a??b','aaab').group())\n",
    "\n",
    "print(re.search('a??b','aacb').group())"
   ]
  },
  {
   "cell_type": "code",
   "execution_count": null,
   "id": "f277e8d0",
   "metadata": {},
   "outputs": [],
   "source": [
    "Q5. Unlike a normal regex pattern, a look-ahead condition does not consume the characters it examines. Describe a situation in which this could make a difference in the results of your programme."
   ]
  },
  {
   "cell_type": "code",
   "execution_count": 5,
   "id": "f391eb70",
   "metadata": {},
   "outputs": [
    {
     "name": "stdout",
     "output_type": "stream",
     "text": [
      "\n",
      "b\n"
     ]
    }
   ],
   "source": [
    "print(re.search('a??','aaa').group())\n",
    "# Here condition is not matching and not getting output according to our expectations so it makes the differnce in the abve results.\n",
    "print(re.search('a??b','aacb').group())"
   ]
  },
  {
   "cell_type": "code",
   "execution_count": null,
   "id": "b4a34b15",
   "metadata": {},
   "outputs": [],
   "source": [
    "Q6. In standard expressions, what is the difference between positive look-ahead and negative look-ahead?"
   ]
  },
  {
   "cell_type": "code",
   "execution_count": null,
   "id": "3bc2ae71",
   "metadata": {},
   "outputs": [],
   "source": [
    "positive look ahead Positive lookahead assertion. This succeeds if the contained regular expression, represented here by ..., successfully matches at the current location, and fails otherwise. But, once the contained expression has been tried, the matching engine doesn’t advance at all; the rest of the pattern is tried right where the assertion started"
   ]
  },
  {
   "cell_type": "code",
   "execution_count": null,
   "id": "f96d9682",
   "metadata": {},
   "outputs": [],
   "source": [
    "Q7. What is the benefit of referring to groups by name rather than by number in a standard expression?"
   ]
  },
  {
   "cell_type": "code",
   "execution_count": 6,
   "id": "319e675e",
   "metadata": {},
   "outputs": [
    {
     "data": {
      "text/plain": [
       "'write'"
      ]
     },
     "execution_count": 6,
     "metadata": {},
     "output_type": "execute_result"
    }
   ],
   "source": [
    "p = re.compile(r'(?P<word>\\b\\w+\\b)')\n",
    "m = p.search( '((((?%^& write any punctuation mark here &%^$#@*&^%H)))' )\n",
    "m.group('word')\n",
    "m.group(1)"
   ]
  },
  {
   "cell_type": "code",
   "execution_count": 7,
   "id": "aa763a86",
   "metadata": {},
   "outputs": [
    {
     "data": {
      "text/plain": [
       "{'first': 'Rohan', 'last': 'Baggulwar'}"
      ]
     },
     "execution_count": 7,
     "metadata": {},
     "output_type": "execute_result"
    }
   ],
   "source": [
    "m = re.match(r'(?P<first>\\w+) (?P<last>\\w+)', 'Rohan Baggulwar')\n",
    "m.groupdict()"
   ]
  },
  {
   "cell_type": "code",
   "execution_count": null,
   "id": "3e1536ba",
   "metadata": {},
   "outputs": [],
   "source": [
    "Q8. Can you identify repeated items within a target string using named groups, as in \"The cow jumped over the moon\"?"
   ]
  },
  {
   "cell_type": "code",
   "execution_count": 8,
   "id": "61c72734",
   "metadata": {},
   "outputs": [
    {
     "data": {
      "text/plain": [
       "'oo'"
      ]
     },
     "execution_count": 8,
     "metadata": {},
     "output_type": "execute_result"
    }
   ],
   "source": [
    "re.search(r'(.+?)\\1+', \"the cow jumped over the moon\").group()"
   ]
  },
  {
   "cell_type": "code",
   "execution_count": null,
   "id": "87c12e34",
   "metadata": {},
   "outputs": [],
   "source": [
    "Q9. When parsing a string, what is at least one thing that the Scanner interface does for you that the re.findall feature does not?"
   ]
  },
  {
   "cell_type": "code",
   "execution_count": null,
   "id": "109b879e",
   "metadata": {},
   "outputs": [],
   "source": [
    "<!-- [(<TokenType.integer: 1>, 1024),\n",
    "  (<TokenType.float: 2>, 3.14),\n",
    "  (<TokenType.string: 4>, 'hello world!'),\n",
    "  (<TokenType.control: 5>, '{'),\n",
    "  (<TokenType.bool: 3>, True),\n",
    "  (<TokenType.string: 4>, 'foobar2000'),\n",
    "  (<TokenType.control: 5>, '}')] -->\n",
    "\n",
    "\n",
    "scanner fetches input in these manner with datatype list obj but findall doesn't."
   ]
  },
  {
   "cell_type": "code",
   "execution_count": null,
   "id": "5d46bdef",
   "metadata": {},
   "outputs": [],
   "source": [
    "Q10. Does a scanner object have to be named scanner?"
   ]
  },
  {
   "cell_type": "code",
   "execution_count": null,
   "id": "7fd1765a",
   "metadata": {},
   "outputs": [],
   "source": [
    "scanner=re.Scanner()\n",
    "scanner.scan()\n",
    "Scanner is a class in java. util package used for obtaining the input of the primitive types like int, double, etc. and strings. ... To create an object of Scanner class, we usually pass the predefined object System.in, which represents the standard input stream."
   ]
  }
 ],
 "metadata": {
  "kernelspec": {
   "display_name": "Python 3",
   "language": "python",
   "name": "python3"
  },
  "language_info": {
   "codemirror_mode": {
    "name": "ipython",
    "version": 3
   },
   "file_extension": ".py",
   "mimetype": "text/x-python",
   "name": "python",
   "nbconvert_exporter": "python",
   "pygments_lexer": "ipython3",
   "version": "3.8.8"
  }
 },
 "nbformat": 4,
 "nbformat_minor": 5
}
