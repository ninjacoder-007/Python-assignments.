{
 "cells": [
  {
   "cell_type": "markdown",
   "id": "abef0444",
   "metadata": {},
   "source": [
    "1. In the below elements which of them are values or an expression? eg:- values can be\n",
    "integer or string and expressions will be mathematical operators.\n",
    "\n",
    "Ans \n",
    "    * - Its a opreator(multiplication)\n",
    "    'hello'- Its a string\n",
    "    -87.8 - Its a floating number/integer.\n",
    "    -  - Its a opreator (minus)\n",
    "    / - Its a opreator(division)\n",
    "    +  Its a opreator(positive)\n",
    "    6 Its a integer."
   ]
  },
  {
   "cell_type": "code",
   "execution_count": null,
   "id": "c901e874",
   "metadata": {},
   "outputs": [],
   "source": [
    "2 What is the difference between string and variable?\n",
    "\n",
    "\n",
    "The difference between string and variable is that string is always enclosed into single or double or triple quotes where as the variables are not enclosed into the quotes. The variable can be any of type like float, int, string etc.\n"
   ]
  },
  {
   "cell_type": "code",
   "execution_count": null,
   "id": "86a475d2",
   "metadata": {},
   "outputs": [],
   "source": [
    "3.Describe three data types.\n",
    "\n",
    "There are several data types in python. Few of them are string, int, float, complex number,boolean etc.\n",
    "string = It is enclosed into the single or double or triple quotes and consits of alphanumeric characters.\n",
    "            eg.\"shubham\",\"shubham2610\"\n",
    "int = Integer is the type of data which consist of numeric values.\n",
    "        eg.45,67,345\n",
    "float = Float is the data type which consist numeric values with the point values like 45.6,23+5j\n",
    "boolean = Its the data type which only consist True and False values."
   ]
  },
  {
   "cell_type": "code",
   "execution_count": null,
   "id": "97e3fa18",
   "metadata": {},
   "outputs": [],
   "source": [
    "4 What is an expression made up of? What do all the expressions do?\n",
    "\n",
    "\n",
    "Expressions made up of different kinds of mathematical and logical opreators,variables,different types of data and call to action functions.The function of all the expressions are to execute the given conditions with given values.The execution part done in python interpretor.\n"
   ]
  },
  {
   "cell_type": "markdown",
   "id": "69674a16",
   "metadata": {},
   "source": [
    "5. This assignment statements, like spam = 10. What is the difference between an\n",
    "expression and a statement?\n",
    "\n",
    "An expression evaluates to the value.Statement is the action or a command that python interpreter execute.\n"
   ]
  },
  {
   "cell_type": "markdown",
   "id": "7c6e10c6",
   "metadata": {},
   "source": [
    "6. After running the following code, what does the variable bacon contain?\n",
    "bacon = 22\n",
    "bacon + 1\n",
    "\n",
    "After running the above code variable bacon will contain 23"
   ]
  },
  {
   "cell_type": "code",
   "execution_count": null,
   "id": "976d0086",
   "metadata": {},
   "outputs": [],
   "source": [
    "7. What should the values of the following two terms be?\n",
    "&#39;spam&#39; + &#39;spamspam&#39;\n",
    "&#39;spam&#39; * 3\n",
    "\n",
    "The first term will be like 'spamspamspam'\n",
    "The second term will be like 'spamspamspam', both are same."
   ]
  },
  {
   "cell_type": "markdown",
   "id": "d04af350",
   "metadata": {},
   "source": [
    "8. Why is eggs a valid variable name while 100 is invalid?\n",
    "\n",
    "The answer is because the variable name can only starts with characters and some special chracters like _ etc.The variable name cannot starts with a numeric value that is the reason that 100 is invalid variable name."
   ]
  },
  {
   "cell_type": "markdown",
   "id": "5f392fef",
   "metadata": {},
   "source": [
    "9. What three functions can be used to get the integer, floating-point number, or string\n",
    "version of a value?\n",
    "\n",
    "The three functions are int(), float(), str() respectively."
   ]
  },
  {
   "cell_type": "markdown",
   "id": "f5ba6372",
   "metadata": {},
   "source": [
    "10. Why does this expression cause an error? How can you fix it?\n",
    "&#39;I have eaten &#39; + 99 + &#39; burritos.&#39;\n",
    "\n",
    "\n",
    "This expression cause error because they are trying to concatenate the heterogeneous data types , in this case the strings with integer.\n",
    "So here we can fix it by typecasting the integer into string as shown below.\n",
    "\n",
    "'I have eaten'+str(99)+'burritos'.\n",
    "or\n",
    "'I have eaten'+'99'+'burritos'"
   ]
  }
 ],
 "metadata": {
  "kernelspec": {
   "display_name": "Python 3",
   "language": "python",
   "name": "python3"
  },
  "language_info": {
   "codemirror_mode": {
    "name": "ipython",
    "version": 3
   },
   "file_extension": ".py",
   "mimetype": "text/x-python",
   "name": "python",
   "nbconvert_exporter": "python",
   "pygments_lexer": "ipython3",
   "version": "3.8.8"
  }
 },
 "nbformat": 4,
 "nbformat_minor": 5
}
