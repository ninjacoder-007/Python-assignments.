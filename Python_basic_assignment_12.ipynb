{
 "cells": [
  {
   "cell_type": "code",
   "execution_count": null,
   "id": "32d3e052",
   "metadata": {},
   "outputs": [],
   "source": [
    "1. In what modes should the PdfFileReader() and PdfFileWriter() File objects will be opened?"
   ]
  },
  {
   "cell_type": "code",
   "execution_count": null,
   "id": "deb1baa6",
   "metadata": {},
   "outputs": [],
   "source": [
    "PdfFileReader() needs to be opened in read-binary mode by passing 'rb' as the second argument to open(). Likewise, the File object passed to PyPDF2.\n",
    "\n",
    "PdfFileWriter() needs to be opened in write-binary mode with 'wb'.\n",
    "\n",
    "pdfReader = PyPDF2.PdfFileReader(pdfFileObj) Here, we create an object of PdfFileReader class of PyPDF2 module and pass the pdf file object & get a pdf reader object.\n",
    "\n",
    "pdfWriter = PyPDF2.PdfFileWriter() Rotated pages will be written to a new pdf. For writing to pdfs, we use object of PdfFileWriter class of PyPDF2 module."
   ]
  },
  {
   "cell_type": "code",
   "execution_count": null,
   "id": "c6f26109",
   "metadata": {},
   "outputs": [],
   "source": [
    "2. From a PdfFileReader object, how do you get a Page object for page 5?"
   ]
  },
  {
   "cell_type": "code",
   "execution_count": null,
   "id": "8ac034d5",
   "metadata": {},
   "outputs": [],
   "source": [
    "pageObj = pdfReader.getPage(0)\n",
    "\n",
    "To extract text from a page, you need to get a Page object, which represents a single page of a PDF, from a PdfFileReader object. You can get a Page object by calling the getPage() method ➋ on a PdfFileReader object and passing it the page number of the page you're interested in—in our case, 0"
   ]
  },
  {
   "cell_type": "code",
   "execution_count": null,
   "id": "dee4ec6e",
   "metadata": {},
   "outputs": [],
   "source": [
    "3. What PdfFileReader variable stores the number of pages in the PDF document?"
   ]
  },
  {
   "cell_type": "code",
   "execution_count": null,
   "id": "68a4b2a7",
   "metadata": {},
   "outputs": [],
   "source": [
    "import PyPDF2 pdfFileObj = open('meetingminutes.pdf', 'rb') pdfReader = PyPDF2.PdfFileReader(pdfFileObj) ➊ >>> pdfReader.numPages 19 ➋ >>> pageObj = pdfReader.getPage(0) ➌ >>> pageObj.extractText()\n",
    "\n",
    "The total number of pages in the document is stored in the numPages attribute of a PdfFileReader object ➊. The example PDF has 19 pages, but let’s extract text from only the first page."
   ]
  },
  {
   "cell_type": "code",
   "execution_count": null,
   "id": "c55d79f8",
   "metadata": {},
   "outputs": [],
   "source": [
    "4. If a PdfFileReader object’s PDF is encrypted with the password swordfish, what must you do before you can obtain Page objects from it?"
   ]
  },
  {
   "cell_type": "code",
   "execution_count": null,
   "id": "7ed91b5a",
   "metadata": {},
   "outputs": [],
   "source": [
    "PDF (Portable Document Format) is one of the most used file formats for storing and sending documents. They are commonly used for many purposes such as eBooks, Resumes, Scanned documents, etc. But as we share pdf to many people, there is a possibility of its data getting leaked or stolen. So, it’s necessary to password protect our PDF files so that only authorized persons can have access to it.\n",
    "\n",
    "In this article, we are going to see how can we set a password to protect a PDF file. We’ll be using the PyPDF2 module to encrypt and decrypt our PDF files. PyPDF2 is a Python library built as a PDF toolkit. It is capable of:\n",
    "\n",
    "Extracting document information (title, author, …) Splitting and Merging documents Cropping pages Encrypting and decrypting PDF files\n",
    "\n",
    "Installation PyPDF2 is not an inbuilt library, so we have to install it. pip3 install PyPDF2\n",
    "\n",
    "Now, we are ready to write our script to encrypt PDF files.\n",
    "\n",
    "Encrypting the PDF File First, We will open our PDF file with the reader object. Then, we will create a copy of the original file so that if something goes wrong, it doesn’t affect our original file. To create a copy, we have to iterate through every page of the file and add it to our new PDF file. Then, we can simply encrypt our new PDF file."
   ]
  },
  {
   "cell_type": "code",
   "execution_count": null,
   "id": "34ad417b",
   "metadata": {},
   "outputs": [],
   "source": [
    "5. What methods do you use to rotate a page?"
   ]
  },
  {
   "cell_type": "code",
   "execution_count": null,
   "id": "a680e85f",
   "metadata": {},
   "outputs": [],
   "source": [
    "This method involves using shortcuts to rotate a PDF. While viewing a PDF document, press the \"Ctrl+Shift+L\" keys or \"Ctrl+Shift+R\" keys to rotate the current page to the left or right."
   ]
  },
  {
   "cell_type": "code",
   "execution_count": null,
   "id": "cee5ea3a",
   "metadata": {},
   "outputs": [],
   "source": [
    "6. What is the difference between a Run object and a Paragraph object?"
   ]
  },
  {
   "cell_type": "code",
   "execution_count": null,
   "id": "08a332e8",
   "metadata": {},
   "outputs": [],
   "source": [
    "A run is the object most closely associated with inline content; text, pictures, and other items that are flowed between the block-item boundaries within a paragraph. The text in a Word document is more than just a string. It has font, size, color, and other styling information associated with it. A style in Word is a collection of these attributes. A Run object is a contiguous run of text with the same style. A new Run object is needed whenever the text style changes.\n",
    "\n",
    "Compared to plaintext, .docx files have a lot of structure. This structure is represented by three different data types in Python-Docx. At the highest level, a Document object represents the entire document. The Document object contains a list of Paragraph objects for the paragraphs in the document. (A new paragraph begins whenever the user presses ENTER or RETURN while typing in a Word document.) Each of these Paragraph objects contains a list of one or more Run objects. The single-sentence paragraph in Figure 13-4 has four runs."
   ]
  },
  {
   "cell_type": "code",
   "execution_count": null,
   "id": "55c82d80",
   "metadata": {},
   "outputs": [],
   "source": [
    "7. How do you obtain a list of Paragraph objects for a Document object that’s stored in a variable named doc?"
   ]
  },
  {
   "cell_type": "code",
   "execution_count": null,
   "id": "faf0fb5b",
   "metadata": {},
   "outputs": [],
   "source": [
    "Step 1: Import all libraries.\n",
    "\n",
    "Step 2: Convert PDF file to txt format and read data.\n",
    "\n",
    "Step 3: Use “.findall()” function of regular expressions to extract keywords.\n",
    "\n",
    "Step 4: Save list of extracted keywords in a DataFrame.\n",
    "\n",
    "Step 5 : Apply concept of TF-IDF for calculating weights of each keyword.\n",
    "\n",
    "Step 6 : Save results in a DataFrame and use “.sort_values()” to arrange keywords in order."
   ]
  },
  {
   "cell_type": "code",
   "execution_count": null,
   "id": "920ec32b",
   "metadata": {},
   "outputs": [],
   "source": [
    "8. What type of object has bold, underline, italic, strike, and outline variables?"
   ]
  },
  {
   "cell_type": "code",
   "execution_count": null,
   "id": "c90ee69d",
   "metadata": {},
   "outputs": [],
   "source": [
    "These properties define the visual characteristics of text:\n",
    "\n",
    "The Bold property determines whether text is normal or bold.\n",
    "\n",
    "The Italic property determines whether text is normal or italic.\n",
    "\n",
    "The Size property determines the height, in points, of displayed text.\n",
    "\n",
    "The Underline property determines whether text is underlined.\n",
    "\n",
    "The StrikeThrough property determines whether the text appears with strikethrough marks.\n",
    "\n",
    "The Weight property determines the darkness of the type.\n",
    "\n",
    "object.Bold [= Boolean ] object.Italic [= Boolean ] object.Size [= Currency ] object.StrikeThrough [= Boolean ] object.Underline [= Boolean ] object.Weight [= Integer ]\n",
    "\n",
    "The Bold, Italic, Size, StrikeThrough, Underline, and Weight property syntaxes have these parts:\n",
    "\n",
    "SYNTAX Part Description object Required. A valid object name. Boolean Optional. Specifies the font style. Currency Optional. A number indicating the font size. Integer Optional. Specifies the font style."
   ]
  },
  {
   "cell_type": "code",
   "execution_count": null,
   "id": "4b5ac2a1",
   "metadata": {},
   "outputs": [],
   "source": [
    "9. What is the difference between False, True, and None for the bold variable?"
   ]
  },
  {
   "cell_type": "code",
   "execution_count": null,
   "id": "1324f5b6",
   "metadata": {},
   "outputs": [],
   "source": [
    "True and False are boolean values, so in this context None can make sense if you have a boolean variable that can be in an 'unknown' state. Strictly spoken, such a variable would not be boolean, but in reality, this can be quite handy.\n",
    "In the beginning, we simply don't know if it's true or not\n",
    "is_cat_alive = None\n",
    "\n",
    "But later we will determine the status\n",
    "is_cat_alive = check_cat_in(box) Note that if you are using a boolean like this, then if is_cat_alive will be false when is_cat_alive is either False or None which makes sense but might not be what you want to know. So to explicitly check for a dead cat, you would have to use if is_cat_alive == False."
   ]
  },
  {
   "cell_type": "code",
   "execution_count": null,
   "id": "12340de3",
   "metadata": {},
   "outputs": [],
   "source": [
    " \n",
    "10. How do you create a Document object for a new Word document?"
   ]
  },
  {
   "cell_type": "code",
   "execution_count": null,
   "id": "3c0ab626",
   "metadata": {},
   "outputs": [],
   "source": [
    "What is a document object in Word? Represents a document. The Document object is a member of the Documents collection. The Documents collection contains all the Document objects that are currently open in Word.\n",
    "\n",
    "1.Open the first document\n",
    "\n",
    "2.Place the cursor where you want the second document to be inserted\n",
    "\n",
    "3.From the Insert tab, Text group, click on the down arrow next to Object and choose Text from file.\n",
    "\n",
    "4.Select the file to be inserted\n",
    "\n",
    "5.Click on Insert\n",
    "\n",
    "Note: If you also want to insert the header and footer, be sure to insert the text from the file in a new section so that the header and footer is applied to only those pages\n",
    "\n",
    "Use the Save As... command to save the combined document under a different name if you need to retain your original document."
   ]
  },
  {
   "cell_type": "code",
   "execution_count": null,
   "id": "dc6d38b9",
   "metadata": {},
   "outputs": [],
   "source": [
    "11. How do you add a paragraph with the text 'Hello, there!' to a Document object stored in a variable named doc?"
   ]
  },
  {
   "cell_type": "code",
   "execution_count": null,
   "id": "1cd26db4",
   "metadata": {},
   "outputs": [],
   "source": [
    "# import docx NOT python-docx\n",
    "import docx\n",
    "\n",
    "# create an instance of a word document\n",
    "doc = docx.Document()\n",
    "\n",
    "# add a heading of level 0 (largest heading)\n",
    "doc.add_heading('Heading for the document', 0)\n",
    "\n",
    "# add a paragraph and store\n",
    "# the object in a variable\n",
    "doc_para = doc.add_paragraph('Your paragraph goes here, ')\n",
    "\n",
    "# add a run i.e, style like\n",
    "# bold, italic, underline, etc.\n",
    "doc_para.add_run('hey there, bold here').bold = True\n",
    "doc_para.add_run(', and ')\n",
    "doc_para.add_run('these words are italic').italic = True\n",
    "\n",
    "# add a page break to start a new page\n",
    "doc.add_page_break()\n",
    "\n",
    "# add a heading of level 2\n",
    "doc.add_heading('Heading level 2', 2)\n",
    "\n",
    "# pictures can also be added to our word document\n",
    "# width is optional\n",
    "doc.add_picture('path_to_picture')\n",
    "\n",
    "# now save the document to a location\n",
    "doc.save('path_to_document')"
   ]
  },
  {
   "cell_type": "code",
   "execution_count": null,
   "id": "a9337289",
   "metadata": {},
   "outputs": [],
   "source": [
    "12. What integers represent the levels of headings available in Word documents?"
   ]
  },
  {
   "cell_type": "code",
   "execution_count": null,
   "id": "4b8e3e4b",
   "metadata": {},
   "outputs": [],
   "source": [
    "You can number headings so that top-level headings (Heading 1) are numbered 1, 2, 3, for example, and second-level headings (Heading 2) are numbered 1.1, 1.2, 1.3.\n",
    "\n",
    "Open your document that uses built-in heading styles, and select the first Heading 1.\n",
    "\n",
    "On the Home tab, in the Paragraph group, choose Multilevel List."
   ]
  }
 ],
 "metadata": {
  "kernelspec": {
   "display_name": "Python 3",
   "language": "python",
   "name": "python3"
  },
  "language_info": {
   "codemirror_mode": {
    "name": "ipython",
    "version": 3
   },
   "file_extension": ".py",
   "mimetype": "text/x-python",
   "name": "python",
   "nbconvert_exporter": "python",
   "pygments_lexer": "ipython3",
   "version": "3.8.8"
  }
 },
 "nbformat": 4,
 "nbformat_minor": 5
}
