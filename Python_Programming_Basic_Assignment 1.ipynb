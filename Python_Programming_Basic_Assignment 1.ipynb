{
 "cells": [
  {
   "cell_type": "code",
   "execution_count": null,
   "id": "554f3226",
   "metadata": {},
   "outputs": [],
   "source": [
    "1. Write a Python program to print &quot;Hello Python&quot;?\n",
    "\n",
    "->  print('Hello Python')"
   ]
  },
  {
   "cell_type": "code",
   "execution_count": null,
   "id": "9d54215d",
   "metadata": {},
   "outputs": [],
   "source": [
    "2. Write a Python program to do arithmetical operations addition and division.?\n",
    "\n",
    "a=int(input())\n",
    "b=int(input())\n",
    "\n",
    "#programme for addition\n",
    "c=a+b\n",
    "print(c)\n",
    "\n",
    "#programme for division\n",
    "\n",
    "d=a/b\n",
    "print(d)"
   ]
  },
  {
   "cell_type": "code",
   "execution_count": null,
   "id": "80b0677e",
   "metadata": {},
   "outputs": [],
   "source": [
    "3. Write a Python program to find the area of a triangle?\n",
    "\n",
    "\n",
    "b=int(input('side of triangle'))\n",
    "h=int(input('height of traingle'))\n",
    "c=1/2\n",
    "Area of triangle = c*b*h\n",
    "print(Area of triangle)"
   ]
  },
  {
   "cell_type": "code",
   "execution_count": 3,
   "id": "902a8635",
   "metadata": {},
   "outputs": [
    {
     "name": "stdout",
     "output_type": "stream",
     "text": [
      "x =  10\n",
      "y=  5\n"
     ]
    }
   ],
   "source": [
    "4. Write a Python program to swap two variables?\n",
    "\n",
    "\n",
    "x=5\n",
    "y=10\n",
    "x,y=y,x\n",
    "\n",
    "print('x = ',x)\n",
    "print('y= ',y)"
   ]
  },
  {
   "cell_type": "code",
   "execution_count": null,
   "id": "b9b03dc4",
   "metadata": {},
   "outputs": [],
   "source": [
    "5. Write a Python program to generate a random number?\n",
    "\n",
    "import random\n",
    "a=int(input('Enter the upper level'))\n",
    "b=int(input('Enter the lower level '))\n",
    "print(random.randint(a,b))"
   ]
  },
  {
   "cell_type": "code",
   "execution_count": null,
   "id": "29d6f926",
   "metadata": {},
   "outputs": [],
   "source": []
  }
 ],
 "metadata": {
  "kernelspec": {
   "display_name": "Python 3",
   "language": "python",
   "name": "python3"
  },
  "language_info": {
   "codemirror_mode": {
    "name": "ipython",
    "version": 3
   },
   "file_extension": ".py",
   "mimetype": "text/x-python",
   "name": "python",
   "nbconvert_exporter": "python",
   "pygments_lexer": "ipython3",
   "version": "3.8.8"
  }
 },
 "nbformat": 4,
 "nbformat_minor": 5
}
