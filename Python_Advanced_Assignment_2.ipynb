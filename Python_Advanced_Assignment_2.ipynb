{
 "cells": [
  {
   "cell_type": "code",
   "execution_count": null,
   "id": "ab5cb2e0",
   "metadata": {},
   "outputs": [],
   "source": [
    "Q1. What is the relationship between classes and modules?\n",
    "-> Modules are the set of code which is reusable and we can import modules for the code from outside of the code which is encapsulated inside the package. Classes are the instances which can be used seprately and along with the modules too. Classes also has reusable properties.\n",
    "In the modules there can be classes or just functions where in case of classes there be functions and we can import modules in classes itself."
   ]
  },
  {
   "cell_type": "code",
   "execution_count": null,
   "id": "8437ddc9",
   "metadata": {},
   "outputs": [],
   "source": [
    "Q2. How do you make instances and classes?\n",
    "-> We can make classes as follows\n",
    "class car:\n",
    "    pass\n",
    "The instance of class can be made as follows\n",
    "class car:\n",
    "    def __init__():\n",
    "        pass"
   ]
  },
  {
   "cell_type": "code",
   "execution_count": null,
   "id": "2484171f",
   "metadata": {},
   "outputs": [],
   "source": [
    "Q3. Where and how should be class attributes created?\n",
    "-> The class attribute created as follows\n",
    "class car:\n",
    "    model = 'SUV' #class attribute.\n"
   ]
  },
  {
   "cell_type": "code",
   "execution_count": null,
   "id": "808a25f6",
   "metadata": {},
   "outputs": [],
   "source": [
    "Q4. Where and how are instance attributes created?\n",
    "-> class car:\n",
    "    def __init__(self):\n",
    "        self.name = 'maruti'\n",
    "        self.price = 500000\n",
    "        \n",
    "This are the instance attributes."
   ]
  },
  {
   "cell_type": "code",
   "execution_count": null,
   "id": "8975bc5b",
   "metadata": {},
   "outputs": [],
   "source": [
    "Q5. What does the term &quot;self&quot; in a Python class mean?\n",
    "-> The self in class works as a pointer where it points to the class\n",
    "eg \n",
    "class car:\n",
    "    def __init__(self,name,price):\n",
    "        self.name = 'scross'\n",
    "        self.price = 700000\n",
    "        \n",
    "    The self in the class is the instance of the class. "
   ]
  },
  {
   "cell_type": "code",
   "execution_count": null,
   "id": "6b8478b0",
   "metadata": {},
   "outputs": [],
   "source": [
    "Q6. How does a Python class handle operator overloading?\n",
    "->When we use particular opreator in the class the python automatically invoked the associated function with that opreator.\n",
    "as like for + opreator there is __add__ opreator."
   ]
  },
  {
   "cell_type": "code",
   "execution_count": null,
   "id": "517f2202",
   "metadata": {},
   "outputs": [],
   "source": [
    "Q7. When do you consider allowing operator overloading of your classes?\n",
    "When we use the + and * opreator in the python classes in str object it gives same result but for the int and float shows differed behaviours. This is when we consider opreator overloading."
   ]
  },
  {
   "cell_type": "code",
   "execution_count": null,
   "id": "fab0b377",
   "metadata": {},
   "outputs": [],
   "source": [
    "Q8. What is the most popular form of operator overloading?\n",
    "->Addition opreator form of overloading in python."
   ]
  },
  {
   "cell_type": "code",
   "execution_count": null,
   "id": "a126738e",
   "metadata": {},
   "outputs": [],
   "source": [
    "Q9. What are the two most important concepts to grasp in order to comprehend Python OOP code?\n",
    "-> Encapsulation, Inheritance,Polymorphism an object association are the important concepts to grasp in order to comprehend python OOP code."
   ]
  }
 ],
 "metadata": {
  "kernelspec": {
   "display_name": "Python 3",
   "language": "python",
   "name": "python3"
  },
  "language_info": {
   "codemirror_mode": {
    "name": "ipython",
    "version": 3
   },
   "file_extension": ".py",
   "mimetype": "text/x-python",
   "name": "python",
   "nbconvert_exporter": "python",
   "pygments_lexer": "ipython3",
   "version": "3.8.8"
  }
 },
 "nbformat": 4,
 "nbformat_minor": 5
}
