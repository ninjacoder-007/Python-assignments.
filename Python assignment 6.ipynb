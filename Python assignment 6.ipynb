{
 "cells": [
  {
   "cell_type": "code",
   "execution_count": null,
   "id": "8a9962a0",
   "metadata": {},
   "outputs": [],
   "source": [
    "Describe three applications for exception processing."
   ]
  },
  {
   "cell_type": "code",
   "execution_count": null,
   "id": "2e39cad6",
   "metadata": {},
   "outputs": [],
   "source": [
    "The applications for exception processing are as follows.\n",
    "We can add exception handling in the code where the user is entering the data in the system so that the data should be in required manner only.\n",
    "We can also add exception handling when we dividing some value by other to ensure that we must not make denominator as 0.\n",
    "The exception handling is also used when we add the login function to the system."
   ]
  },
  {
   "cell_type": "code",
   "execution_count": null,
   "id": "50a19a61",
   "metadata": {},
   "outputs": [],
   "source": [
    "Q2. What happens if you dont do something extra to treat an exception?"
   ]
  },
  {
   "cell_type": "code",
   "execution_count": null,
   "id": "40ca3b1c",
   "metadata": {},
   "outputs": [],
   "source": [
    "If we dont do something extra to treat the exception then there are high chances of that the system will fail to generate the output or work properly."
   ]
  },
  {
   "cell_type": "code",
   "execution_count": null,
   "id": "f05aadb2",
   "metadata": {},
   "outputs": [],
   "source": [
    "Q3. What are your options for recovering from an exception in your script?"
   ]
  },
  {
   "cell_type": "code",
   "execution_count": null,
   "id": "15919f84",
   "metadata": {},
   "outputs": [],
   "source": [
    "For recovering from an exception in the script we can redirect that code to the first step where it begins or we can redirect it to the next page showing the error, so in that manner we have lot of options for recovering from an exceptoins."
   ]
  },
  {
   "cell_type": "code",
   "execution_count": null,
   "id": "cca4a937",
   "metadata": {},
   "outputs": [],
   "source": [
    "Q4. Describe two methods for triggering exceptions in your script."
   ]
  },
  {
   "cell_type": "code",
   "execution_count": null,
   "id": "8af2c79e",
   "metadata": {},
   "outputs": [],
   "source": [
    "We can use try error clauses for exception triggerings and other is raise function to raise the exception."
   ]
  },
  {
   "cell_type": "code",
   "execution_count": null,
   "id": "dcc39772",
   "metadata": {},
   "outputs": [],
   "source": [
    "Q5. Identify two methods for specifying actions to be executed at termination time, regardless of\n",
    "whether or not an exception exists."
   ]
  },
  {
   "cell_type": "code",
   "execution_count": null,
   "id": "559fc9d0",
   "metadata": {},
   "outputs": [],
   "source": [
    "Python finally and raise functions can be used."
   ]
  }
 ],
 "metadata": {
  "kernelspec": {
   "display_name": "Python 3",
   "language": "python",
   "name": "python3"
  },
  "language_info": {
   "codemirror_mode": {
    "name": "ipython",
    "version": 3
   },
   "file_extension": ".py",
   "mimetype": "text/x-python",
   "name": "python",
   "nbconvert_exporter": "python",
   "pygments_lexer": "ipython3",
   "version": "3.8.8"
  }
 },
 "nbformat": 4,
 "nbformat_minor": 5
}
