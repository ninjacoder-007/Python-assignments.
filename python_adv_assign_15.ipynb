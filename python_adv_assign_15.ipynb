{
 "cells": [
  {
   "cell_type": "code",
   "execution_count": null,
   "id": "25c279b6",
   "metadata": {},
   "outputs": [],
   "source": [
    "1. What are the new features added in Python 3.8 version?"
   ]
  },
  {
   "cell_type": "code",
   "execution_count": null,
   "id": "e0ca3778",
   "metadata": {},
   "outputs": [],
   "source": [
    "Summary – Release highlights.\n",
    "* PEP 405: Virtual Environments.\n",
    "* PEP 420: Implicit Namespace Packages.\n",
    "* PEP 3118: New memoryview implementation and buffer protocol documentation.\n",
    "* PEP 393: Flexible String Representation.\n",
    "* PEP 397: Python Launcher for Windows.\n",
    "* PEP 3151: Reworking the OS and IO exception hierarchy.\n",
    "* PEP 587: Python Initialization Configuration\n",
    "* PEP 590: Vectorcall: a fast calling protocol for CPython"
   ]
  },
  {
   "cell_type": "code",
   "execution_count": null,
   "id": "01186bbe",
   "metadata": {},
   "outputs": [],
   "source": [
    "2. What is monkey patching in Python?"
   ]
  },
  {
   "cell_type": "code",
   "execution_count": null,
   "id": "f814199a",
   "metadata": {},
   "outputs": [],
   "source": [
    "In Ruby, Python, and many other dynamic programming languages, the term monkey patch only refers to dynamic modifications of a class or module at runtime, motivated by the intent to patch existing third-party code as a workaround to a bug or feature which does not act as desired."
   ]
  },
  {
   "cell_type": "code",
   "execution_count": null,
   "id": "036c3737",
   "metadata": {},
   "outputs": [],
   "source": [
    "3. What is the difference between a shallow copy and deep copy?"
   ]
  },
  {
   "cell_type": "code",
   "execution_count": null,
   "id": "af2fe049",
   "metadata": {},
   "outputs": [],
   "source": [
    "Assignment statements in Python do not copy objects, they create bindings between a target and an object. For collections that are mutable or contain mutable items, a copy is sometimes needed so one can change one copy without changing the other. This module provides generic shallow and deep copy operations (explained below).\n",
    "\n",
    "Interface summary: copy.copy(x) Return a shallow copy of x.\n",
    "\n",
    "copy.deepcopy(x[, memo]) Return a deep copy of x.\n",
    "\n",
    "exception copy.Error Raised for module specific errors.\n",
    "\n",
    "The difference between shallow and deep copying is only relevant for compound objects (objects that contain other objects, like lists or class instances):\n",
    "\n",
    "A shallow copy constructs a new compound object and then (to the extent possible) inserts references into it to the objects found in the original. A deep copy constructs a new compound object and then, recursively, inserts copies into it of the objects found in the original"
   ]
  },
  {
   "cell_type": "code",
   "execution_count": null,
   "id": "bb9eb582",
   "metadata": {},
   "outputs": [],
   "source": [
    "4. What is the maximum possible length of an identifier?"
   ]
  },
  {
   "cell_type": "code",
   "execution_count": null,
   "id": "f602d9d9",
   "metadata": {},
   "outputs": [],
   "source": [
    "In Python, the highest possible length of an identifier is 79 characters. Python is a high level programming language. It’s also a complex form and a collector of waste.\n",
    "\n",
    "Python, particularly when combined with identifiers, is case-sensitive.\n",
    "When writing or using identifiers in Python, it has a maximum of 79 characters.\n",
    "Unlikely, Python gives the identifiers unlimited length.\n",
    "However, the layout of PEP-8 prevents the user from breaking the rules and includes a 79-character limit."
   ]
  },
  {
   "cell_type": "code",
   "execution_count": null,
   "id": "ea739ea1",
   "metadata": {},
   "outputs": [],
   "source": [
    "5. What is generator comprehension?"
   ]
  },
  {
   "cell_type": "code",
   "execution_count": null,
   "id": "451819a9",
   "metadata": {},
   "outputs": [],
   "source": [
    "A generator comprehension is a single-line specification for defining a generator in Python. It is absolutely essential to learn this syntax in order to write simple and readable code. Note: Generator comprehensions are not the only method for defining generators in Python. One can define a generator similar to the way one can define a function (which we will encounter soon). See this section of the official Python tutorial if you are interested in diving deeper into generators.\n",
    "\n",
    "Python provides a sleek syntax for defining a simple generator in a single line of code; this expression is known as a generator comprehension. The following syntax is extremely useful and will appear very frequently in Python code:\n",
    "\n",
    "The syntax ( for in [if ]) specifies the general form for a generator comprehension. This produces a generator, whose instructions for generating its members are provided within the parenthetical statement.\n",
    "\n",
    "Written in a long form, the pseudo-code for\n",
    "\n",
    "( for in if )\n",
    "\n",
    "is:\n",
    "\n",
    "for <var> in <iterable>:\n",
    "    if bool(<condition>):\n",
    "        yield <expression>\n",
    " "
   ]
  },
  {
   "cell_type": "code",
   "execution_count": null,
   "id": "25e390ed",
   "metadata": {},
   "outputs": [],
   "source": []
  }
 ],
 "metadata": {
  "kernelspec": {
   "display_name": "Python 3",
   "language": "python",
   "name": "python3"
  },
  "language_info": {
   "codemirror_mode": {
    "name": "ipython",
    "version": 3
   },
   "file_extension": ".py",
   "mimetype": "text/x-python",
   "name": "python",
   "nbconvert_exporter": "python",
   "pygments_lexer": "ipython3",
   "version": "3.8.8"
  }
 },
 "nbformat": 4,
 "nbformat_minor": 5
}
