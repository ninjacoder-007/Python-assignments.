{
 "cells": [
  {
   "cell_type": "code",
   "execution_count": null,
   "id": "02f0823d",
   "metadata": {},
   "outputs": [],
   "source": [
    "1. Write a Python program to find words which are greater than given length k?"
   ]
  },
  {
   "cell_type": "code",
   "execution_count": 2,
   "id": "f026a719",
   "metadata": {},
   "outputs": [
    {
     "name": "stdout",
     "output_type": "stream",
     "text": [
      "['ineuron', 'best', 'edtech']\n"
     ]
    }
   ],
   "source": [
    "def string_k(k, str):\n",
    "     \n",
    "    # create the empty string\n",
    "    string = []\n",
    "     \n",
    "    # split the string where space is comes\n",
    "    text = str.split(\" \")\n",
    "     \n",
    "    # iterate the loop till every substring\n",
    "    for x in text:\n",
    "         \n",
    "        # if length of current sub string\n",
    "        # is greater than k then\n",
    "        if len(x) > k:\n",
    "             \n",
    "            # append this sub string in\n",
    "            # string list\n",
    "            string.append(x)\n",
    "             \n",
    "     # return string list\n",
    "    return string\n",
    " \n",
    " \n",
    "# Driver Program    \n",
    "k = 3\n",
    "str =\"ineuron is best edtech\"\n",
    "print(string_k(k, str))"
   ]
  },
  {
   "cell_type": "code",
   "execution_count": null,
   "id": "8a8c52df",
   "metadata": {},
   "outputs": [],
   "source": [
    "2. Write a Python program for removing i-th character from a string?"
   ]
  },
  {
   "cell_type": "code",
   "execution_count": 3,
   "id": "51ca9975",
   "metadata": {},
   "outputs": [
    {
     "name": "stdout",
     "output_type": "stream",
     "text": [
      "The original string is : ineuron provides various courses\n",
      "The string after removal of i'th character : inuron provides various courses\n"
     ]
    }
   ],
   "source": [
    "test_str = \"ineuron provides various courses\"\n",
    "  \n",
    "# Printing original string \n",
    "print (\"The original string is : \" + test_str)\n",
    "  \n",
    "# Removing char at pos 3\n",
    "# using loop\n",
    "new_str = \"\"\n",
    "  \n",
    "for i in range(len(test_str)):\n",
    "    if i != 2:\n",
    "        new_str = new_str + test_str[i]\n",
    "  \n",
    "# Printing string after removal  \n",
    "print (\"The string after removal of i'th character : \" + new_str)"
   ]
  },
  {
   "cell_type": "code",
   "execution_count": null,
   "id": "81f98e0f",
   "metadata": {},
   "outputs": [],
   "source": [
    "3. Write a Python program to split and join a string?"
   ]
  },
  {
   "cell_type": "code",
   "execution_count": 4,
   "id": "42e02b2d",
   "metadata": {},
   "outputs": [
    {
     "name": "stdout",
     "output_type": "stream",
     "text": [
      "['Ineuron', 'is', 'the', 'edtech', 'startup']\n",
      "Ineuron-is-the-edtech-startup\n"
     ]
    }
   ],
   "source": [
    "def split_string(string):\n",
    "  \n",
    "    # Split the string based on space delimiter\n",
    "    list_string = string.split(' ')\n",
    "      \n",
    "    return list_string\n",
    "  \n",
    "def join_string(list_string):\n",
    "  \n",
    "    # Join the string based on '-' delimiter\n",
    "    string = '-'.join(list_string)\n",
    "      \n",
    "    return string\n",
    "  \n",
    "# Driver Function\n",
    "if __name__ == '__main__':\n",
    "    string = 'Ineuron is the edtech startup'\n",
    "      \n",
    "    # Splitting a string\n",
    "    list_string = split_string(string)\n",
    "    print(list_string)\n",
    "  \n",
    "     # Join list of strings into one\n",
    "    new_string = join_string(list_string)\n",
    "    print(new_string)"
   ]
  },
  {
   "cell_type": "code",
   "execution_count": null,
   "id": "27a3953c",
   "metadata": {},
   "outputs": [],
   "source": [
    "4. Write a Python to check if a given string is binary string or not?"
   ]
  },
  {
   "cell_type": "code",
   "execution_count": 6,
   "id": "12145c49",
   "metadata": {},
   "outputs": [
    {
     "name": "stdout",
     "output_type": "stream",
     "text": [
      "Yes\n"
     ]
    }
   ],
   "source": [
    "def check(string) :\n",
    " \n",
    "    # set function convert string\n",
    "    # into set of characters .\n",
    "    p = set(string)\n",
    " \n",
    "    # declare set of '0', '1' .\n",
    "    s = {'0', '1'}\n",
    " \n",
    "    # check set p is same as set s\n",
    "    # or set p contains only '0'\n",
    "    # or set p contains only '1'\n",
    "    # or not, if any one condition\n",
    "    # is true then string is accepted\n",
    "    # otherwise not .\n",
    "    if s == p or p == {'0'} or p == {'1'}:\n",
    "        print(\"Yes\")\n",
    "    else :\n",
    "        print(\"No\")\n",
    " \n",
    " \n",
    "         \n",
    "# driver code\n",
    "if __name__ == \"__main__\" :\n",
    " \n",
    "    string = \"1010101100111\"\n",
    " \n",
    "    # function calling\n",
    "    check(string)"
   ]
  },
  {
   "cell_type": "code",
   "execution_count": null,
   "id": "753cd715",
   "metadata": {},
   "outputs": [],
   "source": [
    "5. Write a Python program to find uncommon words from two Strings?"
   ]
  },
  {
   "cell_type": "code",
   "execution_count": 7,
   "id": "f93334f0",
   "metadata": {},
   "outputs": [
    {
     "name": "stdout",
     "output_type": "stream",
     "text": [
      "['CEO', 'inueron', 'Sudhanshu', 'Kumar', 'CIO', 'ineuron', 'Krish', 'Naik']\n"
     ]
    }
   ],
   "source": [
    "def UncommonWords(A, B):\n",
    "  \n",
    "    # count will contain all the word counts\n",
    "    count = {}\n",
    "      \n",
    "    # insert words of string A to hash\n",
    "    for word in A.split():\n",
    "        count[word] = count.get(word, 0) + 1\n",
    "      \n",
    "    # insert words of string B to hash\n",
    "    for word in B.split():\n",
    "        count[word] = count.get(word, 0) + 1\n",
    "  \n",
    "    # return required list of words\n",
    "    return [word for word in count if count[word] == 1]\n",
    "  \n",
    "# Driver Code\n",
    "A = \"The CEO of inueron is Mr. Sudhanshu Kumar\"\n",
    "B = \"The CIO of ineuron is Mr. Krish Naik\"\n",
    "  \n",
    "# Print required answer\n",
    "print(UncommonWords(A, B))"
   ]
  },
  {
   "cell_type": "code",
   "execution_count": null,
   "id": "310b0f14",
   "metadata": {},
   "outputs": [],
   "source": [
    "6. Write a Python to find all duplicate characters in string?"
   ]
  },
  {
   "cell_type": "code",
   "execution_count": 25,
   "id": "f1f123e1",
   "metadata": {},
   "outputs": [
    {
     "name": "stdout",
     "output_type": "stream",
     "text": [
      "['l']\n",
      "['n']\n",
      "[]\n"
     ]
    },
    {
     "data": {
      "text/plain": [
       "[]"
      ]
     },
     "execution_count": 25,
     "metadata": {},
     "output_type": "execute_result"
    }
   ],
   "source": [
    "def find_duplicates(s):\n",
    "    elements = {}\n",
    "    for char in s:\n",
    "        if elements.get(char,None) != None:\n",
    "            elements[char]+=1\n",
    "        else:\n",
    "            elements[char] = 1\n",
    "    return [k for k,v in elements.items() if v>1]\n",
    "\n",
    "print(find_duplicates(\"Hello\"))\n",
    "['l']\n",
    "print(find_duplicates(\"ineuron\"))\n",
    "['p', 'o']\n",
    "print(find_duplicates(\"Python\"))\n",
    "[]"
   ]
  },
  {
   "cell_type": "code",
   "execution_count": null,
   "id": "bb006858",
   "metadata": {},
   "outputs": [],
   "source": [
    "7. Write a Python Program to check if a string contains any special character?"
   ]
  },
  {
   "cell_type": "code",
   "execution_count": 28,
   "id": "89287359",
   "metadata": {},
   "outputs": [
    {
     "name": "stdout",
     "output_type": "stream",
     "text": [
      "String contains special characters.\n"
     ]
    }
   ],
   "source": [
    "import re\n",
    "  \n",
    "# Function checks if the string\n",
    "# contains any special character\n",
    "def run(string):\n",
    "  \n",
    "    # Make own character set and pass \n",
    "    # this as argument in compile method\n",
    "    regex = re.compile('[@_!#$%^&*()<>?/\\|}{~:]')\n",
    "      \n",
    "    # Pass the string in search \n",
    "    # method of regex object.    \n",
    "    if(regex.search(string) == None):\n",
    "        print(\"String does not contain special character\")\n",
    "          \n",
    "    else:\n",
    "        print(\"String contains special characters.\")\n",
    "      \n",
    "  \n",
    "# Driver Code\n",
    "if __name__ == '__main__' :\n",
    "      \n",
    "    # Enter the string\n",
    "    string = \"Ineuron, the edtech startup!\"\n",
    "      \n",
    "    # calling run function \n",
    "    run(string)"
   ]
  },
  {
   "cell_type": "code",
   "execution_count": null,
   "id": "6c9176aa",
   "metadata": {},
   "outputs": [],
   "source": []
  }
 ],
 "metadata": {
  "kernelspec": {
   "display_name": "Python 3",
   "language": "python",
   "name": "python3"
  },
  "language_info": {
   "codemirror_mode": {
    "name": "ipython",
    "version": 3
   },
   "file_extension": ".py",
   "mimetype": "text/x-python",
   "name": "python",
   "nbconvert_exporter": "python",
   "pygments_lexer": "ipython3",
   "version": "3.8.8"
  }
 },
 "nbformat": 4,
 "nbformat_minor": 5
}
