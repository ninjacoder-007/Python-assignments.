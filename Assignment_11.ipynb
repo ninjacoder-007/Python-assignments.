{
 "cells": [
  {
   "cell_type": "code",
   "execution_count": null,
   "id": "5f580c41",
   "metadata": {},
   "outputs": [],
   "source": [
    "Q1. What is the concept of a metaclass?"
   ]
  },
  {
   "cell_type": "code",
   "execution_count": null,
   "id": "ee73a957",
   "metadata": {},
   "outputs": [],
   "source": [
    "A metaclass in Python is a class of a class that defines how a class behaves. A class is itself an instance of a metaclass. A class in Python defines how the instance of the class will behave. In order to understand metaclasses well, one needs to have prior experience working with Python classes. Before we dive deeper into metaclasses, let's get a few concepts out of the way"
   ]
  },
  {
   "cell_type": "code",
   "execution_count": null,
   "id": "dc27edab",
   "metadata": {},
   "outputs": [],
   "source": [
    "Q2. What is the best way to declare a class's metaclass?"
   ]
  },
  {
   "cell_type": "code",
   "execution_count": null,
   "id": "8c26f163",
   "metadata": {},
   "outputs": [],
   "source": [
    "At first, the word Metaprogramming seems like a very funky and alien thing but if you have ever worked with decorators or metaclasses, you were doing metaprogramming there all along. In a nutshell, we can say metaprogramming is the code that manipulates code. In this article, we are going to discuss Metaclasses, why and when we should use them, and what are the alternatives. This is a fairly advance Python topic and the following prerequisite is expected –\n",
    "\n",
    "OOP concept in Python\n",
    "Decorators in Python"
   ]
  },
  {
   "cell_type": "code",
   "execution_count": null,
   "id": "d3a6496a",
   "metadata": {},
   "outputs": [],
   "source": [
    "Q3. How do class decorators overlap with metaclasses for handling classes?"
   ]
  },
  {
   "cell_type": "code",
   "execution_count": null,
   "id": "b386d7e1",
   "metadata": {},
   "outputs": [],
   "source": [
    "A decorator is a function that takes a function as its only parameter and returns a function. This is helpful to “wrap” functionality with the same code over and over again. For example, above code can be re-written as following."
   ]
  },
  {
   "cell_type": "code",
   "execution_count": 1,
   "id": "4b9f22bf",
   "metadata": {},
   "outputs": [
    {
     "name": "stdout",
     "output_type": "stream",
     "text": [
      "Welcome to iNeuron\n"
     ]
    }
   ],
   "source": [
    "def decorate_message(fun):\n",
    "\n",
    "\n",
    "\tdef addWelcome(site_name):\n",
    "\t\treturn \"Welcome to \" + fun(site_name)\n",
    "\n",
    "\n",
    "\treturn addWelcome\n",
    "\n",
    "@decorate_message\n",
    "def site(site_name):\n",
    "\treturn site_name;\n",
    "\n",
    "\n",
    "print (site(\"iNeuron\"))"
   ]
  },
  {
   "cell_type": "code",
   "execution_count": null,
   "id": "453e0ccd",
   "metadata": {},
   "outputs": [],
   "source": [
    "Q4. How do class decorators overlap with metaclasses for handling instances?"
   ]
  },
  {
   "cell_type": "code",
   "execution_count": null,
   "id": "e8a964b9",
   "metadata": {},
   "outputs": [],
   "source": [
    "The class is the instance of metaclass . We can handle instances with the help of type function"
   ]
  }
 ],
 "metadata": {
  "kernelspec": {
   "display_name": "Python 3",
   "language": "python",
   "name": "python3"
  },
  "language_info": {
   "codemirror_mode": {
    "name": "ipython",
    "version": 3
   },
   "file_extension": ".py",
   "mimetype": "text/x-python",
   "name": "python",
   "nbconvert_exporter": "python",
   "pygments_lexer": "ipython3",
   "version": "3.8.8"
  }
 },
 "nbformat": 4,
 "nbformat_minor": 5
}
