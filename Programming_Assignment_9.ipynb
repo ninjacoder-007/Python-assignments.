{
 "cells": [
  {
   "cell_type": "code",
   "execution_count": null,
   "id": "03379830",
   "metadata": {},
   "outputs": [],
   "source": [
    "1. Write a Python program to check if the given number is a Disarium Number?"
   ]
  },
  {
   "cell_type": "code",
   "execution_count": 18,
   "id": "8c7063fa",
   "metadata": {},
   "outputs": [
    {
     "name": "stdout",
     "output_type": "stream",
     "text": [
      "135 is a disarium number\n"
     ]
    }
   ],
   "source": [
    "def calculateLength(n):  \n",
    "    length = 0;  \n",
    "    while(n != 0):  \n",
    "        length = length + 1;  \n",
    "        n = n//10;  \n",
    "    return length;  \n",
    "   \n",
    "num = 135;  \n",
    "rem = sum = 0;  \n",
    "len = calculateLength(num);  \n",
    "   \n",
    "#Makes a copy of the original number num  \n",
    "n = num;  \n",
    "   \n",
    "#Calculates the sum of digits powered with their respective position  \n",
    "while(num > 0):  \n",
    "    rem = num%10;  \n",
    "    sum = sum + int(rem**len);  \n",
    "    num = num//10;  \n",
    "    len = len - 1;  \n",
    "   \n",
    "  \n",
    "if(sum == n):  \n",
    "    print(str(n) + \" is a disarium number\");  \n",
    "else:  \n",
    "    print(str(n) + \" is not a disarium number\");  "
   ]
  },
  {
   "cell_type": "code",
   "execution_count": null,
   "id": "7d57a1a9",
   "metadata": {},
   "outputs": [],
   "source": [
    "2. Write a Python program to print all disarium numbers between 1 to 100?"
   ]
  },
  {
   "cell_type": "code",
   "execution_count": 28,
   "id": "e6bbb18a",
   "metadata": {},
   "outputs": [
    {
     "name": "stdout",
     "output_type": "stream",
     "text": [
      "The disarium numbers between 1 and 100 are : \n",
      "1\n",
      "2\n",
      "3\n",
      "4\n",
      "5\n",
      "6\n",
      "7\n",
      "8\n",
      "9\n",
      "89\n"
     ]
    }
   ],
   "source": [
    "def length_calculation(my_val):\n",
    "   len_val = 0\n",
    "   while(my_val != 0):\n",
    "      len_val = len_val + 1\n",
    "      my_val = my_val//10\n",
    "   return len_val\n",
    "def digit_sum(my_num):\n",
    "   remaining = sum_val = 0\n",
    "   len_fun = length_calculation(my_num)\n",
    "   while(my_num > 0):\n",
    "      remaining = my_num%10\n",
    "      sum_val = sum_val + (remaining**len_fun)\n",
    "      my_num = my_num//10\n",
    "      len_fun = len_fun - 1\n",
    "   return sum_val\n",
    "ini_result = 0\n",
    "print(\"The disarium numbers between 1 and 100 are : \")\n",
    "for i in range(1, 101):\n",
    "   ini_result = digit_sum(i)\n",
    "   if(ini_result == i):\n",
    "      print(i)"
   ]
  },
  {
   "cell_type": "code",
   "execution_count": null,
   "id": "22ee0102",
   "metadata": {},
   "outputs": [],
   "source": [
    "Write a python program to check if the given number is happy number?"
   ]
  },
  {
   "cell_type": "code",
   "execution_count": 33,
   "id": "cf0c8762",
   "metadata": {},
   "outputs": [
    {
     "name": "stdout",
     "output_type": "stream",
     "text": [
      "19 is a Happy number\n"
     ]
    }
   ],
   "source": [
    "def numSquareSum(n):\n",
    "    squareSum = 0;\n",
    "    while(n):\n",
    "        squareSum += (n % 10) * (n % 10);\n",
    "        n = int(n / 10);\n",
    "    return squareSum;\n",
    "\n",
    "# method return true if\n",
    "# n is Happy number\n",
    "def isHappynumber(n):\n",
    "\n",
    "    # initialize slow \n",
    "    # and fast by n\n",
    "    slow = n;\n",
    "    fast = n;\n",
    "    while(True):\n",
    "        \n",
    "        # move slow number\n",
    "        # by one iteration\n",
    "        slow = numSquareSum(slow);\n",
    "\n",
    "        # move fast number\n",
    "        # by two iteration\n",
    "        fast = numSquareSum(numSquareSum(fast));\n",
    "        if(slow != fast):\n",
    "            continue;\n",
    "        else:\n",
    "            break;\n",
    "\n",
    "    # if both number meet at 1, \n",
    "    # then return true\n",
    "    return (slow == 1);\n",
    "\n",
    "# Driver Code\n",
    "n = 19;\n",
    "if (isHappynumber(n)):\n",
    "    print(n , \"is a Happy number\");\n",
    "else:\n",
    "    print(n , \"is not a Happy number\");\n"
   ]
  },
  {
   "cell_type": "code",
   "execution_count": null,
   "id": "da0aa3d1",
   "metadata": {},
   "outputs": [],
   "source": [
    "4. Write a Python program to print all happy numbers between 1 and 100?"
   ]
  },
  {
   "cell_type": "code",
   "execution_count": 34,
   "id": "9f783694",
   "metadata": {},
   "outputs": [
    {
     "name": "stdout",
     "output_type": "stream",
     "text": [
      "List of happy numbers between 1 and 100: \n",
      "1\n",
      " \n",
      "7\n",
      " \n",
      "10\n",
      " \n",
      "13\n",
      " \n",
      "19\n",
      " \n",
      "23\n",
      " \n",
      "28\n",
      " \n",
      "31\n",
      " \n",
      "32\n",
      " \n",
      "44\n",
      " \n",
      "49\n",
      " \n",
      "68\n",
      " \n",
      "70\n",
      " \n",
      "79\n",
      " \n",
      "82\n",
      " \n",
      "86\n",
      " \n",
      "91\n",
      " \n",
      "94\n",
      " \n",
      "97\n",
      " \n",
      "100\n",
      " \n"
     ]
    }
   ],
   "source": [
    "def isHappyNumber(num):    \n",
    "    rem = sum = 0;    \n",
    "        \n",
    "    #Calculates the sum of squares of digits    \n",
    "    while(num > 0):    \n",
    "        rem = num%10;    \n",
    "        sum = sum + (rem*rem);    \n",
    "        num = num//10;    \n",
    "    return sum;    \n",
    "            \n",
    "#Displays all happy numbers between 1 and 100    \n",
    "print(\"List of happy numbers between 1 and 100: \");    \n",
    "for i in range(1, 101):    \n",
    "    result = i;    \n",
    "        \n",
    "    #Happy number always ends with 1 and     \n",
    "    #unhappy number ends in a cycle of repeating numbers which contains 4    \n",
    "    while(result != 1 and result != 4):    \n",
    "        result = isHappyNumber(result);    \n",
    "        \n",
    "    if(result == 1):    \n",
    "        print(i),    \n",
    "        print(\" \"),    "
   ]
  },
  {
   "cell_type": "code",
   "execution_count": null,
   "id": "27999a03",
   "metadata": {},
   "outputs": [],
   "source": [
    "5. Write a Python program to determine whether the given number is a Harshad Number?"
   ]
  },
  {
   "cell_type": "code",
   "execution_count": 36,
   "id": "88f611e6",
   "metadata": {},
   "outputs": [
    {
     "name": "stdout",
     "output_type": "stream",
     "text": [
      "166 is not a harshad number\n"
     ]
    }
   ],
   "source": [
    "num = 166;\n",
    "rem = sum = 0;\n",
    "\n",
    "n = num;    \n",
    "     \n",
    "#Calculates sum of digits    \n",
    "while(num > 0):    \n",
    "    rem = num%10;    \n",
    "    sum = sum + rem;    \n",
    "    num = num//10;    \n",
    "     \n",
    "#Checks whether the number is divisible by the sum of digits    \n",
    "if(n%sum == 0):    \n",
    "    print(str(n) + \" is a harshad number\");    \n",
    "else:    \n",
    "    print(str(n) + \" is not a harshad number\");"
   ]
  },
  {
   "cell_type": "code",
   "execution_count": null,
   "id": "3a7a7ca2",
   "metadata": {},
   "outputs": [],
   "source": [
    "6. Write a Python program to print all pronic numbers between 1 and 100?"
   ]
  },
  {
   "cell_type": "code",
   "execution_count": 38,
   "id": "5204b2ef",
   "metadata": {},
   "outputs": [
    {
     "name": "stdout",
     "output_type": "stream",
     "text": [
      "Pronic numbers between 1 and 100: \n",
      "2\n",
      " \n",
      "6\n",
      " \n",
      "12\n",
      " \n",
      "20\n",
      " \n",
      "30\n",
      " \n",
      "42\n",
      " \n",
      "56\n",
      " \n",
      "72\n",
      " \n",
      "90\n",
      " \n"
     ]
    }
   ],
   "source": [
    "def isPronicNumber(num):    \n",
    "    flag = False;    \n",
    "        \n",
    "    for j in range(1, num+1):    \n",
    "        #Checks for pronic number by multiplying consecutive numbers    \n",
    "        if((j*(j+1)) == num):    \n",
    "            flag = True;    \n",
    "            break;    \n",
    "    return flag;    \n",
    "     \n",
    "#Displays pronic numbers between 1 and 100    \n",
    "print(\"Pronic numbers between 1 and 100: \");    \n",
    "for i in range(1, 101):    \n",
    "    if(isPronicNumber(i)):    \n",
    "        print(i),    \n",
    "        print(\" \"),     "
   ]
  },
  {
   "cell_type": "code",
   "execution_count": null,
   "id": "793e8e69",
   "metadata": {},
   "outputs": [],
   "source": []
  }
 ],
 "metadata": {
  "kernelspec": {
   "display_name": "Python 3",
   "language": "python",
   "name": "python3"
  },
  "language_info": {
   "codemirror_mode": {
    "name": "ipython",
    "version": 3
   },
   "file_extension": ".py",
   "mimetype": "text/x-python",
   "name": "python",
   "nbconvert_exporter": "python",
   "pygments_lexer": "ipython3",
   "version": "3.8.8"
  }
 },
 "nbformat": 4,
 "nbformat_minor": 5
}
